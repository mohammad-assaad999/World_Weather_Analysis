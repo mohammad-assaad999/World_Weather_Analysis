{
 "metadata": {
  "language_info": {
   "codemirror_mode": {
    "name": "ipython",
    "version": 3
   },
   "file_extension": ".py",
   "mimetype": "text/x-python",
   "name": "python",
   "nbconvert_exporter": "python",
   "pygments_lexer": "ipython3",
   "version": "3.9.5"
  },
  "orig_nbformat": 2,
  "kernelspec": {
   "name": "python395jvsc74a57bd043cfb36995313a4dff0ec7188c9dad108c2174447617cd4efd46185f66681f05",
   "display_name": "Python 3.9.5 64-bit"
  },
  "metadata": {
   "interpreter": {
    "hash": "43cfb36995313a4dff0ec7188c9dad108c2174447617cd4efd46185f66681f05"
   }
  }
 },
 "nbformat": 4,
 "nbformat_minor": 2,
 "cells": [
  {
   "cell_type": "code",
   "execution_count": 1,
   "metadata": {},
   "outputs": [
    {
     "output_type": "stream",
     "name": "stdout",
     "text": [
      "Requirement already satisfied: gmaps in c:\\users\\azuz\\appdata\\local\\programs\\python\\python39\\lib\\site-packages (0.9.0)\n",
      "Requirement already satisfied: ipython>=5.3.0 in c:\\users\\azuz\\appdata\\roaming\\python\\python39\\site-packages (from gmaps) (7.23.0)\n",
      "Requirement already satisfied: ipywidgets>=7.0.0 in c:\\users\\azuz\\appdata\\local\\programs\\python\\python39\\lib\\site-packages (from gmaps) (7.6.3)\n",
      "Requirement already satisfied: traitlets>=4.3.0 in c:\\users\\azuz\\appdata\\roaming\\python\\python39\\site-packages (from gmaps) (5.0.5)\n",
      "Requirement already satisfied: geojson>=2.0.0 in c:\\users\\azuz\\appdata\\local\\programs\\python\\python39\\lib\\site-packages (from gmaps) (2.5.0)\n",
      "Requirement already satisfied: six in c:\\users\\azuz\\appdata\\roaming\\python\\python39\\site-packages (from gmaps) (1.15.0)\n",
      "Requirement already satisfied: matplotlib-inline in c:\\users\\azuz\\appdata\\roaming\\python\\python39\\site-packages (from ipython>=5.3.0->gmaps) (0.1.2)\n",
      "Requirement already satisfied: jedi>=0.16 in c:\\users\\azuz\\appdata\\roaming\\python\\python39\\site-packages (from ipython>=5.3.0->gmaps) (0.18.0)\n",
      "Requirement already satisfied: backcall in c:\\users\\azuz\\appdata\\roaming\\python\\python39\\site-packages (from ipython>=5.3.0->gmaps) (0.2.0)\n",
      "Requirement already satisfied: pygments in c:\\users\\azuz\\appdata\\roaming\\python\\python39\\site-packages (from ipython>=5.3.0->gmaps) (2.9.0)\n",
      "Requirement already satisfied: decorator in c:\\users\\azuz\\appdata\\roaming\\python\\python39\\site-packages (from ipython>=5.3.0->gmaps) (5.0.7)\n",
      "Requirement already satisfied: prompt-toolkit!=3.0.0,!=3.0.1,<3.1.0,>=2.0.0 in c:\\users\\azuz\\appdata\\roaming\\python\\python39\\site-packages (from ipython>=5.3.0->gmaps) (3.0.18)\n",
      "Requirement already satisfied: pickleshare in c:\\users\\azuz\\appdata\\roaming\\python\\python39\\site-packages (from ipython>=5.3.0->gmaps) (0.7.5)\n",
      "Requirement already satisfied: colorama in c:\\users\\azuz\\appdata\\roaming\\python\\python39\\site-packages (from ipython>=5.3.0->gmaps) (0.4.4)\n",
      "Requirement already satisfied: setuptools>=18.5 in c:\\users\\azuz\\appdata\\local\\programs\\python\\python39\\lib\\site-packages (from ipython>=5.3.0->gmaps) (56.0.0)\n",
      "Requirement already satisfied: nbformat>=4.2.0 in c:\\users\\azuz\\appdata\\local\\programs\\python\\python39\\lib\\site-packages (from ipywidgets>=7.0.0->gmaps) (5.1.3)\n",
      "Requirement already satisfied: jupyterlab-widgets>=1.0.0 in c:\\users\\azuz\\appdata\\local\\programs\\python\\python39\\lib\\site-packages (from ipywidgets>=7.0.0->gmaps) (1.0.0)\n",
      "Requirement already satisfied: widgetsnbextension~=3.5.0 in c:\\users\\azuz\\appdata\\local\\programs\\python\\python39\\lib\\site-packages (from ipywidgets>=7.0.0->gmaps) (3.5.1)\n",
      "Requirement already satisfied: ipykernel>=4.5.1 in c:\\users\\azuz\\appdata\\roaming\\python\\python39\\site-packages (from ipywidgets>=7.0.0->gmaps) (5.5.3)\n",
      "Requirement already satisfied: jupyter-client in c:\\users\\azuz\\appdata\\roaming\\python\\python39\\site-packages (from ipykernel>=4.5.1->ipywidgets>=7.0.0->gmaps) (6.1.12)\n",
      "Requirement already satisfied: tornado>=4.2 in c:\\users\\azuz\\appdata\\roaming\\python\\python39\\site-packages (from ipykernel>=4.5.1->ipywidgets>=7.0.0->gmaps) (6.1)\n",
      "Requirement already satisfied: parso<0.9.0,>=0.8.0 in c:\\users\\azuz\\appdata\\roaming\\python\\python39\\site-packages (from jedi>=0.16->ipython>=5.3.0->gmaps) (0.8.2)\n",
      "Requirement already satisfied: ipython-genutils in c:\\users\\azuz\\appdata\\roaming\\python\\python39\\site-packages (from nbformat>=4.2.0->ipywidgets>=7.0.0->gmaps) (0.2.0)\n",
      "Requirement already satisfied: jsonschema!=2.5.0,>=2.4 in c:\\users\\azuz\\appdata\\local\\programs\\python\\python39\\lib\\site-packages (from nbformat>=4.2.0->ipywidgets>=7.0.0->gmaps) (3.2.0)\n",
      "Requirement already satisfied: jupyter-core in c:\\users\\azuz\\appdata\\roaming\\python\\python39\\site-packages (from nbformat>=4.2.0->ipywidgets>=7.0.0->gmaps) (4.7.1)\n",
      "Requirement already satisfied: attrs>=17.4.0 in c:\\users\\azuz\\appdata\\local\\programs\\python\\python39\\lib\\site-packages (from jsonschema!=2.5.0,>=2.4->nbformat>=4.2.0->ipywidgets>=7.0.0->gmaps) (21.2.0)\n",
      "Requirement already satisfied: pyrsistent>=0.14.0 in c:\\users\\azuz\\appdata\\local\\programs\\python\\python39\\lib\\site-packages (from jsonschema!=2.5.0,>=2.4->nbformat>=4.2.0->ipywidgets>=7.0.0->gmaps) (0.17.3)\n",
      "Requirement already satisfied: wcwidth in c:\\users\\azuz\\appdata\\roaming\\python\\python39\\site-packages (from prompt-toolkit!=3.0.0,!=3.0.1,<3.1.0,>=2.0.0->ipython>=5.3.0->gmaps) (0.2.5)\n",
      "Requirement already satisfied: notebook>=4.4.1 in c:\\users\\azuz\\appdata\\local\\programs\\python\\python39\\lib\\site-packages (from widgetsnbextension~=3.5.0->ipywidgets>=7.0.0->gmaps) (6.4.0)\n",
      "Requirement already satisfied: argon2-cffi in c:\\users\\azuz\\appdata\\local\\programs\\python\\python39\\lib\\site-packages (from notebook>=4.4.1->widgetsnbextension~=3.5.0->ipywidgets>=7.0.0->gmaps) (20.1.0)\n",
      "Requirement already satisfied: prometheus-client in c:\\users\\azuz\\appdata\\local\\programs\\python\\python39\\lib\\site-packages (from notebook>=4.4.1->widgetsnbextension~=3.5.0->ipywidgets>=7.0.0->gmaps) (0.11.0)\n",
      "Requirement already satisfied: terminado>=0.8.3 in c:\\users\\azuz\\appdata\\local\\programs\\python\\python39\\lib\\site-packages (from notebook>=4.4.1->widgetsnbextension~=3.5.0->ipywidgets>=7.0.0->gmaps) (0.10.0)\n",
      "Requirement already satisfied: jinja2 in c:\\users\\azuz\\appdata\\local\\programs\\python\\python39\\lib\\site-packages (from notebook>=4.4.1->widgetsnbextension~=3.5.0->ipywidgets>=7.0.0->gmaps) (3.0.1)\n",
      "Requirement already satisfied: nbconvert in c:\\users\\azuz\\appdata\\local\\programs\\python\\python39\\lib\\site-packages (from notebook>=4.4.1->widgetsnbextension~=3.5.0->ipywidgets>=7.0.0->gmaps) (6.0.7)\n",
      "Requirement already satisfied: Send2Trash>=1.5.0 in c:\\users\\azuz\\appdata\\local\\programs\\python\\python39\\lib\\site-packages (from notebook>=4.4.1->widgetsnbextension~=3.5.0->ipywidgets>=7.0.0->gmaps) (1.5.0)\n",
      "Requirement already satisfied: pyzmq>=17 in c:\\users\\azuz\\appdata\\roaming\\python\\python39\\site-packages (from notebook>=4.4.1->widgetsnbextension~=3.5.0->ipywidgets>=7.0.0->gmaps) (22.0.3)\n",
      "Requirement already satisfied: python-dateutil>=2.1 in c:\\users\\azuz\\appdata\\roaming\\python\\python39\\site-packages (from jupyter-client->ipykernel>=4.5.1->ipywidgets>=7.0.0->gmaps) (2.8.1)\n",
      "Requirement already satisfied: pywin32>=1.0 in c:\\users\\azuz\\appdata\\roaming\\python\\python39\\site-packages (from jupyter-core->nbformat>=4.2.0->ipywidgets>=7.0.0->gmaps) (300)\n",
      "Requirement already satisfied: pywinpty>=1.1.0 in c:\\users\\azuz\\appdata\\local\\programs\\python\\python39\\lib\\site-packages (from terminado>=0.8.3->notebook>=4.4.1->widgetsnbextension~=3.5.0->ipywidgets>=7.0.0->gmaps) (1.1.1)\n",
      "Requirement already satisfied: cffi>=1.0.0 in c:\\users\\azuz\\appdata\\local\\programs\\python\\python39\\lib\\site-packages (from argon2-cffi->notebook>=4.4.1->widgetsnbextension~=3.5.0->ipywidgets>=7.0.0->gmaps) (1.14.5)\n",
      "Requirement already satisfied: pycparser in c:\\users\\azuz\\appdata\\local\\programs\\python\\python39\\lib\\site-packages (from cffi>=1.0.0->argon2-cffi->notebook>=4.4.1->widgetsnbextension~=3.5.0->ipywidgets>=7.0.0->gmaps) (2.20)\n",
      "Requirement already satisfied: MarkupSafe>=2.0 in c:\\users\\azuz\\appdata\\local\\programs\\python\\python39\\lib\\site-packages (from jinja2->notebook>=4.4.1->widgetsnbextension~=3.5.0->ipywidgets>=7.0.0->gmaps) (2.0.1)\n",
      "Requirement already satisfied: nbclient<0.6.0,>=0.5.0 in c:\\users\\azuz\\appdata\\local\\programs\\python\\python39\\lib\\site-packages (from nbconvert->notebook>=4.4.1->widgetsnbextension~=3.5.0->ipywidgets>=7.0.0->gmaps) (0.5.3)\n",
      "Requirement already satisfied: jupyterlab-pygments in c:\\users\\azuz\\appdata\\local\\programs\\python\\python39\\lib\\site-packages (from nbconvert->notebook>=4.4.1->widgetsnbextension~=3.5.0->ipywidgets>=7.0.0->gmaps) (0.1.2)\n",
      "Requirement already satisfied: mistune<2,>=0.8.1 in c:\\users\\azuz\\appdata\\local\\programs\\python\\python39\\lib\\site-packages (from nbconvert->notebook>=4.4.1->widgetsnbextension~=3.5.0->ipywidgets>=7.0.0->gmaps) (0.8.4)\n",
      "Requirement already satisfied: pandocfilters>=1.4.1 in c:\\users\\azuz\\appdata\\local\\programs\\python\\python39\\lib\\site-packages (from nbconvert->notebook>=4.4.1->widgetsnbextension~=3.5.0->ipywidgets>=7.0.0->gmaps) (1.4.3)\n",
      "Requirement already satisfied: testpath in c:\\users\\azuz\\appdata\\local\\programs\\python\\python39\\lib\\site-packages (from nbconvert->notebook>=4.4.1->widgetsnbextension~=3.5.0->ipywidgets>=7.0.0->gmaps) (0.5.0)\n",
      "Requirement already satisfied: entrypoints>=0.2.2 in c:\\users\\azuz\\appdata\\local\\programs\\python\\python39\\lib\\site-packages (from nbconvert->notebook>=4.4.1->widgetsnbextension~=3.5.0->ipywidgets>=7.0.0->gmaps) (0.3)\n",
      "Requirement already satisfied: bleach in c:\\users\\azuz\\appdata\\local\\programs\\python\\python39\\lib\\site-packages (from nbconvert->notebook>=4.4.1->widgetsnbextension~=3.5.0->ipywidgets>=7.0.0->gmaps) (3.3.0)\n",
      "Requirement already satisfied: defusedxml in c:\\users\\azuz\\appdata\\local\\programs\\python\\python39\\lib\\site-packages (from nbconvert->notebook>=4.4.1->widgetsnbextension~=3.5.0->ipywidgets>=7.0.0->gmaps) (0.7.1)\n",
      "Requirement already satisfied: async-generator in c:\\users\\azuz\\appdata\\local\\programs\\python\\python39\\lib\\site-packages (from nbclient<0.6.0,>=0.5.0->nbconvert->notebook>=4.4.1->widgetsnbextension~=3.5.0->ipywidgets>=7.0.0->gmaps) (1.10)\n",
      "Requirement already satisfied: nest-asyncio in c:\\users\\azuz\\appdata\\local\\programs\\python\\python39\\lib\\site-packages (from nbclient<0.6.0,>=0.5.0->nbconvert->notebook>=4.4.1->widgetsnbextension~=3.5.0->ipywidgets>=7.0.0->gmaps) (1.5.1)\n",
      "Note: you may need to restart the kernel to use updated packages.Requirement already satisfied: packaging in c:\\users\\azuz\\appdata\\local\\programs\\python\\python39\\lib\\site-packages (from bleach->nbconvert->notebook>=4.4.1->widgetsnbextension~=3.5.0->ipywidgets>=7.0.0->gmaps) (20.9)\n",
      "Requirement already satisfied: webencodings in c:\\users\\azuz\\appdata\\local\\programs\\python\\python39\\lib\\site-packages (from bleach->nbconvert->notebook>=4.4.1->widgetsnbextension~=3.5.0->ipywidgets>=7.0.0->gmaps) (0.5.1)\n",
      "Requirement already satisfied: pyparsing>=2.0.2 in c:\\users\\azuz\\appdata\\local\\programs\\python\\python39\\lib\\site-packages (from packaging->bleach->nbconvert->notebook>=4.4.1->widgetsnbextension~=3.5.0->ipywidgets>=7.0.0->gmaps) (2.4.7)\n",
      "WARNING: You are using pip version 21.1.1; however, version 21.1.2 is available.\n",
      "You should consider upgrading via the 'C:\\Users\\AZUZ\\AppData\\Local\\Programs\\Python\\Python39\\python.exe -m pip install --upgrade pip' command.\n",
      "\n"
     ]
    }
   ],
   "source": [
    "pip install gmaps"
   ]
  },
  {
   "cell_type": "code",
   "execution_count": 2,
   "metadata": {},
   "outputs": [],
   "source": [
    "# Import the dependencies.\n",
    "import pandas as pd\n",
    "import gmaps\n",
    "import requests\n",
    "# Import the API key.\n",
    "from config import g_key"
   ]
  },
  {
   "cell_type": "code",
   "execution_count": 3,
   "metadata": {},
   "outputs": [
    {
     "output_type": "execute_result",
     "data": {
      "text/plain": [
       "   City_ID            City Country                 Date      Lat       Lng  \\\n",
       "0        0    Punta Arenas      CL  2021-06-06 14:56:02 -53.1500  -70.9167   \n",
       "1        1      Georgetown      MY  2021-06-06 14:56:03   5.4112  100.3354   \n",
       "2        2            Bani      DO  2021-06-06 14:56:03  18.2833  -70.3333   \n",
       "3        3           Kapaa      US  2021-06-06 14:56:03  22.0752 -159.3190   \n",
       "4        4  Cabo San Lucas      MX  2021-06-06 14:56:03  22.8909 -109.9124   \n",
       "\n",
       "   Max Temp  Humidity  Cloudiness  Wind Speed  \n",
       "0     33.91        86           0        9.78  \n",
       "1     82.35        86          20        3.00  \n",
       "2     84.74        53          24       15.57  \n",
       "3     75.52        83          90       12.28  \n",
       "4     92.80        52          54        7.23  "
      ],
      "text/html": "<div>\n<style scoped>\n    .dataframe tbody tr th:only-of-type {\n        vertical-align: middle;\n    }\n\n    .dataframe tbody tr th {\n        vertical-align: top;\n    }\n\n    .dataframe thead th {\n        text-align: right;\n    }\n</style>\n<table border=\"1\" class=\"dataframe\">\n  <thead>\n    <tr style=\"text-align: right;\">\n      <th></th>\n      <th>City_ID</th>\n      <th>City</th>\n      <th>Country</th>\n      <th>Date</th>\n      <th>Lat</th>\n      <th>Lng</th>\n      <th>Max Temp</th>\n      <th>Humidity</th>\n      <th>Cloudiness</th>\n      <th>Wind Speed</th>\n    </tr>\n  </thead>\n  <tbody>\n    <tr>\n      <th>0</th>\n      <td>0</td>\n      <td>Punta Arenas</td>\n      <td>CL</td>\n      <td>2021-06-06 14:56:02</td>\n      <td>-53.1500</td>\n      <td>-70.9167</td>\n      <td>33.91</td>\n      <td>86</td>\n      <td>0</td>\n      <td>9.78</td>\n    </tr>\n    <tr>\n      <th>1</th>\n      <td>1</td>\n      <td>Georgetown</td>\n      <td>MY</td>\n      <td>2021-06-06 14:56:03</td>\n      <td>5.4112</td>\n      <td>100.3354</td>\n      <td>82.35</td>\n      <td>86</td>\n      <td>20</td>\n      <td>3.00</td>\n    </tr>\n    <tr>\n      <th>2</th>\n      <td>2</td>\n      <td>Bani</td>\n      <td>DO</td>\n      <td>2021-06-06 14:56:03</td>\n      <td>18.2833</td>\n      <td>-70.3333</td>\n      <td>84.74</td>\n      <td>53</td>\n      <td>24</td>\n      <td>15.57</td>\n    </tr>\n    <tr>\n      <th>3</th>\n      <td>3</td>\n      <td>Kapaa</td>\n      <td>US</td>\n      <td>2021-06-06 14:56:03</td>\n      <td>22.0752</td>\n      <td>-159.3190</td>\n      <td>75.52</td>\n      <td>83</td>\n      <td>90</td>\n      <td>12.28</td>\n    </tr>\n    <tr>\n      <th>4</th>\n      <td>4</td>\n      <td>Cabo San Lucas</td>\n      <td>MX</td>\n      <td>2021-06-06 14:56:03</td>\n      <td>22.8909</td>\n      <td>-109.9124</td>\n      <td>92.80</td>\n      <td>52</td>\n      <td>54</td>\n      <td>7.23</td>\n    </tr>\n  </tbody>\n</table>\n</div>"
     },
     "metadata": {},
     "execution_count": 3
    }
   ],
   "source": [
    "# Store the CSV you saved created in part one into a DataFrame.\n",
    "city_data_df = pd.read_csv(\"weather_data/cities.csv\")\n",
    "city_data_df.head()"
   ]
  },
  {
   "cell_type": "code",
   "execution_count": 4,
   "metadata": {},
   "outputs": [
    {
     "output_type": "execute_result",
     "data": {
      "text/plain": [
       "City_ID         int64\n",
       "City           object\n",
       "Country        object\n",
       "Date           object\n",
       "Lat           float64\n",
       "Lng           float64\n",
       "Max Temp      float64\n",
       "Humidity        int64\n",
       "Cloudiness      int64\n",
       "Wind Speed    float64\n",
       "dtype: object"
      ]
     },
     "metadata": {},
     "execution_count": 4
    }
   ],
   "source": [
    "city_data_df.dtypes"
   ]
  },
  {
   "cell_type": "code",
   "execution_count": 5,
   "metadata": {},
   "outputs": [],
   "source": [
    "# Configure gmaps to use your Google API key.\n",
    "gmaps.configure(api_key=g_key)"
   ]
  },
  {
   "cell_type": "code",
   "execution_count": 6,
   "metadata": {},
   "outputs": [
    {
     "output_type": "display_data",
     "data": {
      "text/plain": "Figure(layout=FigureLayout(height='420px'))",
      "application/vnd.jupyter.widget-view+json": {
       "version_major": 2,
       "version_minor": 0,
       "model_id": "611e7b640bd94737980675e9f16978aa"
      }
     },
     "metadata": {}
    }
   ],
   "source": [
    "# Heatmap of temperature\n",
    "# Get the latitude and longitude.\n",
    "locations = city_data_df[[\"Lat\", \"Lng\"]]\n",
    "# Get the maximum temperature.\n",
    "max_temp = city_data_df[\"Max Temp\"]\n",
    "# Assign the figure variable.\n",
    "fig = gmaps.figure(center=(30.0, 31.0), zoom_level=1.5)\n",
    "# Assign the heatmap variable.\n",
    "heat_layer = gmaps.heatmap_layer(locations, weights=max_temp, dissipating=False, max_intensity=300, point_radius=4)\n",
    "# Add the heatmap layer.\n",
    "fig.add_layer(heat_layer)\n",
    "# Call the figure to plot the data.\n",
    "fig"
   ]
  },
  {
   "cell_type": "code",
   "execution_count": 7,
   "metadata": {},
   "outputs": [
    {
     "output_type": "display_data",
     "data": {
      "text/plain": "Figure(layout=FigureLayout(height='420px'))",
      "application/vnd.jupyter.widget-view+json": {
       "version_major": 2,
       "version_minor": 0,
       "model_id": "a23749676e1b48ed9cdcef533a9c2564"
      }
     },
     "metadata": {}
    }
   ],
   "source": [
    "# Heatmap of percent humidity\n",
    "locations = city_data_df[[\"Lat\", \"Lng\"]]\n",
    "humidity = city_data_df[\"Humidity\"]\n",
    "fig = gmaps.figure(center=(30.0, 31.0), zoom_level=1.5)\n",
    "heat_layer = gmaps.heatmap_layer(locations, weights=humidity, dissipating=False, max_intensity=300, point_radius=4)\n",
    "\n",
    "fig.add_layer(heat_layer)\n",
    "# Call the figure to plot the data.\n",
    "fig"
   ]
  },
  {
   "cell_type": "code",
   "execution_count": 8,
   "metadata": {},
   "outputs": [
    {
     "output_type": "display_data",
     "data": {
      "text/plain": "Figure(layout=FigureLayout(height='420px'))",
      "application/vnd.jupyter.widget-view+json": {
       "version_major": 2,
       "version_minor": 0,
       "model_id": "29b30c0963254f3daf80dfddbc1e1d90"
      }
     },
     "metadata": {}
    }
   ],
   "source": [
    "# Heatmap of percent cloudiness\n",
    "locations = city_data_df[[\"Lat\", \"Lng\"]]\n",
    "clouds = city_data_df[\"Cloudiness\"]\n",
    "fig = gmaps.figure(center=(30.0, 31.0), zoom_level=1.5)\n",
    "heat_layer = gmaps.heatmap_layer(locations, weights=clouds, dissipating=False, max_intensity=300, point_radius=4)\n",
    "\n",
    "fig.add_layer(heat_layer)\n",
    "# Call the figure to plot the data.\n",
    "fig"
   ]
  },
  {
   "cell_type": "code",
   "execution_count": 9,
   "metadata": {},
   "outputs": [
    {
     "output_type": "display_data",
     "data": {
      "text/plain": "Figure(layout=FigureLayout(height='420px'))",
      "application/vnd.jupyter.widget-view+json": {
       "version_major": 2,
       "version_minor": 0,
       "model_id": "1e1a6a1840eb47359bf50f92be5b5cf4"
      }
     },
     "metadata": {}
    }
   ],
   "source": [
    "# Heatmap of percent cloudiness\n",
    "locations = city_data_df[[\"Lat\", \"Lng\"]]\n",
    "wind = city_data_df[\"Wind Speed\"]\n",
    "fig = gmaps.figure(center=(30.0, 31.0), zoom_level=1.5)\n",
    "heat_layer = gmaps.heatmap_layer(locations, weights=wind, dissipating=False, max_intensity=300, point_radius=4)\n",
    "\n",
    "fig.add_layer(heat_layer)\n",
    "# Call the figure to plot the data.\n",
    "fig"
   ]
  },
  {
   "cell_type": "code",
   "execution_count": 10,
   "metadata": {},
   "outputs": [],
   "source": [
    "# Ask the customer to add a minimum and maximum temperature value.\n",
    "min_temp = float(input(\"What is the minimum temperature you would like for your trip? \"))\n",
    "max_temp = float(input(\"What is the maximum temperature you would like for your trip? \"))"
   ]
  },
  {
   "cell_type": "code",
   "execution_count": 11,
   "metadata": {},
   "outputs": [
    {
     "output_type": "execute_result",
     "data": {
      "text/plain": [
       "    City_ID        City Country                 Date      Lat       Lng  \\\n",
       "1         1  Georgetown      MY  2021-06-06 14:56:03   5.4112  100.3354   \n",
       "2         2        Bani      DO  2021-06-06 14:56:03  18.2833  -70.3333   \n",
       "3         3       Kapaa      US  2021-06-06 14:56:03  22.0752 -159.3190   \n",
       "6         6       Wewak      PG  2021-06-06 14:56:04  -3.5534  143.6268   \n",
       "8         8   Jamestown      US  2021-06-06 14:52:39  42.0970  -79.2353   \n",
       "9         9       Avera      US  2021-06-06 14:56:04  33.1940  -82.5271   \n",
       "18       18    Juterbog      DE  2021-06-06 14:56:06  51.9833   13.0833   \n",
       "21       21     Naifaru      MV  2021-06-06 14:56:07   5.4444   73.3657   \n",
       "22       22  Sao Filipe      CV  2021-06-06 14:56:07  14.8961  -24.4956   \n",
       "23       23      Dongli      CN  2021-06-06 14:56:08  23.5656  116.8194   \n",
       "\n",
       "    Max Temp  Humidity  Cloudiness  Wind Speed  \n",
       "1      82.35        86          20        3.00  \n",
       "2      84.74        53          24       15.57  \n",
       "3      75.52        83          90       12.28  \n",
       "6      79.07        86         100        5.35  \n",
       "8      81.09        60           1        7.00  \n",
       "9      82.71        54          81        3.96  \n",
       "18     82.58        51          78        1.99  \n",
       "21     82.53        76          85       13.98  \n",
       "22     77.16        65          52        8.12  \n",
       "23     76.98        88          75       10.83  "
      ],
      "text/html": "<div>\n<style scoped>\n    .dataframe tbody tr th:only-of-type {\n        vertical-align: middle;\n    }\n\n    .dataframe tbody tr th {\n        vertical-align: top;\n    }\n\n    .dataframe thead th {\n        text-align: right;\n    }\n</style>\n<table border=\"1\" class=\"dataframe\">\n  <thead>\n    <tr style=\"text-align: right;\">\n      <th></th>\n      <th>City_ID</th>\n      <th>City</th>\n      <th>Country</th>\n      <th>Date</th>\n      <th>Lat</th>\n      <th>Lng</th>\n      <th>Max Temp</th>\n      <th>Humidity</th>\n      <th>Cloudiness</th>\n      <th>Wind Speed</th>\n    </tr>\n  </thead>\n  <tbody>\n    <tr>\n      <th>1</th>\n      <td>1</td>\n      <td>Georgetown</td>\n      <td>MY</td>\n      <td>2021-06-06 14:56:03</td>\n      <td>5.4112</td>\n      <td>100.3354</td>\n      <td>82.35</td>\n      <td>86</td>\n      <td>20</td>\n      <td>3.00</td>\n    </tr>\n    <tr>\n      <th>2</th>\n      <td>2</td>\n      <td>Bani</td>\n      <td>DO</td>\n      <td>2021-06-06 14:56:03</td>\n      <td>18.2833</td>\n      <td>-70.3333</td>\n      <td>84.74</td>\n      <td>53</td>\n      <td>24</td>\n      <td>15.57</td>\n    </tr>\n    <tr>\n      <th>3</th>\n      <td>3</td>\n      <td>Kapaa</td>\n      <td>US</td>\n      <td>2021-06-06 14:56:03</td>\n      <td>22.0752</td>\n      <td>-159.3190</td>\n      <td>75.52</td>\n      <td>83</td>\n      <td>90</td>\n      <td>12.28</td>\n    </tr>\n    <tr>\n      <th>6</th>\n      <td>6</td>\n      <td>Wewak</td>\n      <td>PG</td>\n      <td>2021-06-06 14:56:04</td>\n      <td>-3.5534</td>\n      <td>143.6268</td>\n      <td>79.07</td>\n      <td>86</td>\n      <td>100</td>\n      <td>5.35</td>\n    </tr>\n    <tr>\n      <th>8</th>\n      <td>8</td>\n      <td>Jamestown</td>\n      <td>US</td>\n      <td>2021-06-06 14:52:39</td>\n      <td>42.0970</td>\n      <td>-79.2353</td>\n      <td>81.09</td>\n      <td>60</td>\n      <td>1</td>\n      <td>7.00</td>\n    </tr>\n    <tr>\n      <th>9</th>\n      <td>9</td>\n      <td>Avera</td>\n      <td>US</td>\n      <td>2021-06-06 14:56:04</td>\n      <td>33.1940</td>\n      <td>-82.5271</td>\n      <td>82.71</td>\n      <td>54</td>\n      <td>81</td>\n      <td>3.96</td>\n    </tr>\n    <tr>\n      <th>18</th>\n      <td>18</td>\n      <td>Juterbog</td>\n      <td>DE</td>\n      <td>2021-06-06 14:56:06</td>\n      <td>51.9833</td>\n      <td>13.0833</td>\n      <td>82.58</td>\n      <td>51</td>\n      <td>78</td>\n      <td>1.99</td>\n    </tr>\n    <tr>\n      <th>21</th>\n      <td>21</td>\n      <td>Naifaru</td>\n      <td>MV</td>\n      <td>2021-06-06 14:56:07</td>\n      <td>5.4444</td>\n      <td>73.3657</td>\n      <td>82.53</td>\n      <td>76</td>\n      <td>85</td>\n      <td>13.98</td>\n    </tr>\n    <tr>\n      <th>22</th>\n      <td>22</td>\n      <td>Sao Filipe</td>\n      <td>CV</td>\n      <td>2021-06-06 14:56:07</td>\n      <td>14.8961</td>\n      <td>-24.4956</td>\n      <td>77.16</td>\n      <td>65</td>\n      <td>52</td>\n      <td>8.12</td>\n    </tr>\n    <tr>\n      <th>23</th>\n      <td>23</td>\n      <td>Dongli</td>\n      <td>CN</td>\n      <td>2021-06-06 14:56:08</td>\n      <td>23.5656</td>\n      <td>116.8194</td>\n      <td>76.98</td>\n      <td>88</td>\n      <td>75</td>\n      <td>10.83</td>\n    </tr>\n  </tbody>\n</table>\n</div>"
     },
     "metadata": {},
     "execution_count": 11
    }
   ],
   "source": [
    "# Filter the dataset to find the cities that fit the criteria.\n",
    "preferred_cities_df = city_data_df.loc[(city_data_df[\"Max Temp\"] <= max_temp) & \\\n",
    "                                       (city_data_df[\"Max Temp\"] >= min_temp)]\n",
    "preferred_cities_df.head(10)"
   ]
  },
  {
   "cell_type": "code",
   "execution_count": 12,
   "metadata": {},
   "outputs": [],
   "source": [
    "# Set parameters to search for a hotel.\n",
    "params = {\n",
    "    \"radius\": 5000,\n",
    "    \"type\": \"lodging\",\n",
    "    \"key\": g_key\n",
    "}"
   ]
  },
  {
   "cell_type": "code",
   "execution_count": 13,
   "metadata": {},
   "outputs": [],
   "source": [
    "# Dependencies and Setup\n",
    "import requests\n",
    "import gmaps\n",
    "\n",
    "# Import API key\n",
    "from config import g_key"
   ]
  },
  {
   "cell_type": "code",
   "execution_count": 14,
   "metadata": {},
   "outputs": [
    {
     "output_type": "execute_result",
     "data": {
      "text/plain": [
       "          City Country  Max Temp      Lat       Lng Hotel Name\n",
       "1   Georgetown      MY     82.35   5.4112  100.3354           \n",
       "2         Bani      DO     84.74  18.2833  -70.3333           \n",
       "3        Kapaa      US     75.52  22.0752 -159.3190           \n",
       "6        Wewak      PG     79.07  -3.5534  143.6268           \n",
       "8    Jamestown      US     81.09  42.0970  -79.2353           \n",
       "9        Avera      US     82.71  33.1940  -82.5271           \n",
       "18    Juterbog      DE     82.58  51.9833   13.0833           \n",
       "21     Naifaru      MV     82.53   5.4444   73.3657           \n",
       "22  Sao Filipe      CV     77.16  14.8961  -24.4956           \n",
       "23      Dongli      CN     76.98  23.5656  116.8194           "
      ],
      "text/html": "<div>\n<style scoped>\n    .dataframe tbody tr th:only-of-type {\n        vertical-align: middle;\n    }\n\n    .dataframe tbody tr th {\n        vertical-align: top;\n    }\n\n    .dataframe thead th {\n        text-align: right;\n    }\n</style>\n<table border=\"1\" class=\"dataframe\">\n  <thead>\n    <tr style=\"text-align: right;\">\n      <th></th>\n      <th>City</th>\n      <th>Country</th>\n      <th>Max Temp</th>\n      <th>Lat</th>\n      <th>Lng</th>\n      <th>Hotel Name</th>\n    </tr>\n  </thead>\n  <tbody>\n    <tr>\n      <th>1</th>\n      <td>Georgetown</td>\n      <td>MY</td>\n      <td>82.35</td>\n      <td>5.4112</td>\n      <td>100.3354</td>\n      <td></td>\n    </tr>\n    <tr>\n      <th>2</th>\n      <td>Bani</td>\n      <td>DO</td>\n      <td>84.74</td>\n      <td>18.2833</td>\n      <td>-70.3333</td>\n      <td></td>\n    </tr>\n    <tr>\n      <th>3</th>\n      <td>Kapaa</td>\n      <td>US</td>\n      <td>75.52</td>\n      <td>22.0752</td>\n      <td>-159.3190</td>\n      <td></td>\n    </tr>\n    <tr>\n      <th>6</th>\n      <td>Wewak</td>\n      <td>PG</td>\n      <td>79.07</td>\n      <td>-3.5534</td>\n      <td>143.6268</td>\n      <td></td>\n    </tr>\n    <tr>\n      <th>8</th>\n      <td>Jamestown</td>\n      <td>US</td>\n      <td>81.09</td>\n      <td>42.0970</td>\n      <td>-79.2353</td>\n      <td></td>\n    </tr>\n    <tr>\n      <th>9</th>\n      <td>Avera</td>\n      <td>US</td>\n      <td>82.71</td>\n      <td>33.1940</td>\n      <td>-82.5271</td>\n      <td></td>\n    </tr>\n    <tr>\n      <th>18</th>\n      <td>Juterbog</td>\n      <td>DE</td>\n      <td>82.58</td>\n      <td>51.9833</td>\n      <td>13.0833</td>\n      <td></td>\n    </tr>\n    <tr>\n      <th>21</th>\n      <td>Naifaru</td>\n      <td>MV</td>\n      <td>82.53</td>\n      <td>5.4444</td>\n      <td>73.3657</td>\n      <td></td>\n    </tr>\n    <tr>\n      <th>22</th>\n      <td>Sao Filipe</td>\n      <td>CV</td>\n      <td>77.16</td>\n      <td>14.8961</td>\n      <td>-24.4956</td>\n      <td></td>\n    </tr>\n    <tr>\n      <th>23</th>\n      <td>Dongli</td>\n      <td>CN</td>\n      <td>76.98</td>\n      <td>23.5656</td>\n      <td>116.8194</td>\n      <td></td>\n    </tr>\n  </tbody>\n</table>\n</div>"
     },
     "metadata": {},
     "execution_count": 14
    }
   ],
   "source": [
    "# Create DataFrame called hotel_df to store hotel names along with city, country, max temp, and coordinates.\n",
    "hotel_df = preferred_cities_df[[\"City\", \"Country\", \"Max Temp\", \"Lat\", \"Lng\"]].copy()\n",
    "hotel_df[\"Hotel Name\"] = \"\"\n",
    "hotel_df.head(10)"
   ]
  },
  {
   "cell_type": "code",
   "execution_count": 24,
   "metadata": {},
   "outputs": [
    {
     "output_type": "execute_result",
     "data": {
      "text/plain": [
       "'open_now': True},\n",
       "   'photos': [{'height': 2000,\n",
       "     'html_attributions': ['<a href=\"https://maps.google.com/maps/contrib/111815616573299411056\">Novotel Paris Les Halles</a>'],\n",
       "     'photo_reference': 'ATtYBwKNq_9nZRkd_6rEmq3_Tsng8q598Ceh75yjWqSIvXI8x9DuzRKbCQ9x2O_AnaCsASfKE4KInlu6QS3n7IiLAoKBIYNtufJieTaFLI6JvWKFZRLQmXt41DpHniG4dhVcIlpukJYK3AkdsmUUxaJ3WmE9ZUoxEEfok4-GOvwFR_6d5NNg',\n",
       "     'width': 3000}],\n",
       "   'place_id': 'ChIJGW2pNx9u5kcRI3oyL8NG5BQ',\n",
       "   'plus_code': {'compound_code': 'V86W+8J Paris, France',\n",
       "    'global_code': '8FW4V86W+8J'},\n",
       "   'rating': 4.4,\n",
       "   'reference': 'ChIJGW2pNx9u5kcRI3oyL8NG5BQ',\n",
       "   'scope': 'GOOGLE',\n",
       "   'types': ['lodging', 'point_of_interest', 'establishment'],\n",
       "   'user_ratings_total': 2122,\n",
       "   'vicinity': '8 Place Marguerite de Navarre, Paris'},\n",
       "  {'business_status': 'OPERATIONAL',\n",
       "   'geometry': {'location': {'lat': 48.86034799999999, 'lng': 2.344054},\n",
       "    'viewport': {'northeast': {'lat': 48.8616503302915,\n",
       "      'lng': 2.345521080291502},\n",
       "     'southwest': {'lat': 48.8589523697085, 'lng': 2.342823119708498}}},\n",
       "   'icon': 'https://maps.gstatic.com/mapfiles/place_api/icons/v1/png_71/lodging-71.png',\n",
       "   'name': 'Hôtel Ducs de Bourgogne',\n",
       "   'opening_hours': {'open_now': True},\n",
       "   'photos': [{'height': 1390,\n",
       "     'html_attributions': ['<a href=\"https://maps.google.com/maps/contrib/101411638353598558320\">Hôtel Ducs de Bourgogne</a>'],\n",
       "     'photo_reference': 'ATtYBwKKDskddLNB_6XT-n9MrGI2iRvUsr-2VUnEiMpamvNSwo6nov7pDd5nI1QAlyEslorYd_5PelpWtXq_rUVp6OV1r73RNJTBSoG4rk5A08TdL8ZAFr_GrQ4h8f25nXgDUwM9FN2QfUlN0g5FC6Ba8sPtQHYpvMDEFCXH064Ouw3sgneR',\n",
       "     'width': 2048}],\n",
       "   'place_id': 'ChIJifTG5yFu5kcRdnisbwxnAx4',\n",
       "   'plus_code': {'compound_code': 'V86V+4J Paris, France',\n",
       "    'global_code': '8FW4V86V+4J'},\n",
       "   'rating': 4.5,\n",
       "   'reference': 'ChIJifTG5yFu5kcRdnisbwxnAx4',\n",
       "   'scope': 'GOOGLE',\n",
       "   'types': ['lodging', 'point_of_interest', 'establishment'],\n",
       "   'user_ratings_total': 276,\n",
       "   'vicinity': '19 Rue du Pont Neuf, Paris'},\n",
       "  {'business_status': 'OPERATIONAL',\n",
       "   'geometry': {'location': {'lat': 48.8555091, 'lng': 2.3408736},\n",
       "    'viewport': {'northeast': {'lat': 48.8569076302915,\n",
       "      'lng': 2.342319280291502},\n",
       "     'southwest': {'lat': 48.8542096697085, 'lng': 2.339621319708498}}},\n",
       "   'icon': 'https://maps.gstatic.com/mapfiles/place_api/icons/v1/png_71/lodging-71.png',\n",
       "   'name': 'Citadines Saint-Germain-des-Prés Paris (Apart hotel Paris)',\n",
       "   'opening_hours': {'open_now': True},\n",
       "   'photos': [{'height': 4480,\n",
       "     'html_attributions': ['<a href=\"https://maps.google.com/maps/contrib/113188832595116816387\">Citadines Saint-Germain-des-Prés Paris</a>'],\n",
       "     'photo_reference': 'ATtYBwK4THJsMplj5NUttxI9L5ZlVWgOGtloUYzL4so4GtJXoNK5rCmL43Yfqv6LsHj9grk51O37qhGfGIAwoe2sDGGpCCuRo2kt6vrYxaZwr-gz4DRGRQVEJjPkvPh7uVcD_B7vV1uwdCPOLpVcPNJNtYSfiCb3gX1STFpmKQ8iuJoXo7IE',\n",
       "     'width': 6720}],\n",
       "   'place_id': 'ChIJo5pYcN9x5kcRERXdocMgqmE',\n",
       "   'plus_code': {'compound_code': 'V84R+68 Paris, France',\n",
       "    'global_code': '8FW4V84R+68'},\n",
       "   'rating': 4.3,\n",
       "   'reference': 'ChIJo5pYcN9x5kcRERXdocMgqmE',\n",
       "   'scope': 'GOOGLE',\n",
       "   'types': ['lodging', 'point_of_interest', 'establishment'],\n",
       "   'user_ratings_total': 664,\n",
       "   'vicinity': '53 ter Quai des Grands Augustins, Paris'},\n",
       "  {'business_status': 'OPERATIONAL',\n",
       "   'geometry': {'location': {'lat': 48.86634659999999, 'lng': 2.36064},\n",
       "    'viewport': {'northeast': {'lat': 48.86774953029149,\n",
       "      'lng': 2.361898330291501},\n",
       "     'southwest': {'lat': 48.86505156970849, 'lng': 2.359200369708498}}},\n",
       "   'icon': 'https://maps.gstatic.com/mapfiles/place_api/icons/v1/png_71/lodging-71.png',\n",
       "   'name': 'Paris France Hôtel',\n",
       "   'opening_hours': {'open_now': True},\n",
       "   'photos': [{'height': 2673,\n",
       "     'html_attributions': ['<a href=\"https://maps.google.com/maps/contrib/102332962500946068613\">Paris France Hôtel</a>'],\n",
       "     'photo_reference': 'ATtYBwJ1XeyXf10lQti1_jXOR0pPJqGfkwn8DTDFyIVcfb4_6K-3AVBlwBbpcFBMsJ3w-lpjKZwpOUwTDlltDapeCdX1ka6PmOkbFCAvlg3boYCulc6k65qpy9JSStMobyZwPuWQxTtv0HEB3g2MRKUOpaHnoZAZ4TbE57b8m5KL0jLQ78u6',\n",
       "     'width': 3463}],\n",
       "   'place_id': 'ChIJhXWLZg9u5kcRDVyqoZYgcmg',\n",
       "   'plus_code': {'compound_code': 'V986+G7 Paris, France',\n",
       "    'global_code': '8FW4V986+G7'},\n",
       "   'rating': 4.3,\n",
       "   'reference': 'ChIJhXWLZg9u5kcRDVyqoZYgcmg',\n",
       "   'scope': 'GOOGLE',\n",
       "   'types': ['lodging', 'point_of_interest', 'establishment'],\n",
       "   'user_ratings_total': 380,\n",
       "   'vicinity': '72 Rue de Turbigo, Paris'},\n",
       "  {'business_status': 'OPERATIONAL',\n",
       "   'geometry': {'location': {'lat': 48.86386539999999, 'lng': 2.3325488},\n",
       "    'viewport': {'northeast': {'lat': 48.8650759802915,\n",
       "      'lng': 2.333775730291502},\n",
       "     'southwest': {'lat': 48.8623780197085, 'lng': 2.331077769708498}}},\n",
       "   'icon': 'https://maps.gstatic.com/mapfiles/place_api/icons/v1/png_71/lodging-71.png',\n",
       "   'name': 'Hotel Regina Louvre',\n",
       "   'opening_hours': {'open_now': True},\n",
       "   'photos': [{'height': 3700,\n",
       "     'html_attributions': ['<a href=\"https://maps.google.com/maps/contrib/109908333790946649027\">Hôtel Regina Louvre</a>'],\n",
       "     'photo_reference': 'ATtYBwKYilUf7xpit76vgLJkfSQI7bm-cwwYC6y5PSDe4h8zEHhxJFmr-dK791UPoWwW7afJnVo-GY9SbkC-SqJPrAl1B_bTrjtGtcrA1xcQdKPAEV0ug6cvx18n-GwjMGrHqlS_L1bDckkdgBoUQXlON8JMfeoPGyuyP1PaZa4e7hFVIq3j',\n",
       "     'width': 5550}],\n",
       "   'place_id': 'ChIJP_-HCS9u5kcRsj9b1x7Pl8w',\n",
       "   'plus_code': {'compound_code': 'V87M+G2 Paris, France',\n",
       "    'global_code': '8FW4V87M+G2'},\n",
       "   'rating': 4.5,\n",
       "   'reference': 'ChIJP_-HCS9u5kcRsj9b1x7Pl8w',\n",
       "   'scope': 'GOOGLE',\n",
       "   'types': ['lodging',\n",
       "    'bar',\n",
       "    'restaurant',\n",
       "    'food',\n",
       "    'point_of_interest',\n",
       "    'establishment'],\n",
       "   'user_ratings_total': 501,\n",
       "   'vicinity': '2 Place des Pyramides, Paris'},\n",
       "  {'business_status': 'OPERATIONAL',\n",
       "   'geometry': {'location': {'lat': 48.84795229999999, 'lng': 2.370869},\n",
       "    'viewport': {'northeast': {'lat': 48.8492035302915,\n",
       "      'lng': 2.372290080291501},\n",
       "     'southwest': {'lat': 48.8465055697085, 'lng': 2.369592119708498}}},\n",
       "   'icon': 'https://maps.gstatic.com/mapfiles/place_api/icons/v1/png_71/lodging-71.png',\n",
       "   'name': 'ibis Paris Gare de Lyon Ledru Rollin 12ème',\n",
       "   'opening_hours': {'open_now': True},\n",
       "   'photos': [{'height': 3024,\n",
       "     'html_attributions': ['<a href=\"https://maps.google.com/maps/contrib/102166088584622554231\">cherry pyj</a>'],\n",
       "     'photo_reference': 'ATtYBwLp3_BoOOR7TEG8lN4fW1Q5zXv5iIKZT4YwmIycZMYKGgzvOiRYrXwecLexMJE62uVCKIT8HPG4RIOkODMy6rKNX0Cednmss_yYM6ozlyPblkENTCtZAVTY38SvtWhzPbKRLu4ZXYAZjXULqQyn-0mu1vCGL1C64K372fuZhB83kIk6',\n",
       "     'width': 4032}],\n",
       "   'place_id': 'ChIJ9RNxcQNy5kcRnZJ4vsuXcow',\n",
       "   'plus_code': {'compound_code': 'R9XC+58 Paris, France',\n",
       "    'global_code': '8FW4R9XC+58'},\n",
       "   'rating': 4,\n",
       "   'reference': 'ChIJ9RNxcQNy5kcRnZJ4vsuXcow',\n",
       "   'scope': 'GOOGLE',\n",
       "   'types': ['lodging', 'point_of_interest', 'establishment'],\n",
       "   'user_ratings_total': 761,\n",
       "   'vicinity': '41/43 Avenue Ledru Rollin, Paris'},\n",
       "  {'business_status': 'CLOSED_TEMPORARILY',\n",
       "   'geometry': {'location': {'lat': 48.8710647, 'lng': 2.34991},\n",
       "    'viewport': {'northeast': {'lat': 48.87241888029151,\n",
       "      'lng': 2.351188530291502},\n",
       "     'southwest': {'lat': 48.86972091970851, 'lng': 2.348490569708498}}},\n",
       "   'icon': 'https://maps.gstatic.com/mapfiles/place_api/icons/v1/png_71/lodging-71.png',\n",
       "   'name': 'Hôtel des Comédies Paris',\n",
       "   'permanently_closed': True,\n",
       "   'photos': [{'height': 4000,\n",
       "     'html_attributions': ['<a href=\"https://maps.google.com/maps/contrib/114696623290303183213\">Noble</a>'],\n",
       "     'photo_reference': 'ATtYBwKaR0juN-kiPPTnCHbOFcPuMyNJCHOEN8NbQ4_UY2CXqJJkOnkDKADyLu6lI3UnBSIwe78n-px8deCJ6PT6PpSjLqpY8MEE1fVqUFm9wLDYrfNAgQ59Nw8Fi0yltYbpnrjWLNgG-qLxvvNWoq8iozjEAULI18Bv5ngPVtTMWbmcxkLb',\n",
       "     'width': 3000}],\n",
       "   'place_id': 'ChIJn6ginxZu5kcRmAEK0OHm0cI',\n",
       "   'plus_code': {'compound_code': 'V8CX+CX Paris, France',\n",
       "    'global_code': '8FW4V8CX+CX'},\n",
       "   'rating': 4.2,\n",
       "   'reference': 'ChIJn6ginxZu5kcRmAEK0OHm0cI',\n",
       "   'scope': 'GOOGLE',\n",
       "   'types': ['lodging', 'point_of_interest', 'establishment'],\n",
       "   'user_ratings_total': 194,\n",
       "   'vicinity': \"8 Rue d'Hauteville, Paris\"},\n",
       "  {'business_status': 'OPERATIONAL',\n",
       "   'geometry': {'location': {'lat': 48.84754640000001, 'lng': 2.3718722},\n",
       "    'viewport': {'northeast': {'lat': 48.8488750302915,\n",
       "      'lng': 2.373125480291502},\n",
       "     'southwest': {'lat': 48.8461770697085, 'lng': 2.370427519708498}}},\n",
       "   'icon': 'https://maps.gstatic.com/mapfiles/place_api/icons/v1/png_71/lodging-71.png',\n",
       "   'name': 'Hôtel De France Gare de Lyon Bastille',\n",
       "   'photos': [{'height': 787,\n",
       "     'html_attributions': ['<a href=\"https://maps.google.com/maps/contrib/117462031751048846575\">Hôtel De France Gare de Lyon Bastille</a>'],\n",
       "     'photo_reference': 'ATtYBwI8aJWsvca9Ooq-UqP1iC86VRiPZre1Ke1VwALznQvOIDFWYH0jILfot2nxP9aw9TZQIrlXa__d5EY_vgNX6YFsv9syjsyC_2gGYm_7Lj5h9l0qkviJTL2lrP1yiWcmbgMiBCh3rDIz6VZhSww2olmKBwOcBndnWWUFkuns29D5fcNw',\n",
       "     'width': 1181}],\n",
       "   'place_id': 'ChIJz6DBYgNy5kcRhOu1LhDIECM',\n",
       "   'plus_code': {'compound_code': 'R9XC+2P Paris, France',\n",
       "    'global_code': '8FW4R9XC+2P'},\n",
       "   'rating': 3.3,\n",
       "   'reference': 'ChIJz6DBYgNy5kcRhOu1LhDIECM',\n",
       "   'scope': 'GOOGLE',\n",
       "   'types': ['lodging', 'point_of_interest', 'establishment'],\n",
       "   'user_ratings_total': 380,\n",
       "   'vicinity': '12 Rue de Lyon, Paris'},\n",
       "  {'business_status': 'OPERATIONAL',\n",
       "   'geometry': {'location': {'lat': 48.8717386, 'lng': 2.3447052},\n",
       "    'viewport': {'northeast': {'lat': 48.8731394302915,\n",
       "      'lng': 2.346067130291502},\n",
       "     'southwest': {'lat': 48.8704414697085, 'lng': 2.343369169708498}}},\n",
       "   'icon': 'https://maps.gstatic.com/mapfiles/place_api/icons/v1/png_71/lodging-71.png',\n",
       "   'name': 'Hôtel Prélude Opéra Paris',\n",
       "   'opening_hours': {'open_now': True},\n",
       "   'photos': [{'height': 1152,\n",
       "     'html_attributions': ['<a href=\"https://maps.google.com/maps/contrib/103624474621674096768\">carlos MARTINEZ</a>'],\n",
       "     'photo_reference': 'ATtYBwIh7TC6AhZJOAM3_OIED5aXFBkofNxsoUCwXFEh5hLDq4ndFkOCc9dGdnGxpXQGEnDh8k97IGUOQ-v71AGIcwEzmrw-MGr8GZ9WhEEEmpiJ98Rh_o7yI0FemXJ9DvL8c5cHm1jO4xfLHfRiDsi8_Su7XEAFApzOBvajdmROEGhFZQ5T',\n",
       "     'width': 2048}],\n",
       "   'place_id': 'ChIJ8e3Qcj5u5kcR2MIGwNxustk',\n",
       "   'plus_code': {'compound_code': 'V8CV+MV Paris, France',\n",
       "    'global_code': '8FW4V8CV+MV'},\n",
       "   'rating': 4.1,\n",
       "   'reference': 'ChIJ8e3Qcj5u5kcR2MIGwNxustk',\n",
       "   'scope': 'GOOGLE',\n",
       "   'types': ['lodging', 'point_of_interest', 'establishment'],\n",
       "   'user_ratings_total': 335,\n",
       "   'vicinity': '8 Cité Bergère, Paris'},\n",
       "  {'business_status': 'OPERATIONAL',\n",
       "   'geometry': {'location': {'lat': 48.8423491, 'lng': 2.3632246},\n",
       "    'viewport': {'northeast': {'lat': 48.84365908029149,\n",
       "      'lng': 2.364711430291502},\n",
       "     'southwest': {'lat': 48.8409611197085, 'lng': 2.362013469708498}}},\n",
       "   'icon': 'https://maps.gstatic.com/mapfiles/place_api/icons/v1/png_71/lodging-71.png',\n",
       "   'name': 'Hôtel Libertel Austerlitz Jardin des Plantes',\n",
       "   'opening_hours': {'open_now': True},\n",
       "   'photos': [{'height': 4480,\n",
       "     'html_attributions': ['<a href=\"https://maps.google.com/maps/contrib/114802271282641766772\">Hôtel Libertel Austerlitz Jardin des Plantes</a>'],\n",
       "     'photo_reference': 'ATtYBwJ9Qkvk5meUT1hFncUc9YInjnzykUfXE0bolGX4-UKDeuW4vx6Usw1z-ZUU6DdjZM3atYsumqzBXuQHQoDixmSWnEwelWxW7nai7j1eoPYMuKpD5pkG3Xr4wU-QdlOpE-igM43pR7a70cwdeJJ7yZ55bMTCTJMakwxk0Yrm3eAhDguL',\n",
       "     'width': 6720}],\n",
       "   'place_id': 'ChIJe-udXPZx5kcRKURHNFv5BSw',\n",
       "   'plus_code': {'compound_code': 'R9R7+W7 Paris, France',\n",
       "    'global_code': '8FW4R9R7+W7'},\n",
       "   'rating': 4,\n",
       "   'reference': 'ChIJe-udXPZx5kcRKURHNFv5BSw',\n",
       "   'scope': 'GOOGLE',\n",
       "   'types': ['lodging', 'point_of_interest', 'establishment'],\n",
       "   'user_ratings_total': 433,\n",
       "   'vicinity': \"12 Boulevard de l'Hôpital, Paris\"},\n",
       "  {'business_status': 'OPERATIONAL',\n",
       "   'geometry': {'location': {'lat': 48.864294, 'lng': 2.3307997},\n",
       "    'viewport': {'northeast': {'lat': 48.8655772302915,\n",
       "      'lng': 2.332153880291502},\n",
       "     'southwest': {'lat': 48.8628792697085, 'lng': 2.329455919708498}}},\n",
       "   'icon': 'https://maps.gstatic.com/mapfiles/place_api/icons/v1/png_71/lodging-71.png',\n",
       "   'name': 'Saint James Albany Paris Hôtel Spa',\n",
       "   'opening_hours': {'open_now': True},\n",
       "   'photos': [{'height': 650,\n",
       "     'html_attributions': ['<a href=\"https://maps.google.com/maps/contrib/108570400659068256718\">Saint James Albany Paris Hôtel Spa</a>'],\n",
       "     'photo_reference': 'ATtYBwIGUFh_6hLFheK94A1ic_f2aivs6NAlQum4mrGweArgOK2Q5uGxoCYymWa3It6lqNoJQMdzYkDq6P622tZlWhekRFLpaW33X6ojPO7dTPq0RM8yHpf-53bXWZXlOTOTyNJjhiVCqYoUWyMnStXcM9SM98wLqE4qR5xjVWxk5nTwOHya',\n",
       "     'width': 802}],\n",
       "   'place_id': 'ChIJ8znTVS5u5kcREq8TmzOICFs',\n",
       "   'plus_code': {'compound_code': 'V87J+P8 Paris, France',\n",
       "    'global_code': '8FW4V87J+P8'},\n",
       "   'rating': 4,\n",
       "   'reference': 'ChIJ8znTVS5u5kcREq8TmzOICFs',\n",
       "   'scope': 'GOOGLE',\n",
       "   'types': ['lodging',\n",
       "    'bar',\n",
       "    'restaurant',\n",
       "    'food',\n",
       "    'point_of_interest',\n",
       "    'establishment'],\n",
       "   'user_ratings_total': 1073,\n",
       "   'vicinity': '202 Rue de Rivoli, Paris'},\n",
       "  {'business_status': 'OPERATIONAL',\n",
       "   'geometry': {'location': {'lat': 48.87110329999999, 'lng': 2.3389728},\n",
       "    'viewport': {'northeast': {'lat': 48.8724588802915,\n",
       "      'lng': 2.340112930291502},\n",
       "     'southwest': {'lat': 48.8697609197085, 'lng': 2.337414969708499}}},\n",
       "   'icon': 'https://maps.gstatic.com/mapfiles/place_api/icons/v1/png_71/lodging-71.png',\n",
       "   'name': 'Hôtel Icône',\n",
       "   'opening_hours': {'open_now': True},\n",
       "   'photos': [{'height': 1066,\n",
       "     'html_attributions': ['<a href=\"https://maps.google.com/maps/contrib/108137830440312077288\">Hôtel Icône</a>'],\n",
       "     'photo_reference': 'ATtYBwINobkUZ-5qeUdtGIo5LWKHGzx7Fgn6NgJbk_NFpa1i5102E9fIrmwDShQ-5AQTLUhwRfhHXKOj3HE7MiPZa8xDPYYUUpZ8a1I1Aw2Rj8gwRO0Si1ZrOlsS_GSzeVhyZnmeVVbt0JcRpo16oGaRnWj31lXpjzrk3CsoedVuEy4ZyBlT',\n",
       "     'width': 1600}],\n",
       "   'place_id': 'ChIJpQvq5Dtu5kcR0COam2f7v_I',\n",
       "   'plus_code': {'compound_code': 'V8CQ+CH Paris, France',\n",
       "    'global_code': '8FW4V8CQ+CH'},\n",
       "   'rating': 3.8,\n",
       "   'reference': 'ChIJpQvq5Dtu5kcR0COam2f7v_I',\n",
       "   'scope': 'GOOGLE',\n",
       "   'types': ['lodging', 'point_of_interest', 'establishment'],\n",
       "   'user_ratings_total': 138,\n",
       "   'vicinity': \"4 Rue d'Amboise, Paris\"},\n",
       "  {'business_status': 'OPERATIONAL',\n",
       "   'geometry': {'location': {'lat': 48.8524547, 'lng': 2.3472064},\n",
       "    'viewport': {'northeast': {'lat': 48.8538838802915,\n",
       "      'lng': 2.348601530291502},\n",
       "     'southwest': {'lat': 48.8511859197085, 'lng': 2.345903569708498}}},\n",
       "   'icon': 'https://maps.gstatic.com/mapfiles/place_api/icons/v1/png_71/lodging-71.png',\n",
       "   'name': 'Hôtel Esmeralda',\n",
       "   'opening_hours': {'open_now': True},\n",
       "   'photos': [{'height': 1960,\n",
       "     'html_attributions': ['<a href=\"https://maps.google.com/maps/contrib/106443224837840180239\">Fraz A. Khan</a>'],\n",
       "     'photo_reference': 'ATtYBwK3rp_ptHvSkkjmgoHHZD22Eh4Kdg_V4GSVw5D4so_M-9DmVhseWj2Tm6OZUAhuFzB2kyvlQfYWQ89ODYOrv56Gyiz5HYCIhcbed6pZokSZWU8En4Ug09LXNrVoaxgqWxdXtJDeqmA86VrEEN0tGjCnGmELpjMrPd6zs2i2sa-4mm0z',\n",
       "     'width': 4032}],\n",
       "   'place_id': 'ChIJO_g_H-Fx5kcRmaabUHA3dT4',\n",
       "   'plus_code': {'compound_code': 'V82W+XV Paris, France',\n",
       "    'global_code': '8FW4V82W+XV'},\n",
       "   'rating': 4.1,\n",
       "   'reference': 'ChIJO_g_H-Fx5kcRmaabUHA3dT4',\n",
       "   'scope': 'GOOGLE',\n",
       "   'types': ['lodging', 'point_of_interest', 'establishment'],\n",
       "   'user_ratings_total': 142,\n",
       "   'vicinity': '4 Rue Saint-Julien le Pauvre, Paris'},\n",
       "  {'business_status': 'OPERATIONAL',\n",
       "   'geometry': {'location': {'lat': 48.8530901, 'lng': 2.3447174},\n",
       "    'viewport': {'northeast': {'lat': 48.8544403302915,\n",
       "      'lng': 2.346001280291502},\n",
       "     'southwest': {'lat': 48.8517423697085, 'lng': 2.343303319708498}}},\n",
       "   'icon': 'https://maps.gstatic.com/mapfiles/place_api/icons/v1/png_71/lodging-71.png',\n",
       "   'name': 'Albe Hotel',\n",
       "   'opening_hours': {'open_now': True},\n",
       "   'photos': [{'height': 1152,\n",
       "     'html_attributions': ['<a href=\"https://maps.google.com/maps/contrib/117571951379278191466\">Albe Hotel Saint Michel</a>'],\n",
       "     'photo_reference': 'ATtYBwKWoX9XbsKYIYlotFFUHXsL1E9biIUxunuS1RmJ5w4mUDKqSrolqsbFdYA9DWbrjbWS-HRI7I7gT1gQHZM8Ehg4sUgkpUHtpMXKjR06SXyaR8DgdQ4BmryGhCT4sX_kzoRTLhyrC2LuUYrEJ4xw3Ar6O0GDgDik4XNXV9COnqrVvuC7',\n",
       "     'width': 1600}],\n",
       "   'place_id': 'ChIJ8R5-hOBx5kcRsCOdfj8GLeY',\n",
       "   'plus_code': {'compound_code': 'V83V+6V Paris, France',\n",
       "    'global_code': '8FW4V83V+6V'},\n",
       "   'rating': 4.4,\n",
       "   'reference': 'ChIJ8R5-hOBx5kcRsCOdfj8GLeY',\n",
       "   'scope': 'GOOGLE',\n",
       "   'types': ['lodging', 'point_of_interest', 'establishment'],\n",
       "   'user_ratings_total': 321,\n",
       "   'vicinity': '1 Rue de la Harpe, Paris'},\n",
       "  {'business_status': 'OPERATIONAL',\n",
       "   'geometry': {'location': {'lat': 48.8499394, 'lng': 2.3462397},\n",
       "    'viewport': {'northeast': {'lat': 48.8512682802915,\n",
       "      'lng': 2.347501880291502},\n",
       "     'southwest': {'lat': 48.8485703197085, 'lng': 2.344803919708498}}},\n",
       "   'icon': 'https://maps.gstatic.com/mapfiles/place_api/icons/v1/png_71/lodging-71.png',\n",
       "   'name': 'Home Latin',\n",
       "   'photos': [{'height': 606,\n",
       "     'html_attributions': ['<a href=\"https://maps.google.com/maps/contrib/105830788751825835396\">Peter Sheehan</a>'],\n",
       "     'photo_reference': 'ATtYBwIPFNmEVqc-FY7r4WfcCSTROM9ORT3Z3ahF051VgyXqm3zLynigIXa91SJCC60zeCsFoupT61VCQuvasHcotdg0kdlCKfeN8NDnXSEtLAT69C4X1viRyOsQoum8Ap95cEPlyFQv7VO8gpfxhbr-vxXSxlptPGXguePuoYdqtJ1kXBPZ',\n",
       "     'width': 1080}],\n",
       "   'place_id': 'ChIJMWNDIudx5kcRupjNdNDYKkw',\n",
       "   'plus_code': {'compound_code': 'R8XW+XF Paris, France',\n",
       "    'global_code': '8FW4R8XW+XF'},\n",
       "   'rating': 3.6,\n",
       "   'reference': 'ChIJMWNDIudx5kcRupjNdNDYKkw',\n",
       "   'scope': 'GOOGLE',\n",
       "   'types': ['lodging', 'point_of_interest', 'establishment'],\n",
       "   'user_ratings_total': 265,\n",
       "   'vicinity': '15-17 Rue du Sommerard, Paris'},\n",
       "  {'business_status': 'OPERATIONAL',\n",
       "   'geometry': {'location': {'lat': 48.85473870000001, 'lng': 2.3395455},\n",
       "    'viewport': {'northeast': {'lat': 48.8561127802915,\n",
       "      'lng': 2.340820530291502},\n",
       "     'southwest': {'lat': 48.8534148197085, 'lng': 2.338122569708498}}},\n",
       "   'icon': 'https://maps.gstatic.com/mapfiles/place_api/icons/v1/png_71/lodging-71.png',\n",
       "   'name': \"Hôtel d'Aubusson\",\n",
       "   'opening_hours': {'open_now': True},\n",
       "   'photos': [{'height': 2174,\n",
       "     'html_attributions': ['<a href=\"https://maps.google.com/maps/contrib/115702439863948549296\">Hôtel d&#39;Aubusson Paris</a>'],\n",
       "     'photo_reference': 'ATtYBwLZLNKwGsP-5ybAC2M_Jrt-zRH5h3_ieKHapuTJDShKH4UszWIs0SMJeBT1Hs6abvQN7u4yYlOVULgaV6wXjftV8KPOqSScYWDufvNK9MqWQW04E761VUUWDTl8Lb2FsPIrB3_YgoxV4qvTk_s9EaUWMPqyf7G0znrfSh8alf2VNUF7',\n",
       "     'width': 1739}],\n",
       "   'place_id': 'ChIJk6ztMN9x5kcREpQ8edWOs7E',\n",
       "   'plus_code': {'compound_code': 'V83Q+VR Paris, France',\n",
       "    'global_code': '8FW4V83Q+VR'},\n",
       "   'rating': 4.7,\n",
       "   'reference': 'ChIJk6ztMN9x5kcREpQ8edWOs7E',\n",
       "   'scope': 'GOOGLE',\n",
       "   'types': ['lodging', 'point_of_interest', 'establishment'],\n",
       "   'user_ratings_total': 274,\n",
       "   'vicinity': '33 Rue Dauphine, Paris'},\n",
       "  {'business_status': 'OPERATIONAL',\n",
       "   'geometry': {'location': {'lat': 48.85184049999999, 'lng': 2.3448082},\n",
       "    'viewport': {'northeast': {'lat': 48.85313113029149,\n",
       "      'lng': 2.346144730291502},\n",
       "     'southwest': {'lat': 48.8504331697085, 'lng': 2.343446769708498}}},\n",
       "   'icon': 'https://maps.gstatic.com/mapfiles/place_api/icons/v1/png_71/lodging-71.png',\n",
       "   'name': 'Hôtel 4 étoiles Parc Saint Séverin Paris 5ème - Esprit de France',\n",
       "   'opening_hours': {'open_now': True},\n",
       "   'photos': [{'height': 2362,\n",
       "     'html_attributions': ['<a href=\"https://maps.google.com/maps/contrib/107542132357877294567\">Hôtel 4 étoiles Parc Saint Séverin Paris 5ème - Esprit de France</a>'],\n",
       "     'photo_reference': 'ATtYBwJr4t6sJY_m3smeoYNehZ2Z1bj9vTxFcMt5uV9QAuvZ1rZF0wPhhCYsJCrDOPTdYq4pXd2dwsd4BaXSqxQDb5alMw8iLUaT9E4pX7X_hMluaCTp_zAUQKeo0JKzOFeO6BBzoPcgb1Xgac_63u4B3UceVpxgyFHkXclnHu-4__yEWinF',\n",
       "     'width': 3776}],\n",
       "   'place_id': 'ChIJ9--kuuBx5kcRojwQ1yEK2cY',\n",
       "   'plus_code': {'compound_code': 'V82V+PW Paris, France',\n",
       "    'global_code': '8FW4V82V+PW'},\n",
       "   'rating': 4.6,\n",
       "   'reference': 'ChIJ9--kuuBx5kcRojwQ1yEK2cY',\n",
       "   'scope': 'GOOGLE',\n",
       "   'types': ['lodging', 'point_of_interest', 'establishment'],\n",
       "   'user_ratings_total': 139,\n",
       "   'vicinity': '22 Rue de la Parcheminerie, Paris'}],\n",
       " 'status': 'OK'}"
      ]
     },
     "metadata": {},
     "execution_count": 24
    }
   ],
   "source": [
    "# Set the parameters to search for a hotel in Paris.\n",
    "params = {\n",
    "    \"radius\": 5000,\n",
    "    \"types\": \"lodging\",\n",
    "    \"key\": g_key,\n",
    "    \"location\": \"48.8566, 2.3522\"}\n",
    "# Use base URL to search for hotels in Paris.\n",
    "base_url = \"https://maps.googleapis.com/maps/api/place/nearbysearch/json\"\n",
    "# Make request and get the JSON data from the search.\n",
    "hotels = requests.get(base_url, params=params).json()\n",
    "\n",
    "hotels"
   ]
  },
  {
   "cell_type": "code",
   "execution_count": 32,
   "metadata": {},
   "outputs": [],
   "source": [
    "# Iterate through the DataFrame.\n",
    "for index, row in hotel_df.iterrows():\n",
    "    # Get the latitude and longitude.\n",
    "    lat = row[\"Lat\"]\n",
    "    lng = row[\"Lng\"]\n",
    "\n",
    "    # Add the latitude and longitude to location key for the params dictionary.\n",
    "    params[\"location\"] = f\"{lat},{lng}\"\n",
    "\n",
    "    # Use the search term: \"lodging\" and our latitude and longitude.\n",
    "    base_url = \"https://maps.googleapis.com/maps/api/place/nearbysearch/json\"\n",
    "    # Make request and get the JSON data from the search.\n",
    "    hotels = requests.get(base_url, params=params).json()\n",
    "    # Grab the first hotel from the results and store the name.\n",
    "try:\n",
    "    hotel_df.loc[index, \"Hotel Name\"] = hotels[\"results\"][0][\"name\"]\n",
    "except (IndexError):\n",
    "    print(\"Hotel not found... skipping.\")"
   ]
  },
  {
   "cell_type": "code",
   "execution_count": 33,
   "metadata": {},
   "outputs": [
    {
     "output_type": "display_data",
     "data": {
      "text/plain": "Figure(layout=FigureLayout(height='420px'))",
      "application/vnd.jupyter.widget-view+json": {
       "version_major": 2,
       "version_minor": 0,
       "model_id": "70dd4d6998d94e66a257988e821dea8e"
      }
     },
     "metadata": {}
    }
   ],
   "source": [
    "# Add a heatmap of temperature for the vacation spots.\n",
    "locations = hotel_df[[\"Lat\", \"Lng\"]]\n",
    "max_temp = hotel_df[\"Max Temp\"]\n",
    "fig = gmaps.figure(center=(30.0, 31.0), zoom_level=1.5)\n",
    "heat_layer = gmaps.heatmap_layer(locations, weights=max_temp, dissipating=False,\n",
    "             max_intensity=300, point_radius=4)\n",
    "\n",
    "fig.add_layer(heat_layer)\n",
    "# Call the figure to plot the data.\n",
    "fig"
   ]
  },
  {
   "cell_type": "code",
   "execution_count": 34,
   "metadata": {},
   "outputs": [
    {
     "output_type": "display_data",
     "data": {
      "text/plain": "Figure(layout=FigureLayout(height='420px'))",
      "application/vnd.jupyter.widget-view+json": {
       "version_major": 2,
       "version_minor": 0,
       "model_id": "4d75b84430a1405381e3f75cfda3bf00"
      }
     },
     "metadata": {}
    }
   ],
   "source": [
    "# Add a heatmap of temperature for the vacation spots and marker for each city.\n",
    "locations = hotel_df[[\"Lat\", \"Lng\"]]\n",
    "max_temp = hotel_df[\"Max Temp\"]\n",
    "fig = gmaps.figure(center=(30.0, 31.0), zoom_level=1.5)\n",
    "heat_layer = gmaps.heatmap_layer(locations, weights=max_temp,\n",
    "             dissipating=False, max_intensity=300, point_radius=4)\n",
    "marker_layer = gmaps.marker_layer(locations)\n",
    "fig.add_layer(heat_layer)\n",
    "fig.add_layer(marker_layer)\n",
    "# Call the figure to plot the data.\n",
    "fig"
   ]
  },
  {
   "cell_type": "code",
   "execution_count": 36,
   "metadata": {},
   "outputs": [],
   "source": [
    "info_box_template = \"\"\"\n",
    "<dl>\n",
    "<dt>Hotel Name</dt><dd>{Hotel Name}</dd>\n",
    "<dt>City</dt><dd>{City}</dd>\n",
    "<dt>Country</dt><dd>{Country}</dd>\n",
    "<dt>Max Temp</dt><dd>{Max Temp} °F</dd>\n",
    "</dl>\n",
    "\"\"\""
   ]
  },
  {
   "cell_type": "code",
   "execution_count": 37,
   "metadata": {},
   "outputs": [],
   "source": [
    "# Store the DataFrame Row.\n",
    "hotel_info = [info_box_template.format(**row) for index, row in hotel_df.iterrows()]"
   ]
  },
  {
   "cell_type": "code",
   "execution_count": 38,
   "metadata": {},
   "outputs": [
    {
     "output_type": "display_data",
     "data": {
      "text/plain": "Figure(layout=FigureLayout(height='420px'))",
      "application/vnd.jupyter.widget-view+json": {
       "version_major": 2,
       "version_minor": 0,
       "model_id": "c65fc6bb6e404f348a3883abccb53f78"
      }
     },
     "metadata": {}
    }
   ],
   "source": [
    "# Add a heatmap of temperature for the vacation spots and a pop-up marker for each city.\n",
    "locations = hotel_df[[\"Lat\", \"Lng\"]]\n",
    "max_temp = hotel_df[\"Max Temp\"]\n",
    "fig = gmaps.figure(center=(30.0, 31.0), zoom_level=1.5)\n",
    "heat_layer = gmaps.heatmap_layer(locations, weights=max_temp,dissipating=False,\n",
    "             max_intensity=300, point_radius=4)\n",
    "marker_layer = gmaps.marker_layer(locations, info_box_content=hotel_info)\n",
    "fig.add_layer(heat_layer)\n",
    "fig.add_layer(marker_layer)\n",
    "\n",
    "# Call the figure to plot the data.\n",
    "fig"
   ]
  },
  {
   "cell_type": "code",
   "execution_count": null,
   "metadata": {},
   "outputs": [],
   "source": []
  }
 ]
}