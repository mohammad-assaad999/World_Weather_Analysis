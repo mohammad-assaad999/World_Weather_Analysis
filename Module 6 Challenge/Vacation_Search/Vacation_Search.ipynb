{
 "cells": [
  {
   "cell_type": "markdown",
   "metadata": {},
   "source": [
    "## Deliverable 2. Create a Customer Travel Destinations Map."
   ]
  },
  {
   "cell_type": "code",
   "execution_count": 1,
   "metadata": {},
   "outputs": [],
   "source": [
    "# Dependencies and Setup\n",
    "import pandas as pd\n",
    "import requests\n",
    "import gmaps\n",
    "\n",
    "# Import API key\n",
    "from config import g_key\n",
    "\n",
    "# Configure gmaps API key\n",
    "gmaps.configure(api_key=g_key)"
   ]
  },
  {
   "cell_type": "code",
   "execution_count": 2,
   "metadata": {},
   "outputs": [
    {
     "output_type": "execute_result",
     "data": {
      "text/plain": [
       "   City_ID       City Country      Lat       Lng  Max Temp  Humidity  \\\n",
       "0        0    Ushuaia      AR -54.8000  -68.3000     49.66        46   \n",
       "1        1    Te Anau      NZ -45.4167  167.7167     54.01        78   \n",
       "2        2     Dikson      RU  73.5069   80.5464     31.68        94   \n",
       "3        3      Vaini      TO -21.2000 -175.2000     71.76        88   \n",
       "4        4  Gualeguay      AR -33.1416  -59.3097     54.54        93   \n",
       "\n",
       "   Cloudiness  Wind Speed Current Description  \n",
       "0          40       14.97       broken clouds  \n",
       "1          96        1.05       broken clouds  \n",
       "2          98       15.46       broken clouds  \n",
       "3          75       12.66       broken clouds  \n",
       "4          51        5.70       broken clouds  "
      ],
      "text/html": "<div>\n<style scoped>\n    .dataframe tbody tr th:only-of-type {\n        vertical-align: middle;\n    }\n\n    .dataframe tbody tr th {\n        vertical-align: top;\n    }\n\n    .dataframe thead th {\n        text-align: right;\n    }\n</style>\n<table border=\"1\" class=\"dataframe\">\n  <thead>\n    <tr style=\"text-align: right;\">\n      <th></th>\n      <th>City_ID</th>\n      <th>City</th>\n      <th>Country</th>\n      <th>Lat</th>\n      <th>Lng</th>\n      <th>Max Temp</th>\n      <th>Humidity</th>\n      <th>Cloudiness</th>\n      <th>Wind Speed</th>\n      <th>Current Description</th>\n    </tr>\n  </thead>\n  <tbody>\n    <tr>\n      <th>0</th>\n      <td>0</td>\n      <td>Ushuaia</td>\n      <td>AR</td>\n      <td>-54.8000</td>\n      <td>-68.3000</td>\n      <td>49.66</td>\n      <td>46</td>\n      <td>40</td>\n      <td>14.97</td>\n      <td>broken clouds</td>\n    </tr>\n    <tr>\n      <th>1</th>\n      <td>1</td>\n      <td>Te Anau</td>\n      <td>NZ</td>\n      <td>-45.4167</td>\n      <td>167.7167</td>\n      <td>54.01</td>\n      <td>78</td>\n      <td>96</td>\n      <td>1.05</td>\n      <td>broken clouds</td>\n    </tr>\n    <tr>\n      <th>2</th>\n      <td>2</td>\n      <td>Dikson</td>\n      <td>RU</td>\n      <td>73.5069</td>\n      <td>80.5464</td>\n      <td>31.68</td>\n      <td>94</td>\n      <td>98</td>\n      <td>15.46</td>\n      <td>broken clouds</td>\n    </tr>\n    <tr>\n      <th>3</th>\n      <td>3</td>\n      <td>Vaini</td>\n      <td>TO</td>\n      <td>-21.2000</td>\n      <td>-175.2000</td>\n      <td>71.76</td>\n      <td>88</td>\n      <td>75</td>\n      <td>12.66</td>\n      <td>broken clouds</td>\n    </tr>\n    <tr>\n      <th>4</th>\n      <td>4</td>\n      <td>Gualeguay</td>\n      <td>AR</td>\n      <td>-33.1416</td>\n      <td>-59.3097</td>\n      <td>54.54</td>\n      <td>93</td>\n      <td>51</td>\n      <td>5.70</td>\n      <td>broken clouds</td>\n    </tr>\n  </tbody>\n</table>\n</div>"
     },
     "metadata": {},
     "execution_count": 2
    }
   ],
   "source": [
    "# 1. Import the WeatherPy_database.csv file. \n",
    "file_to_load = os.path.join(\"../Weather_Database\", \"WeatherPy_database.csv\")\n",
    "city_data_df = pd.read_csv(file_to_load)\n",
    "city_data_df.head()"
   ]
  },
  {
   "cell_type": "code",
   "execution_count": 3,
   "metadata": {},
   "outputs": [],
   "source": [
    "# 2. Prompt the user to enter minimum and maximum temperature criteria \n",
    "min_temp = float(input(\"What is the minimum temperature you would like for your trip? \"))\n",
    "max_temp = float(input(\"What is the maximum temperature you would like for your trip? \"))"
   ]
  },
  {
   "cell_type": "code",
   "execution_count": 4,
   "metadata": {},
   "outputs": [
    {
     "output_type": "execute_result",
     "data": {
      "text/plain": [
       "   City_ID             City Country      Lat       Lng  Max Temp  Humidity  \\\n",
       "0        0          Ushuaia      AR -54.8000  -68.3000     49.66        46   \n",
       "1        1          Te Anau      NZ -45.4167  167.7167     54.01        78   \n",
       "2        2           Dikson      RU  73.5069   80.5464     31.68        94   \n",
       "3        3            Vaini      TO -21.2000 -175.2000     71.76        88   \n",
       "4        4        Gualeguay      AR -33.1416  -59.3097     54.54        93   \n",
       "5        5       Nikolskoye      RU  59.7035   30.7861     58.80        65   \n",
       "6        6          Ahipara      NZ -35.1667  173.1667     65.77        73   \n",
       "7        7           Barrow      US  71.2906 -156.7887     34.20        85   \n",
       "8        8         Cidreira      BR -30.1811  -50.2056     62.42        92   \n",
       "9        9  Bambous Virieux      MU -20.3428   57.7575     70.05        88   \n",
       "\n",
       "   Cloudiness  Wind Speed Current Description  \n",
       "0          40       14.97       broken clouds  \n",
       "1          96        1.05       broken clouds  \n",
       "2          98       15.46       broken clouds  \n",
       "3          75       12.66       broken clouds  \n",
       "4          51        5.70       broken clouds  \n",
       "5          98        3.02       broken clouds  \n",
       "6          26        6.76       broken clouds  \n",
       "7         100       15.68       broken clouds  \n",
       "8         100       15.73       broken clouds  \n",
       "9          75       16.28       broken clouds  "
      ],
      "text/html": "<div>\n<style scoped>\n    .dataframe tbody tr th:only-of-type {\n        vertical-align: middle;\n    }\n\n    .dataframe tbody tr th {\n        vertical-align: top;\n    }\n\n    .dataframe thead th {\n        text-align: right;\n    }\n</style>\n<table border=\"1\" class=\"dataframe\">\n  <thead>\n    <tr style=\"text-align: right;\">\n      <th></th>\n      <th>City_ID</th>\n      <th>City</th>\n      <th>Country</th>\n      <th>Lat</th>\n      <th>Lng</th>\n      <th>Max Temp</th>\n      <th>Humidity</th>\n      <th>Cloudiness</th>\n      <th>Wind Speed</th>\n      <th>Current Description</th>\n    </tr>\n  </thead>\n  <tbody>\n    <tr>\n      <th>0</th>\n      <td>0</td>\n      <td>Ushuaia</td>\n      <td>AR</td>\n      <td>-54.8000</td>\n      <td>-68.3000</td>\n      <td>49.66</td>\n      <td>46</td>\n      <td>40</td>\n      <td>14.97</td>\n      <td>broken clouds</td>\n    </tr>\n    <tr>\n      <th>1</th>\n      <td>1</td>\n      <td>Te Anau</td>\n      <td>NZ</td>\n      <td>-45.4167</td>\n      <td>167.7167</td>\n      <td>54.01</td>\n      <td>78</td>\n      <td>96</td>\n      <td>1.05</td>\n      <td>broken clouds</td>\n    </tr>\n    <tr>\n      <th>2</th>\n      <td>2</td>\n      <td>Dikson</td>\n      <td>RU</td>\n      <td>73.5069</td>\n      <td>80.5464</td>\n      <td>31.68</td>\n      <td>94</td>\n      <td>98</td>\n      <td>15.46</td>\n      <td>broken clouds</td>\n    </tr>\n    <tr>\n      <th>3</th>\n      <td>3</td>\n      <td>Vaini</td>\n      <td>TO</td>\n      <td>-21.2000</td>\n      <td>-175.2000</td>\n      <td>71.76</td>\n      <td>88</td>\n      <td>75</td>\n      <td>12.66</td>\n      <td>broken clouds</td>\n    </tr>\n    <tr>\n      <th>4</th>\n      <td>4</td>\n      <td>Gualeguay</td>\n      <td>AR</td>\n      <td>-33.1416</td>\n      <td>-59.3097</td>\n      <td>54.54</td>\n      <td>93</td>\n      <td>51</td>\n      <td>5.70</td>\n      <td>broken clouds</td>\n    </tr>\n    <tr>\n      <th>5</th>\n      <td>5</td>\n      <td>Nikolskoye</td>\n      <td>RU</td>\n      <td>59.7035</td>\n      <td>30.7861</td>\n      <td>58.80</td>\n      <td>65</td>\n      <td>98</td>\n      <td>3.02</td>\n      <td>broken clouds</td>\n    </tr>\n    <tr>\n      <th>6</th>\n      <td>6</td>\n      <td>Ahipara</td>\n      <td>NZ</td>\n      <td>-35.1667</td>\n      <td>173.1667</td>\n      <td>65.77</td>\n      <td>73</td>\n      <td>26</td>\n      <td>6.76</td>\n      <td>broken clouds</td>\n    </tr>\n    <tr>\n      <th>7</th>\n      <td>7</td>\n      <td>Barrow</td>\n      <td>US</td>\n      <td>71.2906</td>\n      <td>-156.7887</td>\n      <td>34.20</td>\n      <td>85</td>\n      <td>100</td>\n      <td>15.68</td>\n      <td>broken clouds</td>\n    </tr>\n    <tr>\n      <th>8</th>\n      <td>8</td>\n      <td>Cidreira</td>\n      <td>BR</td>\n      <td>-30.1811</td>\n      <td>-50.2056</td>\n      <td>62.42</td>\n      <td>92</td>\n      <td>100</td>\n      <td>15.73</td>\n      <td>broken clouds</td>\n    </tr>\n    <tr>\n      <th>9</th>\n      <td>9</td>\n      <td>Bambous Virieux</td>\n      <td>MU</td>\n      <td>-20.3428</td>\n      <td>57.7575</td>\n      <td>70.05</td>\n      <td>88</td>\n      <td>75</td>\n      <td>16.28</td>\n      <td>broken clouds</td>\n    </tr>\n  </tbody>\n</table>\n</div>"
     },
     "metadata": {},
     "execution_count": 4
    }
   ],
   "source": [
    "# 3. Filter the city_data_df DataFrame using the input statements to create a new DataFrame using the loc method.\n",
    "preferred_cities_df = city_data_df.loc[(city_data_df[\"Max Temp\"] <= max_temp) & \\\n",
    "                                       (city_data_df[\"Max Temp\"] >= min_temp)]\n",
    "preferred_cities_df.head(10)"
   ]
  },
  {
   "cell_type": "code",
   "execution_count": 5,
   "metadata": {},
   "outputs": [
    {
     "output_type": "execute_result",
     "data": {
      "text/plain": [
       "City_ID                683\n",
       "City                   683\n",
       "Country                683\n",
       "Lat                    683\n",
       "Lng                    683\n",
       "Max Temp               683\n",
       "Humidity               683\n",
       "Cloudiness             683\n",
       "Wind Speed             683\n",
       "Current Description    683\n",
       "dtype: int64"
      ]
     },
     "metadata": {},
     "execution_count": 5
    }
   ],
   "source": [
    "# 4a. Determine if there are any empty rows.\n",
    "preferred_cities_df.isnull().count()"
   ]
  },
  {
   "cell_type": "code",
   "execution_count": 33,
   "metadata": {},
   "outputs": [
    {
     "output_type": "execute_result",
     "data": {
      "text/plain": [
       "     City_ID       City Country      Lat       Lng  Max Temp  Humidity  \\\n",
       "0          0    Ushuaia      AR -54.8000  -68.3000     49.66        46   \n",
       "1          1    Te Anau      NZ -45.4167  167.7167     54.01        78   \n",
       "2          2     Dikson      RU  73.5069   80.5464     31.68        94   \n",
       "3          3      Vaini      TO -21.2000 -175.2000     71.76        88   \n",
       "4          4  Gualeguay      AR -33.1416  -59.3097     54.54        93   \n",
       "..       ...        ...     ...      ...       ...       ...       ...   \n",
       "678      678  Salisbury      GB  51.0693   -1.7957     54.32        97   \n",
       "679      679      Buala      SB  -8.1450  159.5921     85.03        69   \n",
       "680      680      Ilebo      CD  -4.3167   20.5833     71.91        65   \n",
       "681      681  Rongcheng      CN  30.6340  117.8517     90.93        50   \n",
       "682      682  Caravelas      BR -17.7125  -39.2481     73.09        86   \n",
       "\n",
       "     Cloudiness  Wind Speed Current Description  \n",
       "0            40       14.97       broken clouds  \n",
       "1            96        1.05       broken clouds  \n",
       "2            98       15.46       broken clouds  \n",
       "3            75       12.66       broken clouds  \n",
       "4            51        5.70       broken clouds  \n",
       "..          ...         ...                 ...  \n",
       "678          23        2.91       broken clouds  \n",
       "679          83        7.81       broken clouds  \n",
       "680          42        1.81       broken clouds  \n",
       "681          87        2.01       broken clouds  \n",
       "682           0        4.56       broken clouds  \n",
       "\n",
       "[677 rows x 10 columns]"
      ],
      "text/html": "<div>\n<style scoped>\n    .dataframe tbody tr th:only-of-type {\n        vertical-align: middle;\n    }\n\n    .dataframe tbody tr th {\n        vertical-align: top;\n    }\n\n    .dataframe thead th {\n        text-align: right;\n    }\n</style>\n<table border=\"1\" class=\"dataframe\">\n  <thead>\n    <tr style=\"text-align: right;\">\n      <th></th>\n      <th>City_ID</th>\n      <th>City</th>\n      <th>Country</th>\n      <th>Lat</th>\n      <th>Lng</th>\n      <th>Max Temp</th>\n      <th>Humidity</th>\n      <th>Cloudiness</th>\n      <th>Wind Speed</th>\n      <th>Current Description</th>\n    </tr>\n  </thead>\n  <tbody>\n    <tr>\n      <th>0</th>\n      <td>0</td>\n      <td>Ushuaia</td>\n      <td>AR</td>\n      <td>-54.8000</td>\n      <td>-68.3000</td>\n      <td>49.66</td>\n      <td>46</td>\n      <td>40</td>\n      <td>14.97</td>\n      <td>broken clouds</td>\n    </tr>\n    <tr>\n      <th>1</th>\n      <td>1</td>\n      <td>Te Anau</td>\n      <td>NZ</td>\n      <td>-45.4167</td>\n      <td>167.7167</td>\n      <td>54.01</td>\n      <td>78</td>\n      <td>96</td>\n      <td>1.05</td>\n      <td>broken clouds</td>\n    </tr>\n    <tr>\n      <th>2</th>\n      <td>2</td>\n      <td>Dikson</td>\n      <td>RU</td>\n      <td>73.5069</td>\n      <td>80.5464</td>\n      <td>31.68</td>\n      <td>94</td>\n      <td>98</td>\n      <td>15.46</td>\n      <td>broken clouds</td>\n    </tr>\n    <tr>\n      <th>3</th>\n      <td>3</td>\n      <td>Vaini</td>\n      <td>TO</td>\n      <td>-21.2000</td>\n      <td>-175.2000</td>\n      <td>71.76</td>\n      <td>88</td>\n      <td>75</td>\n      <td>12.66</td>\n      <td>broken clouds</td>\n    </tr>\n    <tr>\n      <th>4</th>\n      <td>4</td>\n      <td>Gualeguay</td>\n      <td>AR</td>\n      <td>-33.1416</td>\n      <td>-59.3097</td>\n      <td>54.54</td>\n      <td>93</td>\n      <td>51</td>\n      <td>5.70</td>\n      <td>broken clouds</td>\n    </tr>\n    <tr>\n      <th>...</th>\n      <td>...</td>\n      <td>...</td>\n      <td>...</td>\n      <td>...</td>\n      <td>...</td>\n      <td>...</td>\n      <td>...</td>\n      <td>...</td>\n      <td>...</td>\n      <td>...</td>\n    </tr>\n    <tr>\n      <th>678</th>\n      <td>678</td>\n      <td>Salisbury</td>\n      <td>GB</td>\n      <td>51.0693</td>\n      <td>-1.7957</td>\n      <td>54.32</td>\n      <td>97</td>\n      <td>23</td>\n      <td>2.91</td>\n      <td>broken clouds</td>\n    </tr>\n    <tr>\n      <th>679</th>\n      <td>679</td>\n      <td>Buala</td>\n      <td>SB</td>\n      <td>-8.1450</td>\n      <td>159.5921</td>\n      <td>85.03</td>\n      <td>69</td>\n      <td>83</td>\n      <td>7.81</td>\n      <td>broken clouds</td>\n    </tr>\n    <tr>\n      <th>680</th>\n      <td>680</td>\n      <td>Ilebo</td>\n      <td>CD</td>\n      <td>-4.3167</td>\n      <td>20.5833</td>\n      <td>71.91</td>\n      <td>65</td>\n      <td>42</td>\n      <td>1.81</td>\n      <td>broken clouds</td>\n    </tr>\n    <tr>\n      <th>681</th>\n      <td>681</td>\n      <td>Rongcheng</td>\n      <td>CN</td>\n      <td>30.6340</td>\n      <td>117.8517</td>\n      <td>90.93</td>\n      <td>50</td>\n      <td>87</td>\n      <td>2.01</td>\n      <td>broken clouds</td>\n    </tr>\n    <tr>\n      <th>682</th>\n      <td>682</td>\n      <td>Caravelas</td>\n      <td>BR</td>\n      <td>-17.7125</td>\n      <td>-39.2481</td>\n      <td>73.09</td>\n      <td>86</td>\n      <td>0</td>\n      <td>4.56</td>\n      <td>broken clouds</td>\n    </tr>\n  </tbody>\n</table>\n<p>677 rows × 10 columns</p>\n</div>"
     },
     "metadata": {},
     "execution_count": 33
    }
   ],
   "source": [
    "# 4b. Drop any empty rows and create a new DataFrame that doesn’t have empty rows.\n",
    "preferred_cities_df.replace('', float(\"NaN\"), inplace=True)\n",
    "clean_df=preferred_cities_df.dropna()\n",
    "clean_df"
   ]
  },
  {
   "cell_type": "code",
   "execution_count": 34,
   "metadata": {},
   "outputs": [
    {
     "output_type": "execute_result",
     "data": {
      "text/plain": [
       "          City Country  Max Temp Current Description      Lat       Lng  \\\n",
       "0      Ushuaia      AR     49.66       broken clouds -54.8000  -68.3000   \n",
       "1      Te Anau      NZ     54.01       broken clouds -45.4167  167.7167   \n",
       "2       Dikson      RU     31.68       broken clouds  73.5069   80.5464   \n",
       "3        Vaini      TO     71.76       broken clouds -21.2000 -175.2000   \n",
       "4    Gualeguay      AR     54.54       broken clouds -33.1416  -59.3097   \n",
       "..         ...     ...       ...                 ...      ...       ...   \n",
       "678  Salisbury      GB     54.32       broken clouds  51.0693   -1.7957   \n",
       "679      Buala      SB     85.03       broken clouds  -8.1450  159.5921   \n",
       "680      Ilebo      CD     71.91       broken clouds  -4.3167   20.5833   \n",
       "681  Rongcheng      CN     90.93       broken clouds  30.6340  117.8517   \n",
       "682  Caravelas      BR     73.09       broken clouds -17.7125  -39.2481   \n",
       "\n",
       "    Hotel Name  \n",
       "0               \n",
       "1               \n",
       "2               \n",
       "3               \n",
       "4               \n",
       "..         ...  \n",
       "678             \n",
       "679             \n",
       "680             \n",
       "681             \n",
       "682             \n",
       "\n",
       "[677 rows x 7 columns]"
      ],
      "text/html": "<div>\n<style scoped>\n    .dataframe tbody tr th:only-of-type {\n        vertical-align: middle;\n    }\n\n    .dataframe tbody tr th {\n        vertical-align: top;\n    }\n\n    .dataframe thead th {\n        text-align: right;\n    }\n</style>\n<table border=\"1\" class=\"dataframe\">\n  <thead>\n    <tr style=\"text-align: right;\">\n      <th></th>\n      <th>City</th>\n      <th>Country</th>\n      <th>Max Temp</th>\n      <th>Current Description</th>\n      <th>Lat</th>\n      <th>Lng</th>\n      <th>Hotel Name</th>\n    </tr>\n  </thead>\n  <tbody>\n    <tr>\n      <th>0</th>\n      <td>Ushuaia</td>\n      <td>AR</td>\n      <td>49.66</td>\n      <td>broken clouds</td>\n      <td>-54.8000</td>\n      <td>-68.3000</td>\n      <td></td>\n    </tr>\n    <tr>\n      <th>1</th>\n      <td>Te Anau</td>\n      <td>NZ</td>\n      <td>54.01</td>\n      <td>broken clouds</td>\n      <td>-45.4167</td>\n      <td>167.7167</td>\n      <td></td>\n    </tr>\n    <tr>\n      <th>2</th>\n      <td>Dikson</td>\n      <td>RU</td>\n      <td>31.68</td>\n      <td>broken clouds</td>\n      <td>73.5069</td>\n      <td>80.5464</td>\n      <td></td>\n    </tr>\n    <tr>\n      <th>3</th>\n      <td>Vaini</td>\n      <td>TO</td>\n      <td>71.76</td>\n      <td>broken clouds</td>\n      <td>-21.2000</td>\n      <td>-175.2000</td>\n      <td></td>\n    </tr>\n    <tr>\n      <th>4</th>\n      <td>Gualeguay</td>\n      <td>AR</td>\n      <td>54.54</td>\n      <td>broken clouds</td>\n      <td>-33.1416</td>\n      <td>-59.3097</td>\n      <td></td>\n    </tr>\n    <tr>\n      <th>...</th>\n      <td>...</td>\n      <td>...</td>\n      <td>...</td>\n      <td>...</td>\n      <td>...</td>\n      <td>...</td>\n      <td>...</td>\n    </tr>\n    <tr>\n      <th>678</th>\n      <td>Salisbury</td>\n      <td>GB</td>\n      <td>54.32</td>\n      <td>broken clouds</td>\n      <td>51.0693</td>\n      <td>-1.7957</td>\n      <td></td>\n    </tr>\n    <tr>\n      <th>679</th>\n      <td>Buala</td>\n      <td>SB</td>\n      <td>85.03</td>\n      <td>broken clouds</td>\n      <td>-8.1450</td>\n      <td>159.5921</td>\n      <td></td>\n    </tr>\n    <tr>\n      <th>680</th>\n      <td>Ilebo</td>\n      <td>CD</td>\n      <td>71.91</td>\n      <td>broken clouds</td>\n      <td>-4.3167</td>\n      <td>20.5833</td>\n      <td></td>\n    </tr>\n    <tr>\n      <th>681</th>\n      <td>Rongcheng</td>\n      <td>CN</td>\n      <td>90.93</td>\n      <td>broken clouds</td>\n      <td>30.6340</td>\n      <td>117.8517</td>\n      <td></td>\n    </tr>\n    <tr>\n      <th>682</th>\n      <td>Caravelas</td>\n      <td>BR</td>\n      <td>73.09</td>\n      <td>broken clouds</td>\n      <td>-17.7125</td>\n      <td>-39.2481</td>\n      <td></td>\n    </tr>\n  </tbody>\n</table>\n<p>677 rows × 7 columns</p>\n</div>"
     },
     "metadata": {},
     "execution_count": 34
    }
   ],
   "source": [
    "# 5a. Create DataFrame called hotel_df to store hotel names along with city, country, max temp, and coordinates.\n",
    "hotel_df = clean_df[[\"City\", \"Country\", \"Max Temp\", \"Current Description\", \"Lat\", \"Lng\"]].copy()\n",
    "\n",
    "# 5b. Create a new column \"Hotel Name\"\n",
    "hotel_df[\"Hotel Name\"] = \"\"\n",
    "hotel_df"
   ]
  },
  {
   "cell_type": "code",
   "execution_count": 35,
   "metadata": {},
   "outputs": [
    {
     "output_type": "execute_result",
     "data": {
      "text/plain": [
       "{'html_attributions': [],\n",
       " 'results': [{'business_status': 'OPERATIONAL',\n",
       "   'geometry': {'location': {'lat': -17.7379707, 'lng': -39.2589096},\n",
       "    'viewport': {'northeast': {'lat': -17.7365489197085,\n",
       "      'lng': -39.25753821970849},\n",
       "     'southwest': {'lat': -17.7392468802915, 'lng': -39.26023618029149}}},\n",
       "   'icon': 'https://maps.gstatic.com/mapfiles/place_api/icons/v1/png_71/lodging-71.png',\n",
       "   'name': 'Pousada dos Navegantes',\n",
       "   'photos': [{'height': 960,\n",
       "     'html_attributions': ['<a href=\"https://maps.google.com/maps/contrib/110604417840892784095\">Onaldo Rocha dos Anjos</a>'],\n",
       "     'photo_reference': 'ATtYBwL6cRGrGZ7Yc6l0tb-l34ngc7w8VzE6j5QBAJAJHyd_F5xiXox0HCt9aTbQf-X-MjYGThx5qL3JaI42x-PoYtE5R84zLsVl0LTXmCYPR4-etZPzCwe26y0d5X3PztPtaojbTCH0EEPkapIqzadTUu3ur6UcnLwBGQhb84iFcMrX4I-R',\n",
       "     'width': 1280}],\n",
       "   'place_id': 'ChIJVVgc5WnXNAcRLGgmGSFNxr0',\n",
       "   'plus_code': {'compound_code': '7P6R+RC Caravelas, BA, Brazil',\n",
       "    'global_code': '59J27P6R+RC'},\n",
       "   'rating': 3.6,\n",
       "   'reference': 'ChIJVVgc5WnXNAcRLGgmGSFNxr0',\n",
       "   'scope': 'GOOGLE',\n",
       "   'types': ['lodging', 'point_of_interest', 'establishment'],\n",
       "   'user_ratings_total': 146,\n",
       "   'vicinity': 'Rua das Palmeiras, 45, Caravelas'},\n",
       "  {'business_status': 'OPERATIONAL',\n",
       "   'geometry': {'location': {'lat': -17.7347306, 'lng': -39.2653284},\n",
       "    'viewport': {'northeast': {'lat': -17.7334292197085,\n",
       "      'lng': -39.2640352197085},\n",
       "     'southwest': {'lat': -17.7361271802915, 'lng': -39.2667331802915}}},\n",
       "   'icon': 'https://maps.gstatic.com/mapfiles/place_api/icons/v1/png_71/lodging-71.png',\n",
       "   'name': 'Pousada Tropical',\n",
       "   'photos': [{'height': 2592,\n",
       "     'html_attributions': ['<a href=\"https://maps.google.com/maps/contrib/115140552705841837617\">Hercules Oliveira</a>'],\n",
       "     'photo_reference': 'ATtYBwJv7EdzHRDZ2muwvY53QQCoDXs21g8ee64-Is_UuH_3DtAV5zUVaKlyhAriMntPhLZ7DQqzOhtaQArCZNa7PXHmy-0SyhtvYVDLQghWxsUXsQ7KPY2W7p65sK1V2ZsUMS-5jymiRc2uQgzOEtXcuFiVe8rOZc_ytRgSQa65R2qD-XBJ',\n",
       "     'width': 1944}],\n",
       "   'place_id': 'ChIJ51eRJe7ZNAcRoL0JWIePd1Y',\n",
       "   'plus_code': {'compound_code': '7P8M+4V Caravelas, BA, Brazil',\n",
       "    'global_code': '59J27P8M+4V'},\n",
       "   'rating': 4.3,\n",
       "   'reference': 'ChIJ51eRJe7ZNAcRoL0JWIePd1Y',\n",
       "   'scope': 'GOOGLE',\n",
       "   'types': ['lodging', 'point_of_interest', 'establishment'],\n",
       "   'user_ratings_total': 6,\n",
       "   'vicinity': 'Rua Sete de Setembro, 155, Caravelas'},\n",
       "  {'business_status': 'OPERATIONAL',\n",
       "   'geometry': {'location': {'lat': -17.7380161, 'lng': -39.25800020000001},\n",
       "    'viewport': {'northeast': {'lat': -17.7366947697085,\n",
       "      'lng': -39.2566600197085},\n",
       "     'southwest': {'lat': -17.7393927302915, 'lng': -39.2593579802915}}},\n",
       "   'icon': 'https://maps.gstatic.com/mapfiles/place_api/icons/v1/png_71/lodging-71.png',\n",
       "   'name': 'Pousada Encanto Abrolhos',\n",
       "   'photos': [{'height': 2322,\n",
       "     'html_attributions': ['<a href=\"https://maps.google.com/maps/contrib/105706485672688623006\">Edriano Souza Guia de Ecoturismo</a>'],\n",
       "     'photo_reference': 'ATtYBwK2M8eUKigSG7z6cg_bKjB2lg-9rhJczkoz2BFQtDGAQTDWmPs1BCZvHWdDIvMl-3N0jjfvF_8Fo2v6baMbY8KP3AagPGTQt3-HL1ZPs2EhKlfQsonKN8Btti0L7NZ-mHzazZdS9ICjRVyeTQNWHV6BznXuhXtLNqXX_dgI8EoBjIwi',\n",
       "     'width': 4128}],\n",
       "   'place_id': 'ChIJ51eRJe7ZNAcRELF7pdeMsdw',\n",
       "   'plus_code': {'compound_code': '7P6R+QQ Caravelas, BA, Brazil',\n",
       "    'global_code': '59J27P6R+QQ'},\n",
       "   'rating': 3.7,\n",
       "   'reference': 'ChIJ51eRJe7ZNAcRELF7pdeMsdw',\n",
       "   'scope': 'GOOGLE',\n",
       "   'types': ['lodging', 'point_of_interest', 'establishment'],\n",
       "   'user_ratings_total': 80,\n",
       "   'vicinity': 'Avenida Ministro Adalício Nogueira 115, Caravelas'},\n",
       "  {'business_status': 'OPERATIONAL',\n",
       "   'geometry': {'location': {'lat': -17.7349281, 'lng': -39.2646708},\n",
       "    'viewport': {'northeast': {'lat': -17.7337395697085,\n",
       "      'lng': -39.26349941970851},\n",
       "     'southwest': {'lat': -17.7364375302915, 'lng': -39.26619738029151}}},\n",
       "   'icon': 'https://maps.gstatic.com/mapfiles/place_api/icons/v1/png_71/lodging-71.png',\n",
       "   'name': 'Pousada do Beco Shangri-La',\n",
       "   'photos': [{'height': 2340,\n",
       "     'html_attributions': ['<a href=\"https://maps.google.com/maps/contrib/116254233089608536311\">Eduardo Segatto</a>'],\n",
       "     'photo_reference': 'ATtYBwLY5-qwmqsedKDUG0U5E9m5uVggp1wEHbmFNeuR0gZhnfNDxvJyUsS-1ZAJalfnxTqFdmBFh5K-OCDZ-n9iAg20m2tlwSq8KGFQ7I4UJ6PwlaoSF_cXlL4ajKWb2zedXtxFO6fSiRIhMoMya3Ze7DR32vI1UlSxRaG1NYv6ie6M_nsO',\n",
       "     'width': 4160}],\n",
       "   'place_id': 'ChIJ51eRJe7ZNAcRj1k7zDN9mPs',\n",
       "   'plus_code': {'compound_code': '7P8P+24 Caravelas, BA, Brazil',\n",
       "    'global_code': '59J27P8P+24'},\n",
       "   'rating': 3.9,\n",
       "   'reference': 'ChIJ51eRJe7ZNAcRj1k7zDN9mPs',\n",
       "   'scope': 'GOOGLE',\n",
       "   'types': ['lodging', 'point_of_interest', 'establishment'],\n",
       "   'user_ratings_total': 53,\n",
       "   'vicinity': 'Rua Sete de Setembro, 219, Caravelas'},\n",
       "  {'business_status': 'OPERATIONAL',\n",
       "   'geometry': {'location': {'lat': -17.736329, 'lng': -39.26453800000001},\n",
       "    'viewport': {'northeast': {'lat': -17.7349831197085,\n",
       "      'lng': -39.2631925697085},\n",
       "     'southwest': {'lat': -17.7376810802915, 'lng': -39.2658905302915}}},\n",
       "   'icon': 'https://maps.gstatic.com/mapfiles/place_api/icons/v1/png_71/lodging-71.png',\n",
       "   'name': 'Sadine r cardoso',\n",
       "   'photos': [{'height': 3000,\n",
       "     'html_attributions': ['<a href=\"https://maps.google.com/maps/contrib/115852380802147316451\">Sadine rodrigues Cardoso</a>'],\n",
       "     'photo_reference': 'ATtYBwLN1kV1BdpAIn6zurclBWjyB8QCwwlCTscmFV9Hq4v4fM9fMbSPMcPAndQbBZOkSIv0FSAiFMwJnR8HZ4yWXgtNaIjeGGeITzpXtA1l1GHyocVXPR0BuHxmrdbbtQBguyjLluZTr6nZPGH23N6fNE4lhXXa-TvCtf7SsiApuXDiFXfw',\n",
       "     'width': 4000}],\n",
       "   'place_id': 'ChIJ91o-_FTXNAcRzx2ofiPjcrA',\n",
       "   'plus_code': {'compound_code': '7P7P+F5 Caravelas, BA, Brazil',\n",
       "    'global_code': '59J27P7P+F5'},\n",
       "   'rating': 5,\n",
       "   'reference': 'ChIJ91o-_FTXNAcRzx2ofiPjcrA',\n",
       "   'scope': 'GOOGLE',\n",
       "   'types': ['lodging', 'point_of_interest', 'establishment'],\n",
       "   'user_ratings_total': 1,\n",
       "   'vicinity': 'Rua Aníbal Benévolo, 415 - Centro, Caravelas'},\n",
       "  {'business_status': 'OPERATIONAL',\n",
       "   'geometry': {'location': {'lat': -17.7410855, 'lng': -39.2459705},\n",
       "    'viewport': {'northeast': {'lat': -17.7397905697085,\n",
       "      'lng': -39.2443831197085},\n",
       "     'southwest': {'lat': -17.7424885302915, 'lng': -39.2470810802915}}},\n",
       "   'icon': 'https://maps.gstatic.com/mapfiles/place_api/icons/v1/png_71/lodging-71.png',\n",
       "   'name': 'Pousada Liberdade',\n",
       "   'photos': [{'height': 3456,\n",
       "     'html_attributions': ['<a href=\"https://maps.google.com/maps/contrib/107059790399652216887\">Amd Dietz</a>'],\n",
       "     'photo_reference': 'ATtYBwIWRae4_-v0P9gAkBbjBe6sh21ERFYf1qsgRw7x-fii6Qt9UkxcKN6V8dNM4APTXR1Shns_LnOxcV1AGHjKC6MRyjCKJ01BSwu-lTUjTdaUlNnTsoZIzOVhFmVj25r0Cwvg-IaUYig3czwB0r1ks5fH4Eq_OVcdYSmaPKL4TIFDBSG8',\n",
       "     'width': 4608}],\n",
       "   'place_id': 'ChIJXcW1LU_XNAcRG4x6mdMStYg',\n",
       "   'plus_code': {'compound_code': '7Q53+HJ Caravelas, BA, Brazil',\n",
       "    'global_code': '59J27Q53+HJ'},\n",
       "   'rating': 4.3,\n",
       "   'reference': 'ChIJXcW1LU_XNAcRG4x6mdMStYg',\n",
       "   'scope': 'GOOGLE',\n",
       "   'types': ['lodging', 'point_of_interest', 'establishment'],\n",
       "   'user_ratings_total': 144,\n",
       "   'vicinity': 'Av. Ministro Adalício Nogueira, 1551 - Tancredo Neves, Caravelas'},\n",
       "  {'business_status': 'OPERATIONAL',\n",
       "   'geometry': {'location': {'lat': -17.7431944, 'lng': -39.24093329999999},\n",
       "    'viewport': {'northeast': {'lat': -17.7418121197085,\n",
       "      'lng': -39.2395732697085},\n",
       "     'southwest': {'lat': -17.74451008029151, 'lng': -39.24227123029149}}},\n",
       "   'icon': 'https://maps.gstatic.com/mapfiles/place_api/icons/v1/png_71/generic_business-71.png',\n",
       "   'name': 'Mar Doce de Abrolhos',\n",
       "   'opening_hours': {'open_now': True},\n",
       "   'photos': [{'height': 2012,\n",
       "     'html_attributions': ['<a href=\"https://maps.google.com/maps/contrib/102086221268556117419\">Mar Doce de Abrolhos</a>'],\n",
       "     'photo_reference': 'ATtYBwJnObiTZGHlYKT8XZoCyo1epiRvvw0LaqEaSFjqoP97QRyCzepP14Gxm5NJ8Jvk1jW81OokldyaTGOckGYkTJcgOH8UCyS5bY84yLF8DXQzYlHvf0NwbbjBqE_zH4lDjInc0EZ1K1wO3BhEj_3Mx3sYPvsu6B5mT6vJS_nc1_fzDbyJ',\n",
       "     'width': 1965}],\n",
       "   'place_id': 'ChIJI1JMq0vXNAcRmKk8FltpJM0',\n",
       "   'plus_code': {'compound_code': '7Q45+PJ Caravelas, BA, Brazil',\n",
       "    'global_code': '59J27Q45+PJ'},\n",
       "   'rating': 4.7,\n",
       "   'reference': 'ChIJI1JMq0vXNAcRmKk8FltpJM0',\n",
       "   'scope': 'GOOGLE',\n",
       "   'types': ['lodging', 'point_of_interest', 'establishment'],\n",
       "   'user_ratings_total': 17,\n",
       "   'vicinity': 'Estrada para Barra de Caravelas, 1632, Caravelas'}],\n",
       " 'status': 'OK'}"
      ]
     },
     "metadata": {},
     "execution_count": 35
    }
   ],
   "source": [
    "# 6a. Set parameters to search for hotels with 5000 meters.\n",
    "params = {\n",
    "    \"radius\": 5000,\n",
    "    \"type\": \"lodging\",\n",
    "    \"key\": g_key\n",
    "}\n",
    "\n",
    "# 6b. Iterate through the hotel DataFrame.\n",
    "for index, row in hotel_df.iterrows():\n",
    "    # 6c. Get latitude and longitude from DataFrame\n",
    "    lat = row[\"Lat\"]\n",
    "    lng = row[\"Lng\"]\n",
    "    \n",
    "    # 6d. Set up the base URL for the Google Directions API to get JSON data.\n",
    "    params[\"location\"] = f\"{lat},{lng}\"\n",
    "    base_url = \"https://maps.googleapis.com/maps/api/place/nearbysearch/json\"\n",
    "\n",
    "    # 6e. Make request and retrieve the JSON data from the search. \n",
    "    hotels = requests.get(base_url, params=params).json()\n",
    "    \n",
    "    # 6f. Get the first hotel from the results and store the name, if a hotel isn't found skip the city.\n",
    "try:\n",
    "    hotel_df.loc[index, \"Hotel Name\"] = hotels[\"results\"][0][\"name\"]\n",
    "except (IndexError):\n",
    "    print(\"Hotel not found... skipping.\")\n",
    "hotels"
   ]
  },
  {
   "cell_type": "code",
   "execution_count": 36,
   "metadata": {},
   "outputs": [
    {
     "output_type": "execute_result",
     "data": {
      "text/plain": [
       "          City Country  Max Temp Current Description      Lat       Lng  \\\n",
       "0      Ushuaia      AR     49.66       broken clouds -54.8000  -68.3000   \n",
       "1      Te Anau      NZ     54.01       broken clouds -45.4167  167.7167   \n",
       "2       Dikson      RU     31.68       broken clouds  73.5069   80.5464   \n",
       "3        Vaini      TO     71.76       broken clouds -21.2000 -175.2000   \n",
       "4    Gualeguay      AR     54.54       broken clouds -33.1416  -59.3097   \n",
       "..         ...     ...       ...                 ...      ...       ...   \n",
       "678  Salisbury      GB     54.32       broken clouds  51.0693   -1.7957   \n",
       "679      Buala      SB     85.03       broken clouds  -8.1450  159.5921   \n",
       "680      Ilebo      CD     71.91       broken clouds  -4.3167   20.5833   \n",
       "681  Rongcheng      CN     90.93       broken clouds  30.6340  117.8517   \n",
       "682  Caravelas      BR     73.09       broken clouds -17.7125  -39.2481   \n",
       "\n",
       "                 Hotel Name  \n",
       "0                       NaN  \n",
       "1                       NaN  \n",
       "2                       NaN  \n",
       "3                       NaN  \n",
       "4                       NaN  \n",
       "..                      ...  \n",
       "678                     NaN  \n",
       "679                     NaN  \n",
       "680                     NaN  \n",
       "681                     NaN  \n",
       "682  Pousada dos Navegantes  \n",
       "\n",
       "[677 rows x 7 columns]"
      ],
      "text/html": "<div>\n<style scoped>\n    .dataframe tbody tr th:only-of-type {\n        vertical-align: middle;\n    }\n\n    .dataframe tbody tr th {\n        vertical-align: top;\n    }\n\n    .dataframe thead th {\n        text-align: right;\n    }\n</style>\n<table border=\"1\" class=\"dataframe\">\n  <thead>\n    <tr style=\"text-align: right;\">\n      <th></th>\n      <th>City</th>\n      <th>Country</th>\n      <th>Max Temp</th>\n      <th>Current Description</th>\n      <th>Lat</th>\n      <th>Lng</th>\n      <th>Hotel Name</th>\n    </tr>\n  </thead>\n  <tbody>\n    <tr>\n      <th>0</th>\n      <td>Ushuaia</td>\n      <td>AR</td>\n      <td>49.66</td>\n      <td>broken clouds</td>\n      <td>-54.8000</td>\n      <td>-68.3000</td>\n      <td>NaN</td>\n    </tr>\n    <tr>\n      <th>1</th>\n      <td>Te Anau</td>\n      <td>NZ</td>\n      <td>54.01</td>\n      <td>broken clouds</td>\n      <td>-45.4167</td>\n      <td>167.7167</td>\n      <td>NaN</td>\n    </tr>\n    <tr>\n      <th>2</th>\n      <td>Dikson</td>\n      <td>RU</td>\n      <td>31.68</td>\n      <td>broken clouds</td>\n      <td>73.5069</td>\n      <td>80.5464</td>\n      <td>NaN</td>\n    </tr>\n    <tr>\n      <th>3</th>\n      <td>Vaini</td>\n      <td>TO</td>\n      <td>71.76</td>\n      <td>broken clouds</td>\n      <td>-21.2000</td>\n      <td>-175.2000</td>\n      <td>NaN</td>\n    </tr>\n    <tr>\n      <th>4</th>\n      <td>Gualeguay</td>\n      <td>AR</td>\n      <td>54.54</td>\n      <td>broken clouds</td>\n      <td>-33.1416</td>\n      <td>-59.3097</td>\n      <td>NaN</td>\n    </tr>\n    <tr>\n      <th>...</th>\n      <td>...</td>\n      <td>...</td>\n      <td>...</td>\n      <td>...</td>\n      <td>...</td>\n      <td>...</td>\n      <td>...</td>\n    </tr>\n    <tr>\n      <th>678</th>\n      <td>Salisbury</td>\n      <td>GB</td>\n      <td>54.32</td>\n      <td>broken clouds</td>\n      <td>51.0693</td>\n      <td>-1.7957</td>\n      <td>NaN</td>\n    </tr>\n    <tr>\n      <th>679</th>\n      <td>Buala</td>\n      <td>SB</td>\n      <td>85.03</td>\n      <td>broken clouds</td>\n      <td>-8.1450</td>\n      <td>159.5921</td>\n      <td>NaN</td>\n    </tr>\n    <tr>\n      <th>680</th>\n      <td>Ilebo</td>\n      <td>CD</td>\n      <td>71.91</td>\n      <td>broken clouds</td>\n      <td>-4.3167</td>\n      <td>20.5833</td>\n      <td>NaN</td>\n    </tr>\n    <tr>\n      <th>681</th>\n      <td>Rongcheng</td>\n      <td>CN</td>\n      <td>90.93</td>\n      <td>broken clouds</td>\n      <td>30.6340</td>\n      <td>117.8517</td>\n      <td>NaN</td>\n    </tr>\n    <tr>\n      <th>682</th>\n      <td>Caravelas</td>\n      <td>BR</td>\n      <td>73.09</td>\n      <td>broken clouds</td>\n      <td>-17.7125</td>\n      <td>-39.2481</td>\n      <td>Pousada dos Navegantes</td>\n    </tr>\n  </tbody>\n</table>\n<p>677 rows × 7 columns</p>\n</div>"
     },
     "metadata": {},
     "execution_count": 36
    }
   ],
   "source": [
    "# 7. Drop the rows where there is no Hotel Name.\n",
    "hotel_df.replace('', float(\"NaN\"), inplace=True)\n",
    "hotel_df"
   ]
  },
  {
   "cell_type": "code",
   "execution_count": 37,
   "metadata": {},
   "outputs": [
    {
     "output_type": "execute_result",
     "data": {
      "text/plain": [
       "          City Country  Max Temp Current Description      Lat      Lng  \\\n",
       "682  Caravelas      BR     73.09       broken clouds -17.7125 -39.2481   \n",
       "\n",
       "                 Hotel Name  \n",
       "682  Pousada dos Navegantes  "
      ],
      "text/html": "<div>\n<style scoped>\n    .dataframe tbody tr th:only-of-type {\n        vertical-align: middle;\n    }\n\n    .dataframe tbody tr th {\n        vertical-align: top;\n    }\n\n    .dataframe thead th {\n        text-align: right;\n    }\n</style>\n<table border=\"1\" class=\"dataframe\">\n  <thead>\n    <tr style=\"text-align: right;\">\n      <th></th>\n      <th>City</th>\n      <th>Country</th>\n      <th>Max Temp</th>\n      <th>Current Description</th>\n      <th>Lat</th>\n      <th>Lng</th>\n      <th>Hotel Name</th>\n    </tr>\n  </thead>\n  <tbody>\n    <tr>\n      <th>682</th>\n      <td>Caravelas</td>\n      <td>BR</td>\n      <td>73.09</td>\n      <td>broken clouds</td>\n      <td>-17.7125</td>\n      <td>-39.2481</td>\n      <td>Pousada dos Navegantes</td>\n    </tr>\n  </tbody>\n</table>\n</div>"
     },
     "metadata": {},
     "execution_count": 37
    }
   ],
   "source": [
    "clean_hotel_df=hotel_df.dropna()\n",
    "clean_hotel_df"
   ]
  },
  {
   "cell_type": "code",
   "execution_count": 38,
   "metadata": {},
   "outputs": [],
   "source": [
    "# 8a. Create the output File (CSV)\n",
    "output_data_file=\"WeatherPy_vacation.csv\"\n",
    "# 8b. Export the City_Data into a csv\n",
    "clean_hotel_df.to_csv(output_data_file, index_label=\"City_ID\")"
   ]
  },
  {
   "cell_type": "code",
   "execution_count": 39,
   "metadata": {},
   "outputs": [],
   "source": [
    "# 9. Using the template add city name, the country code, the weather description and maximum temperature for the city.\n",
    "info_box_template = \"\"\"\n",
    "<dl>\n",
    "<dt>City</dt><dd>{City}</dd>\n",
    "<dt>Country</dt><dd>{Country}</dd>\n",
    "<dt>Current Description</dt><dd>{Current Description}</dd>\n",
    "<dt>Max Temp</dt><dd>{Max Temp} °F</dd>\n",
    "</dl>\n",
    "\"\"\"\n",
    "\n",
    "# 10a. Get the data from each row and add it to the formatting template and store the data in a list.\n",
    "hotel_info = [info_box_template.format(**row) for index, row in clean_hotel_df.iterrows()]\n",
    "\n",
    "# 10b. Get the latitude and longitude from each row and store in a new DataFrame.\n",
    "locations = clean_hotel_df[[\"Lat\", \"Lng\"]]"
   ]
  },
  {
   "cell_type": "code",
   "execution_count": 40,
   "metadata": {},
   "outputs": [
    {
     "output_type": "display_data",
     "data": {
      "text/plain": "Figure(layout=FigureLayout(height='420px'))",
      "application/vnd.jupyter.widget-view+json": {
       "version_major": 2,
       "version_minor": 0,
       "model_id": "6e36819382614f3e9a3201827122c5d4"
      }
     },
     "metadata": {}
    }
   ],
   "source": [
    "# 11a. Add a marker layer for each city to the map. \n",
    "# Add a heatmap of temperature for the vacation spots and a pop-up marker for each city.\n",
    "locations = clean_hotel_df[[\"Lat\", \"Lng\"]]\n",
    "max_temp = clean_hotel_df[\"Max Temp\"]\n",
    "fig = gmaps.figure(center=(30.0, 31.0), zoom_level=1.5)\n",
    "heat_layer = gmaps.heatmap_layer(locations, weights=max_temp,dissipating=False, max_intensity=300, point_radius=4)\n",
    "marker_layer = gmaps.marker_layer(locations, info_box_content=hotel_info)\n",
    "fig.add_layer(heat_layer)\n",
    "fig.add_layer(marker_layer)\n",
    "\n",
    "# 11b. Display the figure\n",
    "fig"
   ]
  },
  {
   "cell_type": "code",
   "execution_count": null,
   "metadata": {},
   "outputs": [],
   "source": []
  }
 ],
 "metadata": {
  "kernelspec": {
   "name": "pythondata",
   "display_name": "Python 3.9.4 64-bit ('PythonData': conda)"
  },
  "language_info": {
   "codemirror_mode": {
    "name": "ipython",
    "version": 3
   },
   "file_extension": ".py",
   "mimetype": "text/x-python",
   "name": "python",
   "nbconvert_exporter": "python",
   "pygments_lexer": "ipython3",
   "version": "3.9.4"
  },
  "latex_envs": {
   "LaTeX_envs_menu_present": true,
   "autoclose": false,
   "autocomplete": true,
   "bibliofile": "biblio.bib",
   "cite_by": "apalike",
   "current_citInitial": 1,
   "eqLabelWithNumbers": true,
   "eqNumInitial": 1,
   "hotkeys": {
    "equation": "Ctrl-E",
    "itemize": "Ctrl-I"
   },
   "labels_anchors": false,
   "latex_user_defs": false,
   "report_style_numbering": false,
   "user_envs_cfg": false
  }
 },
 "nbformat": 4,
 "nbformat_minor": 2
}