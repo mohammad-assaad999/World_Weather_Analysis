{
 "cells": [
  {
   "cell_type": "markdown",
   "metadata": {},
   "source": [
    "## Deliverable 3. Create a Travel Itinerary Map."
   ]
  },
  {
   "cell_type": "code",
   "execution_count": 1,
   "metadata": {},
   "outputs": [],
   "source": [
    "# Dependencies and Setup\n",
    "import pandas as pd\n",
    "import requests\n",
    "import gmaps\n",
    "import gmaps.datasets\n",
    "\n",
    "# Import API key\n",
    "from config import g_key\n",
    "\n",
    "# Configure gmaps\n",
    "gmaps.configure(api_key=g_key)"
   ]
  },
  {
   "cell_type": "code",
   "execution_count": 2,
   "metadata": {},
   "outputs": [
    {
     "output_type": "execute_result",
     "data": {
      "text/plain": [
       "     City_ID                 City Country  Max Temp Current Description  \\\n",
       "0          3                Vaini      TO     71.76       broken clouds   \n",
       "1          9      Bambous Virieux      MU     70.05       broken clouds   \n",
       "2         10             Katsuura      JP     87.24       broken clouds   \n",
       "3         15           Banda Aceh      ID     84.40       broken clouds   \n",
       "4         20  Lampazos De Naranjo      MX     89.24       broken clouds   \n",
       "..       ...                  ...     ...       ...                 ...   \n",
       "279      675               Laguna      US     71.24       broken clouds   \n",
       "280      677              Cayenne      GF     81.09       broken clouds   \n",
       "281      679                Buala      SB     85.03       broken clouds   \n",
       "282      680                Ilebo      CD     71.91       broken clouds   \n",
       "283      682            Caravelas      BR     73.09       broken clouds   \n",
       "\n",
       "         Lat       Lng                                         Hotel Name  \n",
       "0   -21.2000 -175.2000                                Keleti Beach Resort  \n",
       "1   -20.3428   57.7575                                     Casa Tia Villa  \n",
       "2    35.1333  140.3000                            Katsuura Hotel Mikazuki  \n",
       "3     5.5577   95.3222                        Sulthan Hotel International  \n",
       "4    27.0167 -100.5167                                        Bella Vista  \n",
       "..       ...       ...                                                ...  \n",
       "279  38.4210 -121.4238  Holiday Inn Express & Suites Elk Grove Central...  \n",
       "280   4.9333  -52.3333                                    Hôtel Le Dronmi  \n",
       "281  -8.1450  159.5921                               Maringe Lagoon Lodge  \n",
       "282  -4.3167   20.5833                                        Hôtel BUMAK  \n",
       "283 -17.7125  -39.2481                             Pousada dos Navegantes  \n",
       "\n",
       "[284 rows x 8 columns]"
      ],
      "text/html": "<div>\n<style scoped>\n    .dataframe tbody tr th:only-of-type {\n        vertical-align: middle;\n    }\n\n    .dataframe tbody tr th {\n        vertical-align: top;\n    }\n\n    .dataframe thead th {\n        text-align: right;\n    }\n</style>\n<table border=\"1\" class=\"dataframe\">\n  <thead>\n    <tr style=\"text-align: right;\">\n      <th></th>\n      <th>City_ID</th>\n      <th>City</th>\n      <th>Country</th>\n      <th>Max Temp</th>\n      <th>Current Description</th>\n      <th>Lat</th>\n      <th>Lng</th>\n      <th>Hotel Name</th>\n    </tr>\n  </thead>\n  <tbody>\n    <tr>\n      <th>0</th>\n      <td>3</td>\n      <td>Vaini</td>\n      <td>TO</td>\n      <td>71.76</td>\n      <td>broken clouds</td>\n      <td>-21.2000</td>\n      <td>-175.2000</td>\n      <td>Keleti Beach Resort</td>\n    </tr>\n    <tr>\n      <th>1</th>\n      <td>9</td>\n      <td>Bambous Virieux</td>\n      <td>MU</td>\n      <td>70.05</td>\n      <td>broken clouds</td>\n      <td>-20.3428</td>\n      <td>57.7575</td>\n      <td>Casa Tia Villa</td>\n    </tr>\n    <tr>\n      <th>2</th>\n      <td>10</td>\n      <td>Katsuura</td>\n      <td>JP</td>\n      <td>87.24</td>\n      <td>broken clouds</td>\n      <td>35.1333</td>\n      <td>140.3000</td>\n      <td>Katsuura Hotel Mikazuki</td>\n    </tr>\n    <tr>\n      <th>3</th>\n      <td>15</td>\n      <td>Banda Aceh</td>\n      <td>ID</td>\n      <td>84.40</td>\n      <td>broken clouds</td>\n      <td>5.5577</td>\n      <td>95.3222</td>\n      <td>Sulthan Hotel International</td>\n    </tr>\n    <tr>\n      <th>4</th>\n      <td>20</td>\n      <td>Lampazos De Naranjo</td>\n      <td>MX</td>\n      <td>89.24</td>\n      <td>broken clouds</td>\n      <td>27.0167</td>\n      <td>-100.5167</td>\n      <td>Bella Vista</td>\n    </tr>\n    <tr>\n      <th>...</th>\n      <td>...</td>\n      <td>...</td>\n      <td>...</td>\n      <td>...</td>\n      <td>...</td>\n      <td>...</td>\n      <td>...</td>\n      <td>...</td>\n    </tr>\n    <tr>\n      <th>279</th>\n      <td>675</td>\n      <td>Laguna</td>\n      <td>US</td>\n      <td>71.24</td>\n      <td>broken clouds</td>\n      <td>38.4210</td>\n      <td>-121.4238</td>\n      <td>Holiday Inn Express &amp; Suites Elk Grove Central...</td>\n    </tr>\n    <tr>\n      <th>280</th>\n      <td>677</td>\n      <td>Cayenne</td>\n      <td>GF</td>\n      <td>81.09</td>\n      <td>broken clouds</td>\n      <td>4.9333</td>\n      <td>-52.3333</td>\n      <td>Hôtel Le Dronmi</td>\n    </tr>\n    <tr>\n      <th>281</th>\n      <td>679</td>\n      <td>Buala</td>\n      <td>SB</td>\n      <td>85.03</td>\n      <td>broken clouds</td>\n      <td>-8.1450</td>\n      <td>159.5921</td>\n      <td>Maringe Lagoon Lodge</td>\n    </tr>\n    <tr>\n      <th>282</th>\n      <td>680</td>\n      <td>Ilebo</td>\n      <td>CD</td>\n      <td>71.91</td>\n      <td>broken clouds</td>\n      <td>-4.3167</td>\n      <td>20.5833</td>\n      <td>Hôtel BUMAK</td>\n    </tr>\n    <tr>\n      <th>283</th>\n      <td>682</td>\n      <td>Caravelas</td>\n      <td>BR</td>\n      <td>73.09</td>\n      <td>broken clouds</td>\n      <td>-17.7125</td>\n      <td>-39.2481</td>\n      <td>Pousada dos Navegantes</td>\n    </tr>\n  </tbody>\n</table>\n<p>284 rows × 8 columns</p>\n</div>"
     },
     "metadata": {},
     "execution_count": 2
    }
   ],
   "source": [
    "# 1. Read the WeatherPy_vacation.csv into a DataFrame.\n",
    "vacation_df = pd.read_csv(\"../Vacation_Search/WeatherPy_vacation.csv\")\n",
    "vacation_df"
   ]
  },
  {
   "cell_type": "code",
   "execution_count": 3,
   "metadata": {},
   "outputs": [],
   "source": [
    "# 2. Using the template add the city name, the country code, the weather description and maximum temperature for the city.\n",
    "info_box_template = \"\"\"\n",
    "<dl><dt>City Name</dt><dd>{City}</dd>\n",
    "<dt>Country Code</dt><dd>{Country}</dd>\n",
    "<dt>Weather Description</dt><dd>{Current Description} and {Max Temp} °F</dd>\n",
    "</dl>\n",
    "\"\"\"\n",
    "\n",
    "# 3a. Get the data from each row and add it to the formatting template and store the data in a list.\n",
    "hotel_info = [info_box_template.format(**row) for index, row in vacation_df.iterrows()]\n",
    "\n",
    "# 3b. Get the latitude and longitude from each row and store in a new DataFrame.\n",
    "locations = vacation_df[[\"Lat\", \"Lng\"]]"
   ]
  },
  {
   "cell_type": "code",
   "execution_count": 4,
   "metadata": {},
   "outputs": [
    {
     "output_type": "display_data",
     "data": {
      "text/plain": "Figure(layout=FigureLayout(height='420px'))",
      "application/vnd.jupyter.widget-view+json": {
       "version_major": 2,
       "version_minor": 0,
       "model_id": "eb22e1a587cd4388865a9198cf5c4275"
      }
     },
     "metadata": {}
    }
   ],
   "source": [
    "# 4a. Add a marker layer for each city to the map.\n",
    "locations = vacation_df[[\"Lat\", \"Lng\"]]\n",
    "max_temp = vacation_df[\"Max Temp\"]\n",
    "fig = gmaps.figure(center=(30.0, 31.0), zoom_level=1.5)\n",
    "marker_layer = gmaps.marker_layer(locations, info_box_content=hotel_info)\n",
    "fig.add_layer(marker_layer)\n",
    "\n",
    "# 4b. Display the figure\n",
    "fig"
   ]
  },
  {
   "cell_type": "code",
   "execution_count": 5,
   "metadata": {},
   "outputs": [],
   "source": [
    "# From the map above pick 4 cities and create a vacation itinerary route to travel between the four cities. \n",
    "# 5. Create DataFrames for each city by filtering the 'vacation_df' using the loc method. \n",
    "# Hint: The starting and ending city should be the same city.\n",
    "\n",
    "vacation_start = vacation_df.loc[vacation_df[\"City\"] == \"Merrill\"]\n",
    "vacation_end = vacation_df.loc[vacation_df[\"City\"] == \"Merrill\"]\n",
    "vacation_stop1 = vacation_df.loc[vacation_df[\"City\"] == \"Saint Anthony\"]\n",
    "vacation_stop2 = vacation_df.loc[vacation_df[\"City\"] == \"New Ulm\"]\n",
    "vacation_stop3 = vacation_df.loc[vacation_df[\"City\"] == \"Mitchell\"]"
   ]
  },
  {
   "cell_type": "code",
   "execution_count": 6,
   "metadata": {},
   "outputs": [],
   "source": [
    "# 6. Get the latitude-longitude pairs as tuples from each city DataFrame using the to_numpy function and list indexing.\n",
    "start = vacation_start[\"Lat\"].to_numpy()[0], vacation_start[\"Lng\"].to_numpy()[0]\n",
    "end = vacation_start[\"Lat\"].to_numpy()[0], vacation_start[\"Lng\"].to_numpy()[0]\n",
    "stop1 = vacation_stop1[\"Lat\"].to_numpy()[0], vacation_stop1[\"Lng\"].to_numpy()[0]\n",
    "stop2 = vacation_stop2[\"Lat\"].to_numpy()[0], vacation_stop2[\"Lng\"].to_numpy()[0]\n",
    "stop3 = vacation_stop3[\"Lat\"].to_numpy()[0], vacation_stop3[\"Lng\"].to_numpy()[0]"
   ]
  },
  {
   "cell_type": "code",
   "execution_count": 7,
   "metadata": {},
   "outputs": [
    {
     "output_type": "execute_result",
     "data": {
      "text/plain": [
       "(45.1805, -89.6835)"
      ]
     },
     "metadata": {},
     "execution_count": 7
    }
   ],
   "source": [
    "start"
   ]
  },
  {
   "cell_type": "code",
   "execution_count": 8,
   "metadata": {},
   "outputs": [
    {
     "output_type": "execute_result",
     "data": {
      "text/plain": [
       "(45.1805, -89.6835)"
      ]
     },
     "metadata": {},
     "execution_count": 8
    }
   ],
   "source": [
    "end"
   ]
  },
  {
   "cell_type": "code",
   "execution_count": 9,
   "metadata": {},
   "outputs": [
    {
     "output_type": "execute_result",
     "data": {
      "text/plain": [
       "(44.3125, -94.4605)"
      ]
     },
     "metadata": {},
     "execution_count": 9
    }
   ],
   "source": [
    "stop2"
   ]
  },
  {
   "cell_type": "code",
   "execution_count": 10,
   "metadata": {
    "scrolled": true
   },
   "outputs": [
    {
     "output_type": "display_data",
     "data": {
      "text/plain": "Figure(layout=FigureLayout(height='420px'))",
      "application/vnd.jupyter.widget-view+json": {
       "version_major": 2,
       "version_minor": 0,
       "model_id": "0098519ce9f54812bcfc8b6c78abb0e9"
      }
     },
     "metadata": {}
    }
   ],
   "source": [
    "# 7. Create a direction layer map using the start and end latitude-longitude pairs,\n",
    "# and stop1, stop2, and stop3 as the waypoints. The travel_mode should be \"DRIVING\", \"BICYCLING\", or \"WALKING\".\n",
    "fig = gmaps.figure()\n",
    "Direction = gmaps.directions_layer(start, end, waypoints=[stop1, stop2, stop3], travel_mode='DRIVING')\n",
    "fig.add_layer(Direction)\n",
    "fig"
   ]
  },
  {
   "cell_type": "code",
   "execution_count": null,
   "metadata": {},
   "outputs": [],
   "source": []
  },
  {
   "cell_type": "code",
   "execution_count": 11,
   "metadata": {},
   "outputs": [
    {
     "output_type": "execute_result",
     "data": {
      "text/plain": [
       "   City_ID           City Country  Max Temp Current Description      Lat  \\\n",
       "0      388        Merrill      US     72.32       broken clouds  45.1805   \n",
       "1      388        Merrill      US     72.32       broken clouds  45.1805   \n",
       "2      381  Saint Anthony      US     87.73       broken clouds  45.0205   \n",
       "3      349        New Ulm      US     84.81       broken clouds  44.3125   \n",
       "4      382       Mitchell      US     80.11       broken clouds  43.7094   \n",
       "\n",
       "       Lng                                         Hotel Name  \n",
       "0 -89.6835                                      Prairie Motel  \n",
       "1 -89.6835                                      Prairie Motel  \n",
       "2 -93.2180  Holiday Inn Express Roseville-St. Paul, an IHG...  \n",
       "3 -94.4605                          Best Western Plus New Ulm  \n",
       "4 -98.0298                                 Kelly Inn & Suites  "
      ],
      "text/html": "<div>\n<style scoped>\n    .dataframe tbody tr th:only-of-type {\n        vertical-align: middle;\n    }\n\n    .dataframe tbody tr th {\n        vertical-align: top;\n    }\n\n    .dataframe thead th {\n        text-align: right;\n    }\n</style>\n<table border=\"1\" class=\"dataframe\">\n  <thead>\n    <tr style=\"text-align: right;\">\n      <th></th>\n      <th>City_ID</th>\n      <th>City</th>\n      <th>Country</th>\n      <th>Max Temp</th>\n      <th>Current Description</th>\n      <th>Lat</th>\n      <th>Lng</th>\n      <th>Hotel Name</th>\n    </tr>\n  </thead>\n  <tbody>\n    <tr>\n      <th>0</th>\n      <td>388</td>\n      <td>Merrill</td>\n      <td>US</td>\n      <td>72.32</td>\n      <td>broken clouds</td>\n      <td>45.1805</td>\n      <td>-89.6835</td>\n      <td>Prairie Motel</td>\n    </tr>\n    <tr>\n      <th>1</th>\n      <td>388</td>\n      <td>Merrill</td>\n      <td>US</td>\n      <td>72.32</td>\n      <td>broken clouds</td>\n      <td>45.1805</td>\n      <td>-89.6835</td>\n      <td>Prairie Motel</td>\n    </tr>\n    <tr>\n      <th>2</th>\n      <td>381</td>\n      <td>Saint Anthony</td>\n      <td>US</td>\n      <td>87.73</td>\n      <td>broken clouds</td>\n      <td>45.0205</td>\n      <td>-93.2180</td>\n      <td>Holiday Inn Express Roseville-St. Paul, an IHG...</td>\n    </tr>\n    <tr>\n      <th>3</th>\n      <td>349</td>\n      <td>New Ulm</td>\n      <td>US</td>\n      <td>84.81</td>\n      <td>broken clouds</td>\n      <td>44.3125</td>\n      <td>-94.4605</td>\n      <td>Best Western Plus New Ulm</td>\n    </tr>\n    <tr>\n      <th>4</th>\n      <td>382</td>\n      <td>Mitchell</td>\n      <td>US</td>\n      <td>80.11</td>\n      <td>broken clouds</td>\n      <td>43.7094</td>\n      <td>-98.0298</td>\n      <td>Kelly Inn &amp; Suites</td>\n    </tr>\n  </tbody>\n</table>\n</div>"
     },
     "metadata": {},
     "execution_count": 11
    }
   ],
   "source": [
    "# 8. To create a marker layer map between the four cities.\n",
    "#  Combine the four city DataFrames into one DataFrame using the concat() function.\n",
    "itinerary_df = pd.concat([vacation_start, vacation_end, vacation_stop1, vacation_stop2, vacation_stop3],ignore_index=True)\n",
    "itinerary_df"
   ]
  },
  {
   "cell_type": "code",
   "execution_count": 12,
   "metadata": {},
   "outputs": [],
   "source": [
    "# 9 Using the template add city name, the country code, the weather description and maximum temperature for the city. \n",
    "info_box_template = \"\"\"\n",
    "<dl><dt>City Name</dt><dd>{City}</dd>\n",
    "<dt>Country Code</dt><dd>{Country}</dd>\n",
    "<dt>Weather Description</dt><dd>{Current Description} and {Max Temp} °F</dd>\n",
    "</dl>\n",
    "\"\"\"\n",
    "\n",
    "# 10a Get the data from each row and add it to the formatting template and store the data in a list.\n",
    "hotel_info = [info_box_template.format(**row) for index, row in itinerary_df.iterrows()]\n",
    "\n",
    "# 10b. Get the latitude and longitude from each row and store in a new DataFrame.\n",
    "locations = itinerary_df[[\"Lat\", \"Lng\"]]"
   ]
  },
  {
   "cell_type": "code",
   "execution_count": 13,
   "metadata": {},
   "outputs": [
    {
     "output_type": "display_data",
     "data": {
      "text/plain": "Figure(layout=FigureLayout(height='420px'))",
      "application/vnd.jupyter.widget-view+json": {
       "version_major": 2,
       "version_minor": 0,
       "model_id": "65629db1fcaf4ee593e12c39f153e4f2"
      }
     },
     "metadata": {}
    }
   ],
   "source": [
    "# 11a. Add a marker layer for each city to the map.\n",
    "fig = gmaps.figure()\n",
    "Direction = gmaps.directions_layer(start, end, waypoints=[stop1, stop2, stop3], travel_mode='DRIVING')\n",
    "locations = itinerary_df[[\"Lat\", \"Lng\"]]\n",
    "max_temp = itinerary_df[\"Max Temp\"]\n",
    "marker_layer = gmaps.marker_layer(locations, info_box_content=hotel_info)\n",
    "fig.add_layer(marker_layer)\n",
    "fig.add_layer(Direction)\n",
    "\n",
    "# 11b. Display the figure\n",
    "fig"
   ]
  },
  {
   "cell_type": "code",
   "execution_count": null,
   "metadata": {},
   "outputs": [],
   "source": []
  }
 ],
 "metadata": {
  "kernelspec": {
   "name": "pythondata",
   "display_name": "Python 3.9.4 64-bit ('PythonData': conda)"
  },
  "language_info": {
   "codemirror_mode": {
    "name": "ipython",
    "version": 3
   },
   "file_extension": ".py",
   "mimetype": "text/x-python",
   "name": "python",
   "nbconvert_exporter": "python",
   "pygments_lexer": "ipython3",
   "version": "3.9.4"
  },
  "latex_envs": {
   "LaTeX_envs_menu_present": true,
   "autoclose": false,
   "autocomplete": true,
   "bibliofile": "biblio.bib",
   "cite_by": "apalike",
   "current_citInitial": 1,
   "eqLabelWithNumbers": true,
   "eqNumInitial": 1,
   "hotkeys": {
    "equation": "Ctrl-E",
    "itemize": "Ctrl-I"
   },
   "labels_anchors": false,
   "latex_user_defs": false,
   "report_style_numbering": false,
   "user_envs_cfg": false
  }
 },
 "nbformat": 4,
 "nbformat_minor": 2
}