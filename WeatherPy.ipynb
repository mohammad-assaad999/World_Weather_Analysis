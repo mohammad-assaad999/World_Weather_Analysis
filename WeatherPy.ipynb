{
 "metadata": {
  "language_info": {
   "codemirror_mode": {
    "name": "ipython",
    "version": 3
   },
   "file_extension": ".py",
   "mimetype": "text/x-python",
   "name": "python",
   "nbconvert_exporter": "python",
   "pygments_lexer": "ipython3",
   "version": "3.9.5"
  },
  "orig_nbformat": 2,
  "kernelspec": {
   "name": "python395jvsc74a57bd043cfb36995313a4dff0ec7188c9dad108c2174447617cd4efd46185f66681f05",
   "display_name": "Python 3.9.5 64-bit"
  },
  "metadata": {
   "interpreter": {
    "hash": "43cfb36995313a4dff0ec7188c9dad108c2174447617cd4efd46185f66681f05"
   }
  }
 },
 "nbformat": 4,
 "nbformat_minor": 2,
 "cells": [
  {
   "cell_type": "code",
   "execution_count": 1,
   "metadata": {},
   "outputs": [],
   "source": [
    "import pandas as pd\n",
    "import matplotlib.pyplot as plt\n",
    "import numpy as np"
   ]
  },
  {
   "cell_type": "code",
   "execution_count": 2,
   "metadata": {},
   "outputs": [
    {
     "output_type": "execute_result",
     "data": {
      "text/plain": [
       "<zip at 0x27ea39d74c0>"
      ]
     },
     "metadata": {},
     "execution_count": 2
    }
   ],
   "source": [
    "# Create a set of random latitude and longitude combinations.\n",
    "lats = np.random.uniform(low=-90.000, high=90.000, size=1500)\n",
    "lngs = np.random.uniform(low=-180.000, high=180.000, size=1500)\n",
    "lat_lngs = zip(lats, lngs)\n",
    "lat_lngs"
   ]
  },
  {
   "cell_type": "code",
   "execution_count": 3,
   "metadata": {},
   "outputs": [],
   "source": [
    "# Add the latitudes and longitudes to a list.\n",
    "coordinates = list(lat_lngs)"
   ]
  },
  {
   "cell_type": "code",
   "execution_count": 4,
   "metadata": {},
   "outputs": [],
   "source": [
    "# Use the citipy module to determine city based on latitude and longitude.\n",
    "from citipy import citipy"
   ]
  },
  {
   "cell_type": "code",
   "execution_count": 5,
   "metadata": {},
   "outputs": [
    {
     "output_type": "execute_result",
     "data": {
      "text/plain": [
       "619"
      ]
     },
     "metadata": {},
     "execution_count": 5
    }
   ],
   "source": [
    "# Create a list for holding the cities.\n",
    "cities = []\n",
    "# Identify the nearest city for each latitude and longitude combination.\n",
    "for coordinate in coordinates:\n",
    "    city = citipy.nearest_city(coordinate[0], coordinate[1]).city_name\n",
    "    # If the city is unique, then we will add it to the cities list.\n",
    "    if city not in cities:\n",
    "        cities.append(city)\n",
    "# Print the city count to confirm sufficient count.\n",
    "len(cities)"
   ]
  },
  {
   "cell_type": "code",
   "execution_count": 6,
   "metadata": {},
   "outputs": [
    {
     "output_type": "stream",
     "name": "stdout",
     "text": [
      "Requirement already satisfied: requests in c:\\users\\azuz\\appdata\\local\\programs\\python\\python39\\lib\\site-packages (2.25.1)\n",
      "Requirement already satisfied: certifi>=2017.4.17 in c:\\users\\azuz\\appdata\\local\\programs\\python\\python39\\lib\\site-packages (from requests) (2021.5.30)\n",
      "Requirement already satisfied: idna<3,>=2.5 in c:\\users\\azuz\\appdata\\local\\programs\\python\\python39\\lib\\site-packages (from requests) (2.10)\n",
      "Requirement already satisfied: chardet<5,>=3.0.2 in c:\\users\\azuz\\appdata\\local\\programs\\python\\python39\\lib\\site-packages (from requests) (4.0.0)\n",
      "Requirement already satisfied: urllib3<1.27,>=1.21.1 in c:\\users\\azuz\\appdata\\local\\programs\\python\\python39\\lib\\site-packages (from requests) (1.26.5)\n",
      "Note: you may need to restart the kernel to use updated packages.\n",
      "WARNING: You are using pip version 21.1.1; however, version 21.1.2 is available.\n",
      "You should consider upgrading via the 'C:\\Users\\AZUZ\\AppData\\Local\\Programs\\Python\\Python39\\python.exe -m pip install --upgrade pip' command.\n"
     ]
    }
   ],
   "source": [
    "pip install requests"
   ]
  },
  {
   "cell_type": "code",
   "execution_count": 7,
   "metadata": {},
   "outputs": [
    {
     "output_type": "execute_result",
     "data": {
      "text/plain": [
       "'2.25.1'"
      ]
     },
     "metadata": {},
     "execution_count": 7
    }
   ],
   "source": [
    "import requests\n",
    "requests.__version__"
   ]
  },
  {
   "cell_type": "code",
   "execution_count": 8,
   "metadata": {},
   "outputs": [],
   "source": [
    "# Import the requests library.\n",
    "import requests\n",
    "# Import the API key.\n",
    "from config import weather_api_key"
   ]
  },
  {
   "cell_type": "code",
   "execution_count": 9,
   "metadata": {},
   "outputs": [
    {
     "output_type": "stream",
     "name": "stdout",
     "text": [
      "http://api.openweathermap.org/data/2.5/weather?units=Imperial&APPID=55fd565afc65bd1cff73756cb209c91a\n"
     ]
    }
   ],
   "source": [
    "# Starting URL for Weather Map API Call.\n",
    "url = \"http://api.openweathermap.org/data/2.5/weather?units=Imperial&APPID=\" + weather_api_key\n",
    "print(url)"
   ]
  },
  {
   "cell_type": "code",
   "execution_count": 10,
   "metadata": {},
   "outputs": [
    {
     "output_type": "stream",
     "name": "stdout",
     "text": [
      "http://api.openweathermap.org/data/2.5/weather?units=Imperial&APPID=55fd565afc65bd1cff73756cb209c91a&q=Boston\n"
     ]
    }
   ],
   "source": [
    "# Create an endpoint URL for a city.\n",
    "city_url = url + \"&q=\" + \"Boston\"\n",
    "print(city_url)"
   ]
  },
  {
   "cell_type": "code",
   "execution_count": 11,
   "metadata": {},
   "outputs": [
    {
     "output_type": "execute_result",
     "data": {
      "text/plain": [
       "<Response [200]>"
      ]
     },
     "metadata": {},
     "execution_count": 11
    }
   ],
   "source": [
    "# Make a 'Get' request for the city weather.\n",
    "city_weather = requests.get(city_url)\n",
    "city_weather"
   ]
  },
  {
   "cell_type": "code",
   "execution_count": 12,
   "metadata": {},
   "outputs": [
    {
     "output_type": "execute_result",
     "data": {
      "text/plain": [
       "'{\"coord\":{\"lon\":-71.0598,\"lat\":42.3584},\"weather\":[{\"id\":501,\"main\":\"Rain\",\"description\":\"moderate rain\",\"icon\":\"10d\"}],\"base\":\"stations\",\"main\":{\"temp\":73.54,\"feels_like\":74.35,\"temp_min\":67.59,\"temp_max\":79.41,\"pressure\":1010,\"humidity\":80},\"visibility\":10000,\"wind\":{\"speed\":5.99,\"deg\":293,\"gust\":17},\"rain\":{\"1h\":1.94},\"clouds\":{\"all\":90},\"dt\":1622837598,\"sys\":{\"type\":2,\"id\":2013408,\"country\":\"US\",\"sunrise\":1622797730,\"sunset\":1622852203},\"timezone\":-14400,\"id\":4930956,\"name\":\"Boston\",\"cod\":200}'"
      ]
     },
     "metadata": {},
     "execution_count": 12
    }
   ],
   "source": [
    "# Get the text of the 'Get' request.\n",
    "city_weather.text"
   ]
  },
  {
   "cell_type": "code",
   "execution_count": 13,
   "metadata": {},
   "outputs": [
    {
     "output_type": "execute_result",
     "data": {
      "text/plain": [
       "{'coord': {'lon': -71.0598, 'lat': 42.3584},\n",
       " 'weather': [{'id': 501,\n",
       "   'main': 'Rain',\n",
       "   'description': 'moderate rain',\n",
       "   'icon': '10d'}],\n",
       " 'base': 'stations',\n",
       " 'main': {'temp': 73.54,\n",
       "  'feels_like': 74.35,\n",
       "  'temp_min': 67.59,\n",
       "  'temp_max': 79.41,\n",
       "  'pressure': 1010,\n",
       "  'humidity': 80},\n",
       " 'visibility': 10000,\n",
       " 'wind': {'speed': 5.99, 'deg': 293, 'gust': 17},\n",
       " 'rain': {'1h': 1.94},\n",
       " 'clouds': {'all': 90},\n",
       " 'dt': 1622837598,\n",
       " 'sys': {'type': 2,\n",
       "  'id': 2013408,\n",
       "  'country': 'US',\n",
       "  'sunrise': 1622797730,\n",
       "  'sunset': 1622852203},\n",
       " 'timezone': -14400,\n",
       " 'id': 4930956,\n",
       " 'name': 'Boston',\n",
       " 'cod': 200}"
      ]
     },
     "metadata": {},
     "execution_count": 13
    }
   ],
   "source": [
    "# Get the JSON text of the 'Get' request.\n",
    "boston_data = city_weather.json()\n",
    "boston_data"
   ]
  },
  {
   "cell_type": "code",
   "execution_count": 14,
   "metadata": {},
   "outputs": [
    {
     "output_type": "stream",
     "name": "stdout",
     "text": [
      "42.3584 -71.0598 79.41 80 90 5.99\n"
     ]
    }
   ],
   "source": [
    "lat = boston_data[\"coord\"][\"lat\"]\n",
    "lng = boston_data[\"coord\"][\"lon\"]\n",
    "max_temp = boston_data[\"main\"][\"temp_max\"]\n",
    "humidity = boston_data[\"main\"][\"humidity\"]\n",
    "clouds = boston_data[\"clouds\"][\"all\"]\n",
    "wind = boston_data[\"wind\"][\"speed\"]\n",
    "print(lat, lng, max_temp, humidity, clouds, wind)"
   ]
  },
  {
   "cell_type": "code",
   "execution_count": 15,
   "metadata": {},
   "outputs": [
    {
     "output_type": "execute_result",
     "data": {
      "text/plain": [
       "'2021-06-04 20:13:18'"
      ]
     },
     "metadata": {},
     "execution_count": 15
    }
   ],
   "source": [
    "# Import the datetime module from the datetime library.\n",
    "from datetime import datetime\n",
    "# Get the date from the JSON file.\n",
    "date = boston_data[\"dt\"]\n",
    "# Convert the UTC date to a date format with year, month, day, hours, minutes, and seconds.\n",
    "datetime.utcfromtimestamp(date).strftime('%Y-%m-%d %H:%M:%S')"
   ]
  },
  {
   "cell_type": "code",
   "execution_count": 16,
   "metadata": {},
   "outputs": [],
   "source": [
    "city_data = []"
   ]
  },
  {
   "cell_type": "code",
   "execution_count": 17,
   "metadata": {},
   "outputs": [],
   "source": [
    "# Import the datetime module from the datetime library.\n",
    "from datetime import datetime"
   ]
  },
  {
   "cell_type": "code",
   "execution_count": 18,
   "metadata": {},
   "outputs": [
    {
     "output_type": "stream",
     "name": "stdout",
     "text": [
      "Beginning Data Retrieval     \n-----------------------------\n"
     ]
    }
   ],
   "source": [
    "# Create an empty list to hold the weather data.\n",
    "city_data = []\n",
    "# Print the beginning of the logging.\n",
    "print(\"Beginning Data Retrieval     \")\n",
    "print(\"-----------------------------\")\n",
    "\n",
    "# Create counters.\n",
    "record_count = 1\n",
    "set_count = 1"
   ]
  },
  {
   "cell_type": "code",
   "execution_count": 19,
   "metadata": {},
   "outputs": [],
   "source": [
    "# Loop through all the cities in our list.\n",
    "for i in range(len(cities)):\n",
    "\n",
    "    # Group cities in sets of 50 for logging purposes.\n",
    "    if (i % 50 == 0 and i >= 50):\n",
    "        set_count += 1\n",
    "        record_count = 1\n",
    "    # Create endpoint URL with each city.\n",
    "    city_url = url + \"&q=\" + cities[i]"
   ]
  },
  {
   "cell_type": "code",
   "execution_count": 21,
   "metadata": {
    "tags": [
     "outputPrepend"
    ]
   },
   "outputs": [
    {
     "output_type": "stream",
     "name": "stdout",
     "text": [
      "ssing Record 18 of Set 28 | wukari\n",
      "Processing Record 19 of Set 28 | kloulklubed\n",
      "Processing Record 20 of Set 28 | diapaga\n",
      "Processing Record 21 of Set 28 | barentsburg\n",
      "City not found. Skipping...\n",
      "Processing Record 22 of Set 28 | kruisfontein\n",
      "Processing Record 23 of Set 28 | nador\n",
      "Processing Record 24 of Set 28 | port lincoln\n",
      "Processing Record 25 of Set 28 | leninskoye\n",
      "Processing Record 26 of Set 28 | attawapiskat\n",
      "City not found. Skipping...\n",
      "Processing Record 27 of Set 28 | oranjestad\n",
      "Processing Record 28 of Set 28 | kashi\n",
      "Processing Record 29 of Set 28 | sao filipe\n",
      "Processing Record 30 of Set 28 | qaqortoq\n",
      "Processing Record 31 of Set 28 | le port\n",
      "Processing Record 32 of Set 28 | luanda\n",
      "Processing Record 33 of Set 28 | esperanza\n",
      "Processing Record 34 of Set 28 | enshi\n",
      "Processing Record 35 of Set 28 | samusu\n",
      "City not found. Skipping...\n",
      "Processing Record 36 of Set 28 | husavik\n",
      "Processing Record 37 of Set 28 | chissamba\n",
      "Processing Record 38 of Set 28 | sadiqabad\n",
      "Processing Record 39 of Set 28 | katsuura\n",
      "Processing Record 40 of Set 28 | nhulunbuy\n",
      "Processing Record 41 of Set 28 | bengkalis\n",
      "City not found. Skipping...\n",
      "Processing Record 42 of Set 28 | flinders\n",
      "Processing Record 43 of Set 28 | nioro\n",
      "Processing Record 44 of Set 28 | orapa\n",
      "Processing Record 45 of Set 28 | medicine hat\n",
      "Processing Record 46 of Set 28 | boca do acre\n",
      "Processing Record 47 of Set 28 | thompson\n",
      "Processing Record 48 of Set 28 | nemyriv\n",
      "Processing Record 49 of Set 28 | francisco morato\n",
      "Processing Record 50 of Set 28 | salisbury\n",
      "Processing Record 1 of Set 29 | norfolk\n",
      "Processing Record 2 of Set 29 | mende\n",
      "Processing Record 3 of Set 29 | belle glade\n",
      "Processing Record 4 of Set 29 | saint-joseph\n",
      "Processing Record 5 of Set 29 | tura\n",
      "Processing Record 6 of Set 29 | chapada dos guimaraes\n",
      "Processing Record 7 of Set 29 | chaoyang\n",
      "Processing Record 8 of Set 29 | nara\n",
      "Processing Record 9 of Set 29 | strelka\n",
      "Processing Record 10 of Set 29 | muisne\n",
      "Processing Record 11 of Set 29 | oranjemund\n",
      "Processing Record 12 of Set 29 | brecksville\n",
      "Processing Record 13 of Set 29 | belyy yar\n",
      "Processing Record 14 of Set 29 | raudeberg\n",
      "Processing Record 15 of Set 29 | victoria\n",
      "Processing Record 16 of Set 29 | baghramyan\n",
      "Processing Record 17 of Set 29 | bontang\n",
      "Processing Record 18 of Set 29 | la libertad\n",
      "Processing Record 19 of Set 29 | bilibino\n",
      "Processing Record 20 of Set 29 | byron bay\n",
      "Processing Record 21 of Set 29 | haines junction\n",
      "Processing Record 22 of Set 29 | rajapalaiyam\n",
      "Processing Record 23 of Set 29 | totness\n",
      "Processing Record 24 of Set 29 | killybegs\n",
      "Processing Record 25 of Set 29 | richards bay\n",
      "Processing Record 26 of Set 29 | prado\n",
      "Processing Record 27 of Set 29 | fushun\n",
      "Processing Record 28 of Set 29 | martin\n",
      "Processing Record 29 of Set 29 | north myrtle beach\n",
      "Processing Record 30 of Set 29 | vokhtoga\n",
      "Processing Record 31 of Set 29 | gazli\n",
      "Processing Record 32 of Set 29 | afmadu\n",
      "City not found. Skipping...\n",
      "Processing Record 33 of Set 29 | dekernes\n",
      "Processing Record 34 of Set 29 | bumba\n",
      "Processing Record 35 of Set 29 | esmeraldas\n",
      "Processing Record 36 of Set 29 | vardo\n",
      "Processing Record 37 of Set 29 | saint-augustin\n",
      "Processing Record 38 of Set 29 | bethel\n",
      "Processing Record 39 of Set 29 | pyu\n",
      "Processing Record 40 of Set 29 | pisco\n",
      "Processing Record 41 of Set 29 | mahadday weyne\n",
      "City not found. Skipping...\n",
      "Processing Record 42 of Set 29 | sale\n",
      "Processing Record 43 of Set 29 | tateyama\n",
      "Processing Record 44 of Set 29 | antalaha\n",
      "Processing Record 45 of Set 29 | coxim\n",
      "Processing Record 46 of Set 29 | broken hill\n",
      "Processing Record 47 of Set 29 | guerrero negro\n",
      "Processing Record 48 of Set 29 | torbay\n",
      "Processing Record 49 of Set 29 | cagayan de tawi-tawi\n",
      "City not found. Skipping...\n",
      "Processing Record 50 of Set 29 | houma\n",
      "Processing Record 1 of Set 30 | isangel\n",
      "Processing Record 2 of Set 30 | lilongwe\n",
      "Processing Record 3 of Set 30 | korla\n",
      "Processing Record 4 of Set 30 | sangerhausen\n",
      "Processing Record 5 of Set 30 | blonduos\n",
      "City not found. Skipping...\n",
      "Processing Record 6 of Set 30 | nanortalik\n",
      "Processing Record 7 of Set 30 | ancud\n",
      "Processing Record 8 of Set 30 | ahipara\n",
      "Processing Record 9 of Set 30 | lebu\n",
      "Processing Record 10 of Set 30 | waunakee\n",
      "Processing Record 11 of Set 30 | sept-iles\n",
      "Processing Record 12 of Set 30 | goderich\n",
      "Processing Record 13 of Set 30 | saskylakh\n",
      "Processing Record 14 of Set 30 | phuket\n",
      "Processing Record 15 of Set 30 | lagoa\n",
      "Processing Record 16 of Set 30 | faanui\n",
      "Processing Record 17 of Set 30 | yebaishou\n",
      "Processing Record 18 of Set 30 | alice springs\n",
      "Processing Record 19 of Set 30 | mergui\n",
      "City not found. Skipping...\n",
      "Processing Record 20 of Set 30 | pangai\n",
      "Processing Record 21 of Set 30 | nova era\n",
      "Processing Record 22 of Set 30 | nome\n",
      "Processing Record 23 of Set 30 | chunskiy\n",
      "Processing Record 24 of Set 30 | nguiu\n",
      "City not found. Skipping...\n",
      "Processing Record 25 of Set 30 | oktyabrskoye\n",
      "Processing Record 26 of Set 30 | lompoc\n",
      "Processing Record 27 of Set 30 | oyama\n",
      "Processing Record 28 of Set 30 | bras-panon\n",
      "Processing Record 29 of Set 30 | fairbanks\n",
      "Processing Record 30 of Set 30 | mihijam\n",
      "Processing Record 31 of Set 30 | fairview\n",
      "Processing Record 32 of Set 30 | yerbogachen\n",
      "Processing Record 33 of Set 30 | oum hadjer\n",
      "Processing Record 34 of Set 30 | mindelo\n",
      "Processing Record 35 of Set 30 | kavieng\n",
      "Processing Record 36 of Set 30 | zabol\n",
      "Processing Record 37 of Set 30 | alexandria\n",
      "Processing Record 38 of Set 30 | cherskiy\n",
      "Processing Record 39 of Set 30 | kosovska mitrovica\n",
      "Processing Record 40 of Set 30 | tromso\n",
      "Processing Record 41 of Set 30 | lavrentiya\n",
      "Processing Record 42 of Set 30 | bereda\n",
      "Processing Record 43 of Set 30 | bay roberts\n",
      "Processing Record 44 of Set 30 | norman wells\n",
      "Processing Record 45 of Set 30 | baruun-urt\n",
      "Processing Record 46 of Set 30 | salalah\n",
      "Processing Record 47 of Set 30 | nizhneyansk\n",
      "City not found. Skipping...\n",
      "Processing Record 48 of Set 30 | rio gallegos\n",
      "Processing Record 49 of Set 30 | pozo colorado\n",
      "Processing Record 50 of Set 30 | saint-francois\n",
      "Processing Record 1 of Set 31 | pangani\n",
      "Processing Record 2 of Set 31 | jamestown\n",
      "Processing Record 3 of Set 31 | bubaque\n",
      "Processing Record 4 of Set 31 | daru\n",
      "Processing Record 5 of Set 31 | west wendover\n",
      "Processing Record 6 of Set 31 | la rioja\n",
      "Processing Record 7 of Set 31 | wuwei\n",
      "Processing Record 8 of Set 31 | general roca\n",
      "Processing Record 9 of Set 31 | rundu\n",
      "Processing Record 10 of Set 31 | medford\n",
      "Processing Record 11 of Set 31 | ati\n",
      "Processing Record 12 of Set 31 | gondanglegi\n",
      "Processing Record 13 of Set 31 | calabozo\n",
      "Processing Record 14 of Set 31 | caravelas\n",
      "Processing Record 15 of Set 31 | kiunga\n",
      "Processing Record 16 of Set 31 | faya\n",
      "Processing Record 17 of Set 31 | mys shmidta\n",
      "City not found. Skipping...\n",
      "Processing Record 18 of Set 31 | kirovskiy\n",
      "Processing Record 19 of Set 31 | abu zabad\n",
      "Processing Record 20 of Set 31 | karasjok\n",
      "Processing Record 21 of Set 31 | atambua\n",
      "Processing Record 22 of Set 31 | nalut\n",
      "Processing Record 23 of Set 31 | paamiut\n",
      "Processing Record 24 of Set 31 | shache\n",
      "Processing Record 25 of Set 31 | warqla\n",
      "City not found. Skipping...\n",
      "Processing Record 26 of Set 31 | louisbourg\n",
      "City not found. Skipping...\n",
      "Processing Record 27 of Set 31 | pevek\n",
      "Processing Record 28 of Set 31 | weihe\n",
      "Processing Record 29 of Set 31 | seymchan\n",
      "Processing Record 30 of Set 31 | athabasca\n",
      "Processing Record 31 of Set 31 | rawson\n",
      "Processing Record 32 of Set 31 | gat\n",
      "Processing Record 33 of Set 31 | bemidji\n",
      "Processing Record 34 of Set 31 | concepcion del oro\n",
      "Processing Record 35 of Set 31 | georgiyevka\n",
      "Processing Record 36 of Set 31 | shumskiy\n",
      "Processing Record 37 of Set 31 | bairiki\n",
      "Processing Record 38 of Set 31 | sao miguel do araguaia\n",
      "Processing Record 39 of Set 31 | krasnoselkup\n",
      "Processing Record 40 of Set 31 | pangody\n",
      "Processing Record 41 of Set 31 | olafsvik\n",
      "Processing Record 42 of Set 31 | sterling\n",
      "Processing Record 43 of Set 31 | port blair\n",
      "Processing Record 44 of Set 31 | pokhara\n",
      "Processing Record 45 of Set 31 | half moon bay\n",
      "Processing Record 46 of Set 31 | bendigo\n",
      "Processing Record 47 of Set 31 | petropavlovsk-kamchatskiy\n",
      "Processing Record 48 of Set 31 | karratha\n",
      "Processing Record 49 of Set 31 | najran\n",
      "Processing Record 50 of Set 31 | naftah\n",
      "City not found. Skipping...\n",
      "Processing Record 1 of Set 32 | umm kaddadah\n",
      "Processing Record 2 of Set 32 | mount isa\n",
      "Processing Record 3 of Set 32 | borzya\n",
      "Processing Record 4 of Set 32 | flin flon\n",
      "Processing Record 5 of Set 32 | toora-khem\n",
      "Processing Record 6 of Set 32 | pringsewu\n",
      "Processing Record 7 of Set 32 | panama city\n",
      "Processing Record 8 of Set 32 | kang\n",
      "Processing Record 9 of Set 32 | kahului\n",
      "Processing Record 10 of Set 32 | dolbeau\n",
      "City not found. Skipping...\n",
      "Processing Record 11 of Set 32 | dicabisagan\n",
      "Processing Record 12 of Set 32 | fare\n",
      "Processing Record 13 of Set 32 | takaka\n",
      "Processing Record 14 of Set 32 | san quintin\n",
      "Processing Record 15 of Set 32 | asht\n",
      "City not found. Skipping...\n",
      "Processing Record 16 of Set 32 | port-gentil\n",
      "Processing Record 17 of Set 32 | praia da vitoria\n",
      "Processing Record 18 of Set 32 | falealupo\n",
      "City not found. Skipping...\n",
      "Processing Record 19 of Set 32 | sao joao da barra\n",
      "Processing Record 20 of Set 32 | wad rawah\n",
      "Processing Record 21 of Set 32 | ostrovnoy\n",
      "Processing Record 22 of Set 32 | mahebourg\n",
      "Processing Record 23 of Set 32 | asau\n",
      "Processing Record 24 of Set 32 | tome-acu\n",
      "City not found. Skipping...\n",
      "Processing Record 25 of Set 32 | worland\n",
      "Processing Record 26 of Set 32 | revelstoke\n",
      "Processing Record 27 of Set 32 | ferrol\n",
      "Processing Record 28 of Set 32 | valparaiso\n",
      "Processing Record 29 of Set 32 | wanlaweyn\n",
      "Processing Record 30 of Set 32 | solhan\n",
      "Processing Record 31 of Set 32 | vaitupu\n",
      "City not found. Skipping...\n",
      "Processing Record 32 of Set 32 | akot\n",
      "Processing Record 33 of Set 32 | kirakira\n",
      "Processing Record 34 of Set 32 | aklavik\n",
      "Processing Record 35 of Set 32 | deep river\n",
      "Processing Record 36 of Set 32 | san jose\n",
      "Processing Record 37 of Set 32 | talnakh\n",
      "Processing Record 38 of Set 32 | rocha\n",
      "Processing Record 39 of Set 32 | benjamin constant\n",
      "Processing Record 40 of Set 32 | alofi\n",
      "Processing Record 41 of Set 32 | camacupa\n",
      "Processing Record 42 of Set 32 | tripoli\n",
      "Processing Record 43 of Set 32 | umzimvubu\n",
      "City not found. Skipping...\n",
      "Processing Record 44 of Set 32 | utiroa\n",
      "City not found. Skipping...\n",
      "Processing Record 45 of Set 32 | ulkan\n",
      "Processing Record 46 of Set 32 | marawi\n",
      "Processing Record 47 of Set 32 | vicuna\n",
      "Processing Record 48 of Set 32 | simao\n",
      "Processing Record 49 of Set 32 | margate\n",
      "Processing Record 50 of Set 32 | vraca\n",
      "Processing Record 1 of Set 33 | linxia\n",
      "Processing Record 2 of Set 33 | roald\n",
      "Processing Record 3 of Set 33 | galgani\n",
      "City not found. Skipping...\n",
      "Processing Record 4 of Set 33 | ouesso\n",
      "Processing Record 5 of Set 33 | pyapon\n",
      "Processing Record 6 of Set 33 | offa\n",
      "Processing Record 7 of Set 33 | lorengau\n",
      "Processing Record 8 of Set 33 | charters towers\n",
      "Processing Record 9 of Set 33 | tumannyy\n",
      "City not found. Skipping...\n",
      "Processing Record 10 of Set 33 | sabibah\n",
      "City not found. Skipping...\n",
      "Processing Record 11 of Set 33 | tabiauea\n",
      "City not found. Skipping...\n",
      "Processing Record 12 of Set 33 | meulaboh\n",
      "Processing Record 13 of Set 33 | amontada\n",
      "Processing Record 14 of Set 33 | mahabad\n",
      "Processing Record 15 of Set 33 | kindu\n",
      "Processing Record 16 of Set 33 | jaguarari\n",
      "Processing Record 17 of Set 33 | sawakin\n",
      "Processing Record 18 of Set 33 | tuatapere\n",
      "Processing Record 19 of Set 33 | berdigestyakh\n",
      "Processing Record 20 of Set 33 | bykovo\n",
      "Processing Record 21 of Set 33 | igarka\n",
      "Processing Record 22 of Set 33 | aksha\n",
      "Processing Record 23 of Set 33 | kavaratti\n",
      "Processing Record 24 of Set 33 | moron\n",
      "Processing Record 25 of Set 33 | iqaluit\n",
      "Processing Record 26 of Set 33 | baculin\n",
      "Processing Record 27 of Set 33 | luwuk\n",
      "Processing Record 28 of Set 33 | souillac\n",
      "Processing Record 29 of Set 33 | aquiraz\n",
      "Processing Record 30 of Set 33 | sainte-marie\n",
      "Processing Record 31 of Set 33 | usinsk\n",
      "Processing Record 32 of Set 33 | olinda\n",
      "Processing Record 33 of Set 33 | opuwo\n",
      "Processing Record 34 of Set 33 | bandarbeyla\n",
      "Processing Record 35 of Set 33 | leh\n",
      "Processing Record 36 of Set 33 | goma\n",
      "Processing Record 37 of Set 33 | cheney\n",
      "Processing Record 38 of Set 33 | karpathos\n",
      "Processing Record 39 of Set 33 | pervoye maya\n",
      "Processing Record 40 of Set 33 | ammon\n",
      "Processing Record 41 of Set 33 | maloy\n",
      "Processing Record 42 of Set 33 | tahta\n",
      "Processing Record 43 of Set 33 | dingle\n",
      "Processing Record 44 of Set 33 | rovaniemi\n",
      "Processing Record 45 of Set 33 | iwaki\n",
      "Processing Record 46 of Set 33 | dalnerechensk\n",
      "Processing Record 47 of Set 33 | harper\n",
      "Processing Record 48 of Set 33 | keningau\n",
      "Processing Record 49 of Set 33 | porto belo\n",
      "Processing Record 50 of Set 33 | buala\n",
      "Processing Record 1 of Set 34 | barcelos\n",
      "Processing Record 2 of Set 34 | sorvag\n",
      "City not found. Skipping...\n",
      "Processing Record 3 of Set 34 | houston\n",
      "Processing Record 4 of Set 34 | tilichiki\n",
      "Processing Record 5 of Set 34 | wajima\n",
      "Processing Record 6 of Set 34 | darhan\n",
      "Processing Record 7 of Set 34 | abu samrah\n",
      "Processing Record 8 of Set 34 | kabo\n",
      "Processing Record 9 of Set 34 | sur\n",
      "Processing Record 10 of Set 34 | sentyabrskiy\n",
      "City not found. Skipping...\n",
      "Processing Record 11 of Set 34 | san policarpo\n",
      "Processing Record 12 of Set 34 | grindavik\n",
      "Processing Record 13 of Set 34 | lavras\n",
      "Processing Record 14 of Set 34 | alenquer\n",
      "Processing Record 15 of Set 34 | strezhevoy\n",
      "Processing Record 16 of Set 34 | gualan\n",
      "Processing Record 17 of Set 34 | thongwa\n",
      "Processing Record 18 of Set 34 | randfontein\n",
      "Processing Record 19 of Set 34 | alugan\n",
      "Processing Record 20 of Set 34 | tiznit\n",
      "Processing Record 21 of Set 34 | morondava\n",
      "Processing Record 22 of Set 34 | kedougou\n",
      "Processing Record 23 of Set 34 | dunedin\n",
      "Processing Record 24 of Set 34 | pitimbu\n",
      "Processing Record 25 of Set 34 | onega\n",
      "Processing Record 26 of Set 34 | pravia\n",
      "Processing Record 27 of Set 34 | wanning\n",
      "Processing Record 28 of Set 34 | teahupoo\n",
      "Processing Record 29 of Set 34 | nuoro\n",
      "Processing Record 30 of Set 34 | aasiaat\n",
      "Processing Record 31 of Set 34 | tsihombe\n",
      "City not found. Skipping...\n",
      "Processing Record 32 of Set 34 | paita\n",
      "Processing Record 33 of Set 34 | vyshkov\n",
      "Processing Record 34 of Set 34 | berck\n",
      "Processing Record 35 of Set 34 | longyearbyen\n",
      "Processing Record 36 of Set 34 | hobyo\n",
      "Processing Record 37 of Set 34 | motala\n",
      "Processing Record 38 of Set 34 | havelock\n",
      "Processing Record 39 of Set 34 | wairoa\n",
      "Processing Record 40 of Set 34 | chebsara\n",
      "Processing Record 41 of Set 34 | along\n",
      "Processing Record 42 of Set 34 | chipinge\n",
      "Processing Record 43 of Set 34 | zhangye\n",
      "Processing Record 44 of Set 34 | srednekolymsk\n",
      "Processing Record 45 of Set 34 | kelo\n",
      "Processing Record 46 of Set 34 | campbellton\n",
      "Processing Record 47 of Set 34 | cooma\n",
      "Processing Record 48 of Set 34 | quatre cocos\n",
      "Processing Record 49 of Set 34 | ikongo\n",
      "Processing Record 50 of Set 34 | praya\n",
      "Processing Record 1 of Set 35 | vanimo\n",
      "Processing Record 2 of Set 35 | paracuru\n",
      "Processing Record 3 of Set 35 | makakilo city\n",
      "Processing Record 4 of Set 35 | castanos\n",
      "Processing Record 5 of Set 35 | claveria\n",
      "Processing Record 6 of Set 35 | okhotsk\n",
      "Processing Record 7 of Set 35 | samarai\n",
      "Processing Record 8 of Set 35 | mahon\n",
      "Processing Record 9 of Set 35 | tansen\n",
      "Processing Record 10 of Set 35 | mikhaylovka\n",
      "Processing Record 11 of Set 35 | santa maria\n",
      "Processing Record 12 of Set 35 | ziro\n",
      "Processing Record 13 of Set 35 | iskateley\n",
      "Processing Record 14 of Set 35 | lasa\n",
      "Processing Record 15 of Set 35 | hovd\n",
      "Processing Record 16 of Set 35 | van buren\n",
      "Processing Record 17 of Set 35 | tall kayf\n",
      "Processing Record 18 of Set 35 | vilcun\n",
      "Processing Record 19 of Set 35 | saint george\n",
      "Processing Record 20 of Set 35 | ayan\n",
      "Processing Record 21 of Set 35 | sivas\n",
      "Processing Record 22 of Set 35 | carutapera\n",
      "Processing Record 23 of Set 35 | biak\n",
      "Processing Record 24 of Set 35 | culpeper\n",
      "Processing Record 25 of Set 35 | quatis\n",
      "Processing Record 26 of Set 35 | vestmannaeyjar\n",
      "Processing Record 27 of Set 35 | san pedro\n",
      "Processing Record 28 of Set 35 | miri\n",
      "Processing Record 29 of Set 35 | hualmay\n",
      "Processing Record 30 of Set 35 | shimoda\n",
      "Processing Record 31 of Set 35 | kushima\n",
      "Processing Record 32 of Set 35 | baykit\n",
      "Processing Record 33 of Set 35 | frontera\n",
      "Processing Record 34 of Set 35 | viytivka\n",
      "Processing Record 35 of Set 35 | mahalapye\n",
      "Processing Record 36 of Set 35 | pangnirtung\n",
      "Processing Record 37 of Set 35 | florianopolis\n",
      "Processing Record 38 of Set 35 | magadi\n",
      "Processing Record 39 of Set 35 | hvammstangi\n",
      "City not found. Skipping...\n",
      "Processing Record 40 of Set 35 | waingapu\n",
      "Processing Record 41 of Set 35 | olivenza\n",
      "Processing Record 42 of Set 35 | tanout\n",
      "Processing Record 43 of Set 35 | bengkulu\n",
      "Processing Record 44 of Set 35 | arys\n",
      "Processing Record 45 of Set 35 | saint-louis\n",
      "Processing Record 46 of Set 35 | lampa\n",
      "Processing Record 47 of Set 35 | barda\n",
      "Processing Record 48 of Set 35 | comodoro rivadavia\n",
      "Processing Record 49 of Set 35 | karauzyak\n",
      "City not found. Skipping...\n",
      "Processing Record 50 of Set 35 | gazni\n",
      "City not found. Skipping...\n",
      "Processing Record 1 of Set 36 | sangar\n",
      "Processing Record 2 of Set 36 | zhezkazgan\n",
      "Processing Record 3 of Set 36 | svetlogorsk\n",
      "Processing Record 4 of Set 36 | kaiserslautern\n",
      "Processing Record 5 of Set 36 | viedma\n",
      "Processing Record 6 of Set 36 | pangkalanbuun\n",
      "Processing Record 7 of Set 36 | xapuri\n",
      "Processing Record 8 of Set 36 | necochea\n",
      "Processing Record 9 of Set 36 | piacabucu\n",
      "Processing Record 10 of Set 36 | kedrovyy\n",
      "Processing Record 11 of Set 36 | severo-kurilsk\n",
      "Processing Record 12 of Set 36 | outjo\n",
      "Processing Record 13 of Set 36 | kaya\n",
      "Processing Record 14 of Set 36 | portobelo\n",
      "Processing Record 15 of Set 36 | sooke\n",
      "Processing Record 16 of Set 36 | tornio\n",
      "Processing Record 17 of Set 36 | lata\n",
      "Processing Record 18 of Set 36 | suoyarvi\n",
      "Processing Record 19 of Set 36 | mackay\n",
      "Processing Record 20 of Set 36 | nantucket\n",
      "Processing Record 21 of Set 36 | silvan\n",
      "Processing Record 22 of Set 36 | anlu\n",
      "Processing Record 23 of Set 36 | katherine\n",
      "Processing Record 24 of Set 36 | honningsvag\n",
      "Processing Record 25 of Set 36 | kieta\n",
      "Processing Record 26 of Set 36 | kiyasovo\n",
      "Processing Record 27 of Set 36 | sao domingos\n",
      "Processing Record 28 of Set 36 | cuamba\n",
      "Processing Record 29 of Set 36 | ust-kamchatsk\n",
      "City not found. Skipping...\n",
      "Processing Record 30 of Set 36 | ginir\n",
      "Processing Record 31 of Set 36 | aksarka\n",
      "Processing Record 32 of Set 36 | mizan teferi\n",
      "Processing Record 33 of Set 36 | kropotkin\n",
      "Processing Record 34 of Set 36 | kysyl-syr\n",
      "Processing Record 35 of Set 36 | karakendzha\n",
      "City not found. Skipping...\n",
      "Processing Record 36 of Set 36 | beyneu\n",
      "Processing Record 37 of Set 36 | ambon\n",
      "Processing Record 38 of Set 36 | altus\n",
      "Processing Record 39 of Set 36 | san patricio\n",
      "Processing Record 40 of Set 36 | slantsy\n",
      "Processing Record 41 of Set 36 | marzuq\n",
      "Processing Record 42 of Set 36 | mahibadhoo\n",
      "Processing Record 43 of Set 36 | seoul\n",
      "Processing Record 44 of Set 36 | te anau\n",
      "Processing Record 45 of Set 36 | chalmette\n",
      "Processing Record 46 of Set 36 | saint-pierre\n",
      "Processing Record 47 of Set 36 | shitanjing\n",
      "Processing Record 48 of Set 36 | suntar\n",
      "Processing Record 49 of Set 36 | marcona\n",
      "City not found. Skipping...\n",
      "Processing Record 50 of Set 36 | svetlaya\n",
      "Processing Record 1 of Set 37 | butembo\n",
      "Processing Record 2 of Set 37 | noumea\n",
      "Processing Record 3 of Set 37 | kamarion\n",
      "Processing Record 4 of Set 37 | pilar\n",
      "Processing Record 5 of Set 37 | punta alta\n",
      "Processing Record 6 of Set 37 | pokosnoye\n",
      "Processing Record 7 of Set 37 | deltona\n",
      "Processing Record 8 of Set 37 | novouzensk\n",
      "Processing Record 9 of Set 37 | clifton\n",
      "Processing Record 10 of Set 37 | hambantota\n",
      "Processing Record 11 of Set 37 | khash\n",
      "Processing Record 12 of Set 37 | zharkovskiy\n",
      "Processing Record 13 of Set 37 | whitehorse\n",
      "Processing Record 14 of Set 37 | hamilton\n",
      "Processing Record 15 of Set 37 | macas\n",
      "Processing Record 16 of Set 37 | pendleton\n",
      "Processing Record 17 of Set 37 | kokemaki\n",
      "Processing Record 18 of Set 37 | malanje\n",
      "Processing Record 19 of Set 37 | barra do garcas\n",
      "-----------------------------\n",
      "Data Retrieval Complete      \n",
      "-----------------------------\n"
     ]
    }
   ],
   "source": [
    "# Loop through all the cities in the list.\n",
    "for i, city in enumerate(cities):\n",
    "\n",
    "    # Group cities in sets of 50 for logging purposes.\n",
    "    if (i % 50 == 0 and i >= 50):\n",
    "        set_count += 1\n",
    "        record_count = 1\n",
    "    # Create endpoint URL with each city.\n",
    "    city_url = url + \"&q=\" + city.replace(\" \",\"+\")\n",
    "\n",
    "    # Log the URL, record, and set numbers and the city.\n",
    "    print(f\"Processing Record {record_count} of Set {set_count} | {city}\")\n",
    "    # Add 1 to the record count.\n",
    "    record_count += 1\n",
    "    # Run an API request for each of the cities.\n",
    "    try:\n",
    "        # Parse the JSON and retrieve data.\n",
    "        city_weather = requests.get(city_url).json()\n",
    "        # Parse out the needed data.\n",
    "        city_lat = city_weather[\"coord\"][\"lat\"]\n",
    "        city_lng = city_weather[\"coord\"][\"lon\"]\n",
    "        city_max_temp = city_weather[\"main\"][\"temp_max\"]\n",
    "        city_humidity = city_weather[\"main\"][\"humidity\"]\n",
    "        city_clouds = city_weather[\"clouds\"][\"all\"]\n",
    "        city_wind = city_weather[\"wind\"][\"speed\"]\n",
    "        city_country = city_weather[\"sys\"][\"country\"]\n",
    "        # Convert the date to ISO standard.\n",
    "        city_date = datetime.utcfromtimestamp(city_weather[\"dt\"]).strftime('%Y-%m-%d %H:%M:%S')\n",
    "        # Append the city information into city_data list.\n",
    "        city_data.append({\"City\": city.title(),\n",
    "                          \"Lat\": city_lat,\n",
    "                          \"Lng\": city_lng,\n",
    "                          \"Max Temp\": city_max_temp,\n",
    "                          \"Humidity\": city_humidity,\n",
    "                          \"Cloudiness\": city_clouds,\n",
    "                          \"Wind Speed\": city_wind,\n",
    "                          \"Country\": city_country,\n",
    "                          \"Date\": city_date})\n",
    "\n",
    "# If an error is experienced, skip the city.\n",
    "    except:\n",
    "        print(\"City not found. Skipping...\")\n",
    "        pass\n",
    "\n",
    "# Indicate that Data Loading is complete.\n",
    "print(\"-----------------------------\")\n",
    "print(\"Data Retrieval Complete      \")\n",
    "print(\"-----------------------------\")"
   ]
  },
  {
   "cell_type": "code",
   "execution_count": 24,
   "metadata": {},
   "outputs": [
    {
     "output_type": "execute_result",
     "data": {
      "text/plain": [
       "           City      Lat       Lng  Max Temp  Humidity  Cloudiness  \\\n",
       "0        Dikson  73.5069   80.5464     29.46        97         100   \n",
       "1   Port Alfred -33.5906   26.8910     54.91        66           0   \n",
       "2        Polson  47.6936 -114.1632     85.26        38          11   \n",
       "3       Rikitea -23.1203 -134.9692     73.85        82          67   \n",
       "4  Novaya Bryan  51.7159  108.2691     48.97        52           7   \n",
       "5        Moerai -22.4333 -151.3333     76.98        77          69   \n",
       "6    Chokurdakh  70.6333  147.9167     54.18        78         100   \n",
       "7         Airai  -8.9266  125.4092     57.38        91          62   \n",
       "8  Puerto Ayora  -0.7393  -90.3518     76.55        82          70   \n",
       "9      Hermanus -34.4187   19.2345     53.91        84           9   \n",
       "\n",
       "   Wind Speed Country                 Date  \n",
       "0       14.92      RU  2021-06-04 21:00:08  \n",
       "1        8.10      ZA  2021-06-04 21:00:10  \n",
       "2        5.01      US  2021-06-04 21:00:10  \n",
       "3       11.81      PF  2021-06-04 21:00:10  \n",
       "4        2.84      RU  2021-06-04 21:00:11  \n",
       "5        6.64      PF  2021-06-04 21:00:11  \n",
       "6        4.38      RU  2021-06-04 21:00:11  \n",
       "7        3.00      TL  2021-06-04 21:00:12  \n",
       "8        5.99      EC  2021-06-04 21:00:12  \n",
       "9       10.54      ZA  2021-06-04 21:00:13  "
      ],
      "text/html": "<div>\n<style scoped>\n    .dataframe tbody tr th:only-of-type {\n        vertical-align: middle;\n    }\n\n    .dataframe tbody tr th {\n        vertical-align: top;\n    }\n\n    .dataframe thead th {\n        text-align: right;\n    }\n</style>\n<table border=\"1\" class=\"dataframe\">\n  <thead>\n    <tr style=\"text-align: right;\">\n      <th></th>\n      <th>City</th>\n      <th>Lat</th>\n      <th>Lng</th>\n      <th>Max Temp</th>\n      <th>Humidity</th>\n      <th>Cloudiness</th>\n      <th>Wind Speed</th>\n      <th>Country</th>\n      <th>Date</th>\n    </tr>\n  </thead>\n  <tbody>\n    <tr>\n      <th>0</th>\n      <td>Dikson</td>\n      <td>73.5069</td>\n      <td>80.5464</td>\n      <td>29.46</td>\n      <td>97</td>\n      <td>100</td>\n      <td>14.92</td>\n      <td>RU</td>\n      <td>2021-06-04 21:00:08</td>\n    </tr>\n    <tr>\n      <th>1</th>\n      <td>Port Alfred</td>\n      <td>-33.5906</td>\n      <td>26.8910</td>\n      <td>54.91</td>\n      <td>66</td>\n      <td>0</td>\n      <td>8.10</td>\n      <td>ZA</td>\n      <td>2021-06-04 21:00:10</td>\n    </tr>\n    <tr>\n      <th>2</th>\n      <td>Polson</td>\n      <td>47.6936</td>\n      <td>-114.1632</td>\n      <td>85.26</td>\n      <td>38</td>\n      <td>11</td>\n      <td>5.01</td>\n      <td>US</td>\n      <td>2021-06-04 21:00:10</td>\n    </tr>\n    <tr>\n      <th>3</th>\n      <td>Rikitea</td>\n      <td>-23.1203</td>\n      <td>-134.9692</td>\n      <td>73.85</td>\n      <td>82</td>\n      <td>67</td>\n      <td>11.81</td>\n      <td>PF</td>\n      <td>2021-06-04 21:00:10</td>\n    </tr>\n    <tr>\n      <th>4</th>\n      <td>Novaya Bryan</td>\n      <td>51.7159</td>\n      <td>108.2691</td>\n      <td>48.97</td>\n      <td>52</td>\n      <td>7</td>\n      <td>2.84</td>\n      <td>RU</td>\n      <td>2021-06-04 21:00:11</td>\n    </tr>\n    <tr>\n      <th>5</th>\n      <td>Moerai</td>\n      <td>-22.4333</td>\n      <td>-151.3333</td>\n      <td>76.98</td>\n      <td>77</td>\n      <td>69</td>\n      <td>6.64</td>\n      <td>PF</td>\n      <td>2021-06-04 21:00:11</td>\n    </tr>\n    <tr>\n      <th>6</th>\n      <td>Chokurdakh</td>\n      <td>70.6333</td>\n      <td>147.9167</td>\n      <td>54.18</td>\n      <td>78</td>\n      <td>100</td>\n      <td>4.38</td>\n      <td>RU</td>\n      <td>2021-06-04 21:00:11</td>\n    </tr>\n    <tr>\n      <th>7</th>\n      <td>Airai</td>\n      <td>-8.9266</td>\n      <td>125.4092</td>\n      <td>57.38</td>\n      <td>91</td>\n      <td>62</td>\n      <td>3.00</td>\n      <td>TL</td>\n      <td>2021-06-04 21:00:12</td>\n    </tr>\n    <tr>\n      <th>8</th>\n      <td>Puerto Ayora</td>\n      <td>-0.7393</td>\n      <td>-90.3518</td>\n      <td>76.55</td>\n      <td>82</td>\n      <td>70</td>\n      <td>5.99</td>\n      <td>EC</td>\n      <td>2021-06-04 21:00:12</td>\n    </tr>\n    <tr>\n      <th>9</th>\n      <td>Hermanus</td>\n      <td>-34.4187</td>\n      <td>19.2345</td>\n      <td>53.91</td>\n      <td>84</td>\n      <td>9</td>\n      <td>10.54</td>\n      <td>ZA</td>\n      <td>2021-06-04 21:00:13</td>\n    </tr>\n  </tbody>\n</table>\n</div>"
     },
     "metadata": {},
     "execution_count": 24
    }
   ],
   "source": [
    "# Convert the array of dictionaries to a Pandas DataFrame.\n",
    "city_data_df = pd.DataFrame(city_data)\n",
    "city_data_df.head(10)"
   ]
  },
  {
   "cell_type": "code",
   "execution_count": 28,
   "metadata": {},
   "outputs": [
    {
     "output_type": "execute_result",
     "data": {
      "text/plain": [
       "           City Country                 Date      Lat       Lng  Max Temp  \\\n",
       "0        Dikson      RU  2021-06-04 21:00:08  73.5069   80.5464     29.46   \n",
       "1   Port Alfred      ZA  2021-06-04 21:00:10 -33.5906   26.8910     54.91   \n",
       "2        Polson      US  2021-06-04 21:00:10  47.6936 -114.1632     85.26   \n",
       "3       Rikitea      PF  2021-06-04 21:00:10 -23.1203 -134.9692     73.85   \n",
       "4  Novaya Bryan      RU  2021-06-04 21:00:11  51.7159  108.2691     48.97   \n",
       "5        Moerai      PF  2021-06-04 21:00:11 -22.4333 -151.3333     76.98   \n",
       "6    Chokurdakh      RU  2021-06-04 21:00:11  70.6333  147.9167     54.18   \n",
       "7         Airai      TL  2021-06-04 21:00:12  -8.9266  125.4092     57.38   \n",
       "8  Puerto Ayora      EC  2021-06-04 21:00:12  -0.7393  -90.3518     76.55   \n",
       "9      Hermanus      ZA  2021-06-04 21:00:13 -34.4187   19.2345     53.91   \n",
       "\n",
       "   Humidity  Cloudiness  Wind Speed  \n",
       "0        97         100       14.92  \n",
       "1        66           0        8.10  \n",
       "2        38          11        5.01  \n",
       "3        82          67       11.81  \n",
       "4        52           7        2.84  \n",
       "5        77          69        6.64  \n",
       "6        78         100        4.38  \n",
       "7        91          62        3.00  \n",
       "8        82          70        5.99  \n",
       "9        84           9       10.54  "
      ],
      "text/html": "<div>\n<style scoped>\n    .dataframe tbody tr th:only-of-type {\n        vertical-align: middle;\n    }\n\n    .dataframe tbody tr th {\n        vertical-align: top;\n    }\n\n    .dataframe thead th {\n        text-align: right;\n    }\n</style>\n<table border=\"1\" class=\"dataframe\">\n  <thead>\n    <tr style=\"text-align: right;\">\n      <th></th>\n      <th>City</th>\n      <th>Country</th>\n      <th>Date</th>\n      <th>Lat</th>\n      <th>Lng</th>\n      <th>Max Temp</th>\n      <th>Humidity</th>\n      <th>Cloudiness</th>\n      <th>Wind Speed</th>\n    </tr>\n  </thead>\n  <tbody>\n    <tr>\n      <th>0</th>\n      <td>Dikson</td>\n      <td>RU</td>\n      <td>2021-06-04 21:00:08</td>\n      <td>73.5069</td>\n      <td>80.5464</td>\n      <td>29.46</td>\n      <td>97</td>\n      <td>100</td>\n      <td>14.92</td>\n    </tr>\n    <tr>\n      <th>1</th>\n      <td>Port Alfred</td>\n      <td>ZA</td>\n      <td>2021-06-04 21:00:10</td>\n      <td>-33.5906</td>\n      <td>26.8910</td>\n      <td>54.91</td>\n      <td>66</td>\n      <td>0</td>\n      <td>8.10</td>\n    </tr>\n    <tr>\n      <th>2</th>\n      <td>Polson</td>\n      <td>US</td>\n      <td>2021-06-04 21:00:10</td>\n      <td>47.6936</td>\n      <td>-114.1632</td>\n      <td>85.26</td>\n      <td>38</td>\n      <td>11</td>\n      <td>5.01</td>\n    </tr>\n    <tr>\n      <th>3</th>\n      <td>Rikitea</td>\n      <td>PF</td>\n      <td>2021-06-04 21:00:10</td>\n      <td>-23.1203</td>\n      <td>-134.9692</td>\n      <td>73.85</td>\n      <td>82</td>\n      <td>67</td>\n      <td>11.81</td>\n    </tr>\n    <tr>\n      <th>4</th>\n      <td>Novaya Bryan</td>\n      <td>RU</td>\n      <td>2021-06-04 21:00:11</td>\n      <td>51.7159</td>\n      <td>108.2691</td>\n      <td>48.97</td>\n      <td>52</td>\n      <td>7</td>\n      <td>2.84</td>\n    </tr>\n    <tr>\n      <th>5</th>\n      <td>Moerai</td>\n      <td>PF</td>\n      <td>2021-06-04 21:00:11</td>\n      <td>-22.4333</td>\n      <td>-151.3333</td>\n      <td>76.98</td>\n      <td>77</td>\n      <td>69</td>\n      <td>6.64</td>\n    </tr>\n    <tr>\n      <th>6</th>\n      <td>Chokurdakh</td>\n      <td>RU</td>\n      <td>2021-06-04 21:00:11</td>\n      <td>70.6333</td>\n      <td>147.9167</td>\n      <td>54.18</td>\n      <td>78</td>\n      <td>100</td>\n      <td>4.38</td>\n    </tr>\n    <tr>\n      <th>7</th>\n      <td>Airai</td>\n      <td>TL</td>\n      <td>2021-06-04 21:00:12</td>\n      <td>-8.9266</td>\n      <td>125.4092</td>\n      <td>57.38</td>\n      <td>91</td>\n      <td>62</td>\n      <td>3.00</td>\n    </tr>\n    <tr>\n      <th>8</th>\n      <td>Puerto Ayora</td>\n      <td>EC</td>\n      <td>2021-06-04 21:00:12</td>\n      <td>-0.7393</td>\n      <td>-90.3518</td>\n      <td>76.55</td>\n      <td>82</td>\n      <td>70</td>\n      <td>5.99</td>\n    </tr>\n    <tr>\n      <th>9</th>\n      <td>Hermanus</td>\n      <td>ZA</td>\n      <td>2021-06-04 21:00:13</td>\n      <td>-34.4187</td>\n      <td>19.2345</td>\n      <td>53.91</td>\n      <td>84</td>\n      <td>9</td>\n      <td>10.54</td>\n    </tr>\n  </tbody>\n</table>\n</div>"
     },
     "metadata": {},
     "execution_count": 28
    }
   ],
   "source": [
    "new_column_order = [\"City\", \"Country\", \"Date\", \"Lat\", \"Lng\", \"Max Temp\", \"Humidity\", \"Cloudiness\", \"Wind Speed\"]\n",
    "city_data_df = city_data_df[new_column_order]\n",
    "city_data_df.head(10)"
   ]
  },
  {
   "cell_type": "code",
   "execution_count": 29,
   "metadata": {},
   "outputs": [],
   "source": [
    "# Create the output file (CSV).\n",
    "output_data_file = \"weather_data/cities.csv\"\n",
    "# Export the City_Data into a CSV.\n",
    "city_data_df.to_csv(output_data_file, index_label=\"City_ID\")"
   ]
  },
  {
   "cell_type": "code",
   "execution_count": null,
   "metadata": {},
   "outputs": [],
   "source": []
  }
 ]
}